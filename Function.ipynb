{
  "nbformat": 4,
  "nbformat_minor": 0,
  "metadata": {
    "colab": {
      "provenance": [],
      "toc_visible": true,
      "include_colab_link": true
    },
    "kernelspec": {
      "name": "python3",
      "display_name": "Python 3"
    },
    "language_info": {
      "name": "python"
    }
  },
  "cells": [
    {
      "cell_type": "markdown",
      "metadata": {
        "id": "view-in-github",
        "colab_type": "text"
      },
      "source": [
        "<a href=\"https://colab.research.google.com/github/mdsujan-mridha/function-in-Python/blob/main/Function.ipynb\" target=\"_parent\"><img src=\"https://colab.research.google.com/assets/colab-badge.svg\" alt=\"Open In Colab\"/></a>"
      ]
    },
    {
      "cell_type": "markdown",
      "source": [
        "**Function**"
      ],
      "metadata": {
        "id": "u_GWH5-DX5bu"
      }
    },
    {
      "cell_type": "markdown",
      "source": [
        "**Parameter  Details**\n",
        "\n",
        "arg1, ..., argN Regular arguments\n",
        "\n",
        "*args Unnamed positional arguments\n",
        "\n",
        "kw1, ..., kwN Keyword-only arguments\n",
        "\n",
        "**kwargs The rest of keyword arguments *italicized text*\n",
        "\n",
        "Functions in Python provide organized, reusable and modular code to perform a set of specific actions. Functions\n",
        "simplify the coding process, prevent redundant logic, and make the code easier to follow. This topic describes the\n",
        "declaration and utilization of functions in Python.\n",
        "\n",
        "Python has many built-in functions like **print()**, **input(), len(). **Besides built-ins you can also create your own\n",
        "functions to do more specific jobs—these are called user-defined functions."
      ],
      "metadata": {
        "id": "E2w3mT6L4RZl"
      }
    },
    {
      "cell_type": "markdown",
      "source": [
        "# **Section 1.1: Defining and calling simple functions**"
      ],
      "metadata": {
        "id": "QKoIxyKK5GZ4"
      }
    },
    {
      "cell_type": "markdown",
      "source": [
        "Using the **def** statement is the most common way to define a function in python. This statement is a so called single\n",
        "clause compound statement with the following syntax:\n"
      ],
      "metadata": {
        "id": "kuQQz6qg5gEz"
      }
    },
    {
      "cell_type": "code",
      "execution_count": null,
      "metadata": {
        "id": "I3IaCmAT4CEq"
      },
      "outputs": [],
      "source": [
        "def function_name(parameters):\n",
        " statement(s)\n"
      ]
    },
    {
      "cell_type": "markdown",
      "source": [
        "***function_name*** is known as the identifier of the function. Since a function definition is an executable statement its\n",
        "execution binds the function name to the function object which can be called later on using the identifier.\n",
        "\n",
        "***parameters*** is an optional list of identifiers that get bound to the values supplied as arguments when the function is\n",
        "called. A function may have an arbitrary number of arguments which are separated by commas.\n",
        "\n",
        "***statement(s) – ***also known as the function body – are a nonempty sequence of statements executed each time the\n",
        "function is called. This means a function body cannot be empty, just like any indented block\n",
        "\n",
        "Here’s an example of a simple function definition which purpose is to print Hello each time it’s called:\n"
      ],
      "metadata": {
        "id": "52pzrzF56gxy"
      }
    },
    {
      "cell_type": "code",
      "source": [
        "def greet():\n",
        " print(\"Hello\")\n"
      ],
      "metadata": {
        "id": "EPKeT5Ul662-"
      },
      "execution_count": null,
      "outputs": []
    },
    {
      "cell_type": "markdown",
      "source": [
        "Now let’s call the defined greet() function:"
      ],
      "metadata": {
        "id": "yTd79U4S7w7E"
      }
    },
    {
      "cell_type": "code",
      "source": [
        "greet()"
      ],
      "metadata": {
        "colab": {
          "base_uri": "https://localhost:8080/"
        },
        "id": "d4tqyujy7zde",
        "outputId": "4f1d7ca3-2e1a-4810-eff2-ff5352d07c84"
      },
      "execution_count": null,
      "outputs": [
        {
          "output_type": "stream",
          "name": "stdout",
          "text": [
            "Hello\n"
          ]
        }
      ]
    },
    {
      "cell_type": "markdown",
      "source": [
        "That’s another example of a function definition which takes one single argument and displays the passed in value\n",
        "each time the function is called:"
      ],
      "metadata": {
        "id": "O8M64-tW7-gu"
      }
    },
    {
      "cell_type": "code",
      "source": [
        "def greet_two(greeting):\n",
        " print(greeting)"
      ],
      "metadata": {
        "id": "AXHM38xy8BtN"
      },
      "execution_count": null,
      "outputs": []
    },
    {
      "cell_type": "markdown",
      "source": [
        "After that the ***greet_two()*** function must be called with an argument:\n"
      ],
      "metadata": {
        "id": "LEMXUv7F8rUa"
      }
    },
    {
      "cell_type": "code",
      "source": [
        "greet_two(\"sujan\")"
      ],
      "metadata": {
        "colab": {
          "base_uri": "https://localhost:8080/"
        },
        "id": "yIRstYbd81Li",
        "outputId": "18775f0b-45b2-46ea-e783-1d9df21c5a09"
      },
      "execution_count": null,
      "outputs": [
        {
          "output_type": "stream",
          "name": "stdout",
          "text": [
            "sujan\n"
          ]
        }
      ]
    },
    {
      "cell_type": "markdown",
      "source": [
        "Also you can give a default value to that function argument:"
      ],
      "metadata": {
        "id": "0GUkTb4Q8843"
      }
    },
    {
      "cell_type": "code",
      "source": [
        "def greet_two(greeting=\"Relation ship\"):\n",
        " print(greeting)"
      ],
      "metadata": {
        "id": "NBhLQbK69Dsv"
      },
      "execution_count": null,
      "outputs": []
    },
    {
      "cell_type": "markdown",
      "source": [
        "Now you can call the function without giving a value:"
      ],
      "metadata": {
        "id": "DlfmeioT9LrZ"
      }
    },
    {
      "cell_type": "code",
      "source": [
        "greet_two()"
      ],
      "metadata": {
        "colab": {
          "base_uri": "https://localhost:8080/"
        },
        "id": "7XjWUskF9M5W",
        "outputId": "ec9efe27-aef9-4f12-8041-2d95237d7895"
      },
      "execution_count": null,
      "outputs": [
        {
          "output_type": "stream",
          "name": "stdout",
          "text": [
            "Relation ship\n"
          ]
        }
      ]
    },
    {
      "cell_type": "markdown",
      "source": [
        "You'll notice that unlike many other languages, you do not need to explicitly declare a return type of the function.\n",
        "Python functions can return values of any type via the ***`return`*** keyword. One function can return any number of\n",
        "different types!"
      ],
      "metadata": {
        "id": "mae9kmpJ9Uvf"
      }
    },
    {
      "cell_type": "code",
      "source": [
        "def many_types(x):\n",
        " if x < 0:\n",
        "  return \"Hello!\"\n",
        " else:\n",
        "  return 0\n",
        "print(many_types(1))\n",
        "print(many_types(-1))"
      ],
      "metadata": {
        "colab": {
          "base_uri": "https://localhost:8080/"
        },
        "id": "3-EXjaIZ9f64",
        "outputId": "2b66fccf-9681-4504-e78f-e7d0633261ed"
      },
      "execution_count": null,
      "outputs": [
        {
          "output_type": "stream",
          "name": "stdout",
          "text": [
            "0\n",
            "Hello!\n"
          ]
        }
      ]
    },
    {
      "cell_type": "markdown",
      "source": [
        "As long as this is handled correctly by the caller, this is perfectly valid Python code.\n",
        "A function that reaches the end of execution without a return statement will always return None:"
      ],
      "metadata": {
        "id": "jmNORXcH9z2K"
      }
    },
    {
      "cell_type": "code",
      "source": [
        "def do_nothing():\n",
        " pass"
      ],
      "metadata": {
        "id": "No8dzodw93Sx"
      },
      "execution_count": null,
      "outputs": []
    },
    {
      "cell_type": "code",
      "source": [
        "print(do_nothing())"
      ],
      "metadata": {
        "colab": {
          "base_uri": "https://localhost:8080/"
        },
        "id": "uF0Lc2Wv97DD",
        "outputId": "e0feb0b7-735f-4836-f8fd-fa70452145d8"
      },
      "execution_count": null,
      "outputs": [
        {
          "output_type": "stream",
          "name": "stdout",
          "text": [
            "None\n"
          ]
        }
      ]
    },
    {
      "cell_type": "markdown",
      "source": [
        "As mentioned previously a function definition must have a function body, a nonempty sequence of statements.\n",
        "Therefore the pass statement is used as function body, which is a null operation – when it is executed, nothing\n",
        "happens. It does what it means, it skips. It is useful as a placeholder when a statement is required syntactically, but\n",
        "no code needs to be executed."
      ],
      "metadata": {
        "id": "op_oPz1-99_5"
      }
    },
    {
      "cell_type": "markdown",
      "source": [
        "# Section 1.2: Defining a function with an arbitrary number of arguments"
      ],
      "metadata": {
        "id": "NtRmRxNn_g-H"
      }
    },
    {
      "cell_type": "markdown",
      "source": [
        "**Arbitrary number of positional arguments:**"
      ],
      "metadata": {
        "id": "Ntpz7Y0W_ut3"
      }
    },
    {
      "cell_type": "markdown",
      "source": [
        "Defining a function capable of taking an arbitrary number of arguments can be done by prefixing one of the\n",
        "arguments with a *"
      ],
      "metadata": {
        "id": "OE2Bl6PY_ybz"
      }
    },
    {
      "cell_type": "code",
      "source": [
        "def func(*args):\n",
        " # args will be a tuple containing all values that are passed in\n",
        " for i in args:\n",
        "  print(i)\n"
      ],
      "metadata": {
        "id": "_NT0Zy99_5yA"
      },
      "execution_count": null,
      "outputs": []
    },
    {
      "cell_type": "code",
      "source": [
        "func(1, 2, 3)"
      ],
      "metadata": {
        "colab": {
          "base_uri": "https://localhost:8080/"
        },
        "id": "4lIjXpqG_-ty",
        "outputId": "6e9eddec-6c67-4c5e-aa75-d80c518d2bb7"
      },
      "execution_count": null,
      "outputs": [
        {
          "output_type": "stream",
          "name": "stdout",
          "text": [
            "1\n",
            "2\n",
            "3\n"
          ]
        }
      ]
    },
    {
      "cell_type": "code",
      "source": [
        "list_of_arg_values = [1, 2, 3]"
      ],
      "metadata": {
        "id": "AwiAbpwTAFRy"
      },
      "execution_count": null,
      "outputs": []
    },
    {
      "cell_type": "code",
      "source": [
        "func(*list_of_arg_values)"
      ],
      "metadata": {
        "colab": {
          "base_uri": "https://localhost:8080/"
        },
        "id": "m_vWsbrUAJcC",
        "outputId": "1f0c5fa3-ed9d-4aee-bf08-1e05857cbc04"
      },
      "execution_count": null,
      "outputs": [
        {
          "output_type": "stream",
          "name": "stdout",
          "text": [
            "1\n",
            "2\n",
            "3\n"
          ]
        }
      ]
    },
    {
      "cell_type": "code",
      "source": [
        "func()"
      ],
      "metadata": {
        "id": "DmxefAjhAMgM"
      },
      "execution_count": null,
      "outputs": []
    },
    {
      "cell_type": "markdown",
      "source": [
        "You can't provide a default for args, for example func`(*args=[1, 2, 3])` will raise a syntax error (won't even\n",
        "compile)."
      ],
      "metadata": {
        "id": "q-sE-oGGARtE"
      }
    },
    {
      "cell_type": "markdown",
      "source": [
        "You can't provide these by name when calling the function, for example `func(*args=[1, 2, 3])` will raise a\n",
        "TypeError."
      ],
      "metadata": {
        "id": "VpMvUc5DAaXU"
      }
    },
    {
      "cell_type": "markdown",
      "source": [
        "But if you already have your arguments in an array (or any other Iterable), you can invoke your function like this:\n",
        "func(*my_stuff) **bold text**."
      ],
      "metadata": {
        "id": "rKOOE08zAhsW"
      }
    },
    {
      "cell_type": "markdown",
      "source": [
        "These arguments (*args) can be accessed by index, for example args[0] will return the first argument"
      ],
      "metadata": {
        "id": "iKhhCrctAoYv"
      }
    },
    {
      "cell_type": "markdown",
      "source": [
        "**Arbitrary number of keyword arguments**"
      ],
      "metadata": {
        "id": "0BZzcTz4ArjH"
      }
    },
    {
      "cell_type": "markdown",
      "source": [
        "You can take an arbitrary number of arguments with a name by defining an argument in the definition with two *\n",
        "in front of it:"
      ],
      "metadata": {
        "id": "TKW7jfaVAwN_"
      }
    },
    {
      "cell_type": "code",
      "source": [
        "def func(**kwargs):\n",
        " # kwargs will be a dictionary containing the names as keys and the values as values\n",
        " for name, value in kwargs.items():\n",
        "  print(name, value)"
      ],
      "metadata": {
        "id": "NjofKwCcAy-4"
      },
      "execution_count": null,
      "outputs": []
    },
    {
      "cell_type": "code",
      "source": [
        "func(value1=1, value2=2, value3=3) # Calling it with 3 arguments"
      ],
      "metadata": {
        "colab": {
          "base_uri": "https://localhost:8080/"
        },
        "id": "le2mVoGTAWAE",
        "outputId": "44f6e5e0-4512-4210-9597-92bbc2977057"
      },
      "execution_count": null,
      "outputs": [
        {
          "output_type": "stream",
          "name": "stdout",
          "text": [
            "value1 1\n",
            "value2 2\n",
            "value3 3\n"
          ]
        }
      ]
    },
    {
      "cell_type": "code",
      "source": [
        "func() # Calling it without arguments\n",
        "\n",
        "#no output"
      ],
      "metadata": {
        "id": "A6WdL1l4KkOF"
      },
      "execution_count": null,
      "outputs": []
    },
    {
      "cell_type": "code",
      "source": [
        "my_dict = {'foo': 1, 'bar': 2}\n",
        "func(**my_dict) # Calling it with a dictionary\n",
        "# Out: foo 1\n",
        "# bar 2"
      ],
      "metadata": {
        "colab": {
          "base_uri": "https://localhost:8080/"
        },
        "id": "cb5vLf4hKsx2",
        "outputId": "e04d907c-150d-4e37-db2e-43d6d9d12294"
      },
      "execution_count": null,
      "outputs": [
        {
          "output_type": "stream",
          "name": "stdout",
          "text": [
            "foo 1\n",
            "bar 2\n"
          ]
        }
      ]
    },
    {
      "cell_type": "markdown",
      "source": [
        "You can't provide these without names, for example `func(1, 2, 3)` will raise a TypeError.\n"
      ],
      "metadata": {
        "id": "Ybu4Vr8OKS5r"
      }
    },
    {
      "cell_type": "markdown",
      "source": [
        "kwargs is a plain native python dictionary. For example, *args['value1']* will give the value for argument value1. Be\n",
        "sure to check beforehand that there is such an argument or a KeyError will be raised"
      ],
      "metadata": {
        "id": "5bxeVRisK63A"
      }
    },
    {
      "cell_type": "markdown",
      "source": [
        "**Note**\n",
        "You can mix these with other optional and required arguments but the order inside the definition matters.\n",
        "\n",
        "\n",
        "1.  The positional/keyword arguments come first. (Required arguments)\n",
        "2.  Then comes the arbitrary *arg arguments. (Optional).\n",
        "3. Then keyword-only arguments come next. (Required).\n",
        "4. Finally the arbitrary keyword **kwargs come. (Optional).\n",
        "\n",
        "\n",
        "\n"
      ],
      "metadata": {
        "id": "RtpD4_lpLAwq"
      }
    },
    {
      "cell_type": "code",
      "source": [
        "def func(arg1, arg2=10 , *args, kwarg1, kwarg2=2, **kwargs):\n",
        " pass"
      ],
      "metadata": {
        "id": "9Bf--41pMwAZ"
      },
      "execution_count": null,
      "outputs": []
    },
    {
      "cell_type": "markdown",
      "source": [
        "\n",
        "\n",
        "*   arg1 must be given, otherwise a TypeError is raised. It can be given as positional (func(10)) or keyword\n",
        "argument (func(arg1=10)).\n",
        "*   kwarg1 must also be given, but it can only be provided as keyword-argument: func(kwarg1=10).\n",
        "*  arg2 and kwarg2 are optional. If the value is to be changed the same rules as for arg1 (either positional or\n",
        "keyword) and kwarg1 (only keyword) apply\n",
        "* *args catches additional positional parameters. But note, that arg1 and arg2 must be provided as positional\n",
        "arguments to pass arguments to *args: func(1, 1, 1, 1).\n",
        "* **kwargs catches all additional keyword parameters. In this case any parameter that is not arg1, arg2,\n",
        "kwarg1 or kwarg2. For example: func(kwarg3=10).\n",
        "*  In Python 3, you can use * alone to indicate that all subsequent arguments must be specified as keywords.\n",
        "For instance the math.isclose function in Python 3.5 and higher is defined using def math.isclose (a, b,\n",
        "*, rel_tol=1e-09, abs_tol=0.0), which means the first two arguments can be supplied positionally but the\n",
        "optional third and fourth parameters can only be supplied as keyword arguments\n"
      ],
      "metadata": {
        "id": "EcwvL-THMzz9"
      }
    },
    {
      "cell_type": "markdown",
      "source": [
        "Python 2.x doesn't support keyword-only parameters. This behavior can be emulated with kwargs:\n"
      ],
      "metadata": {
        "id": "EeArzlA-NKSP"
      }
    },
    {
      "cell_type": "code",
      "source": [
        "!python setup.py install"
      ],
      "metadata": {
        "colab": {
          "base_uri": "https://localhost:8080/"
        },
        "id": "uJoKhrlPT_YJ",
        "outputId": "c1954d97-e0f9-4aab-df71-7afdf949cb50"
      },
      "execution_count": null,
      "outputs": [
        {
          "output_type": "stream",
          "name": "stdout",
          "text": [
            "python3: can't open file '/content/setup.py': [Errno 2] No such file or directory\n"
          ]
        }
      ]
    },
    {
      "cell_type": "code",
      "source": [
        "import keyword"
      ],
      "metadata": {
        "id": "H5Y8t8rlVCKR"
      },
      "execution_count": null,
      "outputs": []
    },
    {
      "cell_type": "code",
      "source": [
        "def func(arg1, arg2=10, **kwargs):\n",
        "  try:\n",
        "     kwarg1 = kwargs.pop(\"kwarg1\")\n",
        "  except KeyError:\n",
        "        raise TypeError(\"missing required keyword-only argument: 'kwarg1'\")\n",
        "kwarg2 = kwargs.pop(\"kwarg2\", 2)\n"
      ],
      "metadata": {
        "colab": {
          "base_uri": "https://localhost:8080/",
          "height": 176
        },
        "id": "xWxARbPNNl4A",
        "outputId": "4ae474cd-8a7f-41ce-ced5-1b5a670fbb1e"
      },
      "execution_count": null,
      "outputs": [
        {
          "output_type": "error",
          "ename": "NameError",
          "evalue": "name 'kwargs' is not defined",
          "traceback": [
            "\u001b[0;31m---------------------------------------------------------------------------\u001b[0m",
            "\u001b[0;31mNameError\u001b[0m                                 Traceback (most recent call last)",
            "\u001b[0;32m<ipython-input-23-d5029d8b70c8>\u001b[0m in \u001b[0;36m<cell line: 6>\u001b[0;34m()\u001b[0m\n\u001b[1;32m      4\u001b[0m   \u001b[0;32mexcept\u001b[0m \u001b[0mKeyError\u001b[0m\u001b[0;34m:\u001b[0m\u001b[0;34m\u001b[0m\u001b[0;34m\u001b[0m\u001b[0m\n\u001b[1;32m      5\u001b[0m         \u001b[0;32mraise\u001b[0m \u001b[0mTypeError\u001b[0m\u001b[0;34m(\u001b[0m\u001b[0;34m\"missing required keyword-only argument: 'kwarg1'\"\u001b[0m\u001b[0;34m)\u001b[0m\u001b[0;34m\u001b[0m\u001b[0;34m\u001b[0m\u001b[0m\n\u001b[0;32m----> 6\u001b[0;31m \u001b[0mkwarg2\u001b[0m \u001b[0;34m=\u001b[0m \u001b[0mkwargs\u001b[0m\u001b[0;34m.\u001b[0m\u001b[0mpop\u001b[0m\u001b[0;34m(\u001b[0m\u001b[0;34m\"kwarg2\"\u001b[0m\u001b[0;34m,\u001b[0m \u001b[0;36m2\u001b[0m\u001b[0;34m)\u001b[0m\u001b[0;34m\u001b[0m\u001b[0;34m\u001b[0m\u001b[0m\n\u001b[0m",
            "\u001b[0;31mNameError\u001b[0m: name 'kwargs' is not defined"
          ]
        }
      ]
    },
    {
      "cell_type": "markdown",
      "source": [
        "**Note on Naming**"
      ],
      "metadata": {
        "id": "uxocT9CyVwmN"
      }
    },
    {
      "cell_type": "markdown",
      "source": [
        "The convention of naming optional positional arguments args and optional keyword arguments kwargs is just a\n",
        "convention you can use any names you like but it is useful to follow the convention so that others know what you\n",
        "are doing, or even yourself later so please do."
      ],
      "metadata": {
        "id": "520dao8LVyZ3"
      }
    },
    {
      "cell_type": "markdown",
      "source": [
        "**Note on Uniqueness**"
      ],
      "metadata": {
        "id": "GOSJgEd5V4W-"
      }
    },
    {
      "cell_type": "markdown",
      "source": [
        "Any function can be defined with none or one *args and none or one **kwargs but not with more than one of\n",
        "each. Also *args must be the last positional argument and **kwargs must be the last parameter. Attempting to use\n",
        "more than one of either will result in a Syntax Error exception."
      ],
      "metadata": {
        "id": "XgyAp5GeV8aX"
      }
    },
    {
      "cell_type": "markdown",
      "source": [
        "**Note on Nesting Functions with Optional Arguments**"
      ],
      "metadata": {
        "id": "Y9bogn96V_sr"
      }
    },
    {
      "cell_type": "markdown",
      "source": [
        "It is possible to nest such functions and the usual convention is to remove the items that the code has already\n",
        "handled but if you are passing down the parameters you need to pass optional positional args with a * prefix and\n",
        "optional keyword args with a ** prefix, otherwise args with be passed as a list or tuple and kwargs as a single\n",
        "dictionary. e.g.:"
      ],
      "metadata": {
        "id": "ruZdGjrQWC_C"
      }
    },
    {
      "cell_type": "code",
      "source": [
        "def fn(**kwargs):\n",
        "    print(kwargs)\n",
        "    f1(**kwargs)\n"
      ],
      "metadata": {
        "id": "xrjTLH61VwS3"
      },
      "execution_count": null,
      "outputs": []
    },
    {
      "cell_type": "code",
      "source": [
        "def f1(**kwargs):\n",
        " print(len(kwargs))"
      ],
      "metadata": {
        "id": "NMG2CaYrXLBA"
      },
      "execution_count": null,
      "outputs": []
    },
    {
      "cell_type": "code",
      "source": [
        "fn(a=1, b=2)"
      ],
      "metadata": {
        "colab": {
          "base_uri": "https://localhost:8080/"
        },
        "id": "MJ5d8qB2XNzZ",
        "outputId": "23f31339-3a8c-44de-f246-ace4985b33b0"
      },
      "execution_count": null,
      "outputs": [
        {
          "output_type": "stream",
          "name": "stdout",
          "text": [
            "{'a': 1, 'b': 2}\n",
            "2\n"
          ]
        }
      ]
    },
    {
      "cell_type": "markdown",
      "source": [],
      "metadata": {
        "id": "-rXsUB6OXYK6"
      }
    },
    {
      "cell_type": "markdown",
      "source": [
        "# Section 1.3: Lambda (Inline/Anonymous) Functions"
      ],
      "metadata": {
        "id": "d6wKl09DXgXQ"
      }
    },
    {
      "cell_type": "markdown",
      "source": [
        "The lambda keyword creates an inline function that contains a single expression. The value of this expression is\n",
        "what the function returns when invoked."
      ],
      "metadata": {
        "id": "3cwl1jD9Xrtt"
      }
    },
    {
      "cell_type": "markdown",
      "source": [
        "Consider the function:"
      ],
      "metadata": {
        "id": "l4XeMUbpXuEa"
      }
    },
    {
      "cell_type": "code",
      "source": [
        "def greeting():\n",
        " return \"Hello\""
      ],
      "metadata": {
        "id": "P-c8bZLRXnic"
      },
      "execution_count": null,
      "outputs": []
    },
    {
      "cell_type": "markdown",
      "source": [
        "which, when called as:"
      ],
      "metadata": {
        "id": "e-VJLu93X1ad"
      }
    },
    {
      "cell_type": "code",
      "source": [
        "print(greeting())"
      ],
      "metadata": {
        "colab": {
          "base_uri": "https://localhost:8080/"
        },
        "id": "sCMrLWIsX3vw",
        "outputId": "9d7435b3-d50f-4ed8-d326-31ba3827b70a"
      },
      "execution_count": null,
      "outputs": [
        {
          "output_type": "stream",
          "name": "stdout",
          "text": [
            "Hello\n"
          ]
        }
      ]
    },
    {
      "cell_type": "markdown",
      "source": [
        "This can be written as a lambda function as follows:"
      ],
      "metadata": {
        "id": "ZUvTByblYDwx"
      }
    },
    {
      "cell_type": "code",
      "source": [
        "greet_me = lambda: \"Hello\""
      ],
      "metadata": {
        "id": "vhKhX2NRYFRx"
      },
      "execution_count": null,
      "outputs": []
    },
    {
      "cell_type": "markdown",
      "source": [
        "This creates an inline function with the name greet_me that returns Hello. Note that you don't write return when\n",
        "creating a function with lambda. The value after : is automatically returned."
      ],
      "metadata": {
        "id": "iTly4E-gYLnw"
      }
    },
    {
      "cell_type": "markdown",
      "source": [
        "Once assigned to a variable, it can be used just like a regular function:\n"
      ],
      "metadata": {
        "id": "7JPFKsFCYN8C"
      }
    },
    {
      "cell_type": "code",
      "source": [
        "print(greet_me())"
      ],
      "metadata": {
        "colab": {
          "base_uri": "https://localhost:8080/"
        },
        "id": "V-SJ9x25YPwm",
        "outputId": "f136920a-6db5-4866-81db-abf777a788a6"
      },
      "execution_count": null,
      "outputs": [
        {
          "output_type": "stream",
          "name": "stdout",
          "text": [
            "Hello\n"
          ]
        }
      ]
    },
    {
      "cell_type": "markdown",
      "source": [
        "lambdas can take arguments, too:"
      ],
      "metadata": {
        "id": "UQ-lekBgYZEr"
      }
    },
    {
      "cell_type": "code",
      "source": [
        "strip_and_upper_case = lambda s: s.strip().upper()\n",
        "strip_and_upper_case(\" Hello \")"
      ],
      "metadata": {
        "colab": {
          "base_uri": "https://localhost:8080/",
          "height": 36
        },
        "id": "oFEcqsAQYbaV",
        "outputId": "3143dac8-2f5c-4a1d-8fd4-9a1671a714fd"
      },
      "execution_count": null,
      "outputs": [
        {
          "output_type": "execute_result",
          "data": {
            "text/plain": [
              "'HELLO'"
            ],
            "application/vnd.google.colaboratory.intrinsic+json": {
              "type": "string"
            }
          },
          "metadata": {},
          "execution_count": 31
        }
      ]
    },
    {
      "cell_type": "markdown",
      "source": [
        "They can also take arbitrary number of arguments / keyword arguments, like normal functions.\n"
      ],
      "metadata": {
        "id": "kn9B5zePYhvF"
      }
    },
    {
      "cell_type": "code",
      "source": [
        "greeting = lambda x, *args, **kwargs: print(x, args, kwargs)\n",
        "greeting('hello', 'sujan', cybertron='cybertron')\n"
      ],
      "metadata": {
        "colab": {
          "base_uri": "https://localhost:8080/"
        },
        "id": "pBmNrScBYj94",
        "outputId": "b83d0efb-2f0e-4213-fd8f-e1f6be3ce9c4"
      },
      "execution_count": null,
      "outputs": [
        {
          "output_type": "stream",
          "name": "stdout",
          "text": [
            "hello ('sujan',) {'cybertron': 'cybertron'}\n"
          ]
        }
      ]
    },
    {
      "cell_type": "markdown",
      "source": [
        "lambdas are commonly used for short functions that are convenient to define at the point where they are called\n",
        "(typically with sorted, filter and map)."
      ],
      "metadata": {
        "id": "UOtzvefkYzkl"
      }
    },
    {
      "cell_type": "markdown",
      "source": [
        "For example, this line sorts a list of strings ignoring their case and ignoring whitespace at the beginning and at the\n",
        "end:\n"
      ],
      "metadata": {
        "id": "9fmu6-_pY2GF"
      }
    },
    {
      "cell_type": "code",
      "source": [
        "sorted( [\" foo \", \" bAR\", \"BaZ \"], key=lambda s: s.strip().upper())"
      ],
      "metadata": {
        "colab": {
          "base_uri": "https://localhost:8080/"
        },
        "id": "YA-klBgaY4aN",
        "outputId": "9aa4d19b-4778-4473-aef7-71e24f9fd14c"
      },
      "execution_count": null,
      "outputs": [
        {
          "output_type": "execute_result",
          "data": {
            "text/plain": [
              "[' bAR', 'BaZ ', ' foo ']"
            ]
          },
          "metadata": {},
          "execution_count": 33
        }
      ]
    },
    {
      "cell_type": "markdown",
      "source": [
        "Sort list just ignoring whitespaces:\n"
      ],
      "metadata": {
        "id": "Ibphtc4aY931"
      }
    },
    {
      "cell_type": "code",
      "source": [
        "sorted( [\" foo \", \" bAR\", \"BaZ \"], key=lambda s: s.strip())"
      ],
      "metadata": {
        "colab": {
          "base_uri": "https://localhost:8080/"
        },
        "id": "besVWwQEY_fG",
        "outputId": "78f7897e-cdc2-456c-f482-bf0913c8c78f"
      },
      "execution_count": null,
      "outputs": [
        {
          "output_type": "execute_result",
          "data": {
            "text/plain": [
              "['BaZ ', ' bAR', ' foo ']"
            ]
          },
          "metadata": {},
          "execution_count": 34
        }
      ]
    },
    {
      "cell_type": "markdown",
      "source": [
        "Examples with map:\n"
      ],
      "metadata": {
        "id": "bs5LLDnjZIfm"
      }
    },
    {
      "cell_type": "code",
      "source": [
        "sorted( map( lambda s: s.strip().upper(), [\" foo \", \" bAR\", \"BaZ \"]))"
      ],
      "metadata": {
        "colab": {
          "base_uri": "https://localhost:8080/"
        },
        "id": "Ogm7xHh0ZLvH",
        "outputId": "f0bd10a4-de5c-4568-814d-a66f72027a8a"
      },
      "execution_count": null,
      "outputs": [
        {
          "output_type": "execute_result",
          "data": {
            "text/plain": [
              "['BAR', 'BAZ', 'FOO']"
            ]
          },
          "metadata": {},
          "execution_count": 35
        }
      ]
    },
    {
      "cell_type": "code",
      "source": [
        "sorted( map( lambda s: s.strip(), [\" foo \", \" bAR\", \"BaZ \"]))"
      ],
      "metadata": {
        "colab": {
          "base_uri": "https://localhost:8080/"
        },
        "id": "Sdi2Q3zZZQ1g",
        "outputId": "859d9530-e801-4a56-d6fa-e60939febf12"
      },
      "execution_count": null,
      "outputs": [
        {
          "output_type": "execute_result",
          "data": {
            "text/plain": [
              "['BaZ', 'bAR', 'foo']"
            ]
          },
          "metadata": {},
          "execution_count": 36
        }
      ]
    },
    {
      "cell_type": "markdown",
      "source": [
        "Examples with numerical lists:"
      ],
      "metadata": {
        "id": "DGiiN3-4ZTK0"
      }
    },
    {
      "cell_type": "code",
      "source": [
        "my_list = [3, -4, -2, 5, 1, 7]\n",
        "sorted( my_list, key=lambda x: abs(x))"
      ],
      "metadata": {
        "colab": {
          "base_uri": "https://localhost:8080/"
        },
        "id": "l61_GsH0ZUiv",
        "outputId": "1090f234-8628-4f3e-d6a7-0816976966fc"
      },
      "execution_count": null,
      "outputs": [
        {
          "output_type": "execute_result",
          "data": {
            "text/plain": [
              "[1, -2, 3, -4, 5, 7]"
            ]
          },
          "metadata": {},
          "execution_count": 37
        }
      ]
    },
    {
      "cell_type": "code",
      "source": [
        "list( filter( lambda x: x>0, my_list))"
      ],
      "metadata": {
        "colab": {
          "base_uri": "https://localhost:8080/"
        },
        "id": "nVgUaYoJZg0h",
        "outputId": "cfb7194e-0a3a-433c-d5f6-0e4bde0ef226"
      },
      "execution_count": null,
      "outputs": [
        {
          "output_type": "execute_result",
          "data": {
            "text/plain": [
              "[3, 5, 1, 7]"
            ]
          },
          "metadata": {},
          "execution_count": 38
        }
      ]
    },
    {
      "cell_type": "code",
      "source": [
        "list( map( lambda x: abs(x), my_list))"
      ],
      "metadata": {
        "colab": {
          "base_uri": "https://localhost:8080/"
        },
        "id": "MNQTcgEHZi66",
        "outputId": "c56db0fc-7635-46d3-d8a9-cba5f9e35a08"
      },
      "execution_count": null,
      "outputs": [
        {
          "output_type": "execute_result",
          "data": {
            "text/plain": [
              "[3, 4, 2, 5, 1, 7]"
            ]
          },
          "metadata": {},
          "execution_count": 40
        }
      ]
    },
    {
      "cell_type": "markdown",
      "source": [
        "One can call other functions (with/without arguments) from inside a lambda function."
      ],
      "metadata": {
        "id": "UV4i-09cZmAh"
      }
    },
    {
      "cell_type": "code",
      "source": [
        "def foo(msg):\n",
        " print(msg)\n"
      ],
      "metadata": {
        "id": "KtJv6RHcZp4G"
      },
      "execution_count": null,
      "outputs": []
    },
    {
      "cell_type": "code",
      "source": [
        "greet = lambda x = \"Hello Sujan\": foo(x)\n",
        "greet()\n"
      ],
      "metadata": {
        "colab": {
          "base_uri": "https://localhost:8080/"
        },
        "id": "hvO0djEYZtbl",
        "outputId": "2936e83d-90b9-4bae-d680-6fc95593c9c8"
      },
      "execution_count": null,
      "outputs": [
        {
          "output_type": "stream",
          "name": "stdout",
          "text": [
            "Hello Sujan\n"
          ]
        }
      ]
    },
    {
      "cell_type": "markdown",
      "source": [
        "This is useful because lambda may contain only one expression and by using a subsidiary function one can run\n",
        "multiple statements"
      ],
      "metadata": {
        "id": "wD8zfb6ZaBh9"
      }
    },
    {
      "cell_type": "code",
      "source": [],
      "metadata": {
        "id": "u4v7ODo2aC5S"
      },
      "execution_count": null,
      "outputs": []
    },
    {
      "cell_type": "markdown",
      "source": [
        "# Section 1.4: Defining a function with optional arguments"
      ],
      "metadata": {
        "id": "lCohiTUeaoK4"
      }
    },
    {
      "cell_type": "markdown",
      "source": [
        "Optional arguments can be defined by assigning (using =) a default value to the argument-name:\n"
      ],
      "metadata": {
        "id": "SfMSfzzYasYj"
      }
    },
    {
      "cell_type": "code",
      "source": [
        "def make(action='nothing'):\n",
        " return action\n"
      ],
      "metadata": {
        "id": "j98Pvj-tavv_"
      },
      "execution_count": null,
      "outputs": []
    },
    {
      "cell_type": "markdown",
      "source": [
        "Calling this function is possible in 3 different ways:\n"
      ],
      "metadata": {
        "id": "1872tUgJaycS"
      }
    },
    {
      "cell_type": "code",
      "source": [
        "make(\"Sujan\")"
      ],
      "metadata": {
        "colab": {
          "base_uri": "https://localhost:8080/",
          "height": 36
        },
        "id": "JATIgkUra1gA",
        "outputId": "474b9441-9142-4588-9378-e113e253e9d8"
      },
      "execution_count": null,
      "outputs": [
        {
          "output_type": "execute_result",
          "data": {
            "text/plain": [
              "'Sujan'"
            ],
            "application/vnd.google.colaboratory.intrinsic+json": {
              "type": "string"
            }
          },
          "metadata": {},
          "execution_count": 43
        }
      ]
    },
    {
      "cell_type": "code",
      "source": [
        "make(action=\"Killer frost\")\n"
      ],
      "metadata": {
        "colab": {
          "base_uri": "https://localhost:8080/",
          "height": 36
        },
        "id": "5Po0vbL1a8Eu",
        "outputId": "79386d32-9e30-4821-b2ad-4d1fd930c840"
      },
      "execution_count": null,
      "outputs": [
        {
          "output_type": "execute_result",
          "data": {
            "text/plain": [
              "'Killer frost'"
            ],
            "application/vnd.google.colaboratory.intrinsic+json": {
              "type": "string"
            }
          },
          "metadata": {},
          "execution_count": 44
        }
      ]
    },
    {
      "cell_type": "code",
      "source": [
        "make()"
      ],
      "metadata": {
        "colab": {
          "base_uri": "https://localhost:8080/",
          "height": 36
        },
        "id": "P_Equa2SbBqM",
        "outputId": "6d9b1141-e155-4da0-a7fc-a0c70edf43f3"
      },
      "execution_count": null,
      "outputs": [
        {
          "output_type": "execute_result",
          "data": {
            "text/plain": [
              "'nothing'"
            ],
            "application/vnd.google.colaboratory.intrinsic+json": {
              "type": "string"
            }
          },
          "metadata": {},
          "execution_count": 45
        }
      ]
    },
    {
      "cell_type": "markdown",
      "source": [
        "# Section 1.5: Defining a function with optional mutable arguments"
      ],
      "metadata": {
        "id": "Aaknqkflcdjc"
      }
    },
    {
      "cell_type": "markdown",
      "source": [
        "There is a problem when using optional arguments with a mutable default type (described in Defining a function\n",
        "with optional arguments), which can potentially lead to unexpected behaviour."
      ],
      "metadata": {
        "id": "zDvkd3AscFl4"
      }
    },
    {
      "cell_type": "markdown",
      "source": [
        "**Explanation**"
      ],
      "metadata": {
        "id": "oJ-H0pEwcNKc"
      }
    },
    {
      "cell_type": "markdown",
      "source": [
        "This problem arises because a function's default arguments are initialised once, at the point when the function is\n",
        "defined, and not (like many other languages) when the function is called. The default values are stored inside the\n",
        "function object's __defaults__ member variable."
      ],
      "metadata": {
        "id": "vRxtDhf9cQSN"
      }
    },
    {
      "cell_type": "code",
      "source": [
        "def f(a, b=42, c=[]):\n",
        " pass"
      ],
      "metadata": {
        "id": "dHuOQluScjS_"
      },
      "execution_count": null,
      "outputs": []
    },
    {
      "cell_type": "code",
      "source": [
        "print(f.__defaults__)\n"
      ],
      "metadata": {
        "colab": {
          "base_uri": "https://localhost:8080/"
        },
        "id": "9nO9EXgacnLY",
        "outputId": "262e071c-d8d2-4312-8255-60e3cc808ef4"
      },
      "execution_count": null,
      "outputs": [
        {
          "output_type": "stream",
          "name": "stdout",
          "text": [
            "(42, [])\n"
          ]
        }
      ]
    },
    {
      "cell_type": "markdown",
      "source": [
        "For immutable types (see Argument passing and mutability) this is not a problem because there is no way to\n",
        "mutate the variable; it can only ever be reassigned, leaving the original value unchanged. Hence, subsequent are\n",
        "guaranteed to have the same default value. However, for a mutable type, the original value can mutate, by making\n",
        "calls to its various member functions. Therefore, successive calls to the function are not guaranteed to have the\n",
        "initial default value."
      ],
      "metadata": {
        "id": "BQZfymXzcp2a"
      }
    },
    {
      "cell_type": "code",
      "source": [
        "def append(elem, to=[]):\n",
        " to.append(elem) # This call to append() mutates the default variable \"to\"\n",
        " return to"
      ],
      "metadata": {
        "id": "0HMTC7a_csbl"
      },
      "execution_count": null,
      "outputs": []
    },
    {
      "cell_type": "code",
      "source": [
        "append(1)\n"
      ],
      "metadata": {
        "colab": {
          "base_uri": "https://localhost:8080/"
        },
        "id": "ejf9k42BcvGw",
        "outputId": "7fcb1cae-0355-495e-db7a-ec0e002efb3f"
      },
      "execution_count": null,
      "outputs": [
        {
          "output_type": "execute_result",
          "data": {
            "text/plain": [
              "[1]"
            ]
          },
          "metadata": {},
          "execution_count": 49
        }
      ]
    },
    {
      "cell_type": "code",
      "source": [
        "append(2) # Appends it to the internally stored list\n"
      ],
      "metadata": {
        "colab": {
          "base_uri": "https://localhost:8080/"
        },
        "id": "HIPQV4BkcxRz",
        "outputId": "c491d4fb-224e-4bed-e013-6debc328f208"
      },
      "execution_count": null,
      "outputs": [
        {
          "output_type": "execute_result",
          "data": {
            "text/plain": [
              "[1, 2]"
            ]
          },
          "metadata": {},
          "execution_count": 50
        }
      ]
    },
    {
      "cell_type": "code",
      "source": [
        "append(3, []) # Using a new created list gives the expected result\n"
      ],
      "metadata": {
        "colab": {
          "base_uri": "https://localhost:8080/"
        },
        "id": "uUUQ7_ILczBR",
        "outputId": "a47d953d-48e1-4555-c875-b9b54c02edda"
      },
      "execution_count": null,
      "outputs": [
        {
          "output_type": "execute_result",
          "data": {
            "text/plain": [
              "[3]"
            ]
          },
          "metadata": {},
          "execution_count": 51
        }
      ]
    },
    {
      "cell_type": "code",
      "source": [
        "append(4)\n"
      ],
      "metadata": {
        "colab": {
          "base_uri": "https://localhost:8080/"
        },
        "id": "boISCD6Cc1or",
        "outputId": "6f261eed-fb29-4cc2-ebf7-445e8a585685"
      },
      "execution_count": null,
      "outputs": [
        {
          "output_type": "execute_result",
          "data": {
            "text/plain": [
              "[1, 2, 4]"
            ]
          },
          "metadata": {},
          "execution_count": 52
        }
      ]
    },
    {
      "cell_type": "markdown",
      "source": [
        "**Solution**\n"
      ],
      "metadata": {
        "id": "ezysdoamc40h"
      }
    },
    {
      "cell_type": "markdown",
      "source": [
        "If you want to ensure that the default argument is always the one you specify in the function definition, then the\n",
        "solution is to always use an immutable type as your default argument."
      ],
      "metadata": {
        "id": "hTQBWCQ2c6z7"
      }
    },
    {
      "cell_type": "markdown",
      "source": [
        "A common idiom to achieve this when a mutable type is needed as the default, is to use None (immutable) as the\n",
        "default argument and then assign the actual default value to the argument variable if it is equal to None."
      ],
      "metadata": {
        "id": "bhEbR-MZc-xo"
      }
    },
    {
      "cell_type": "code",
      "source": [
        "def append(elem, to=None):\n",
        " if to is None:\n",
        "    to = []\n",
        "    to.append(elem)\n",
        "    return to\n"
      ],
      "metadata": {
        "id": "qxcy_2CXdBvL"
      },
      "execution_count": null,
      "outputs": []
    },
    {
      "cell_type": "markdown",
      "source": [
        "# Section 1.6: Argument passing and mutability\n"
      ],
      "metadata": {
        "id": "cgROpdMwdSTP"
      }
    },
    {
      "cell_type": "markdown",
      "source": [
        "First, some terminology:"
      ],
      "metadata": {
        "id": "vPBMCSizdXbW"
      }
    },
    {
      "cell_type": "markdown",
      "source": [
        "\n",
        "\n",
        "*   argument (actual parameter): the actual variable being passed to a function;\n",
        "\n",
        "*   parameter (formal parameter): the receiving variable that is used in a function\n",
        "\n"
      ],
      "metadata": {
        "id": "_xQIC5eZdbGc"
      }
    },
    {
      "cell_type": "markdown",
      "source": [
        "In Python, arguments are passed by assignment (as opposed to other languages, where arguments can be\n",
        "passed by value/reference/pointer)."
      ],
      "metadata": {
        "id": "lKrC4kEvdgjJ"
      }
    },
    {
      "cell_type": "markdown",
      "source": [
        "\n",
        "\n",
        "*   Mutating a parameter will mutate the argument (if the argument's type is mutable).\n",
        "\n",
        "\n",
        "\n"
      ],
      "metadata": {
        "id": "jY7zg81Admj6"
      }
    },
    {
      "cell_type": "code",
      "source": [
        "def foo(x):\n",
        "    x[0] = 9\n",
        "    print(x)\n",
        "y = [4,5,6]\n",
        "foo(y)\n",
        "print(y)"
      ],
      "metadata": {
        "colab": {
          "base_uri": "https://localhost:8080/"
        },
        "id": "c-G8w1uAdpT2",
        "outputId": "e34060b4-5c2d-48e1-a6fa-6b8b964837b2"
      },
      "execution_count": null,
      "outputs": [
        {
          "output_type": "stream",
          "name": "stdout",
          "text": [
            "[9, 5, 6]\n",
            "[9, 5, 6]\n"
          ]
        }
      ]
    },
    {
      "cell_type": "markdown",
      "source": [
        "\n",
        "\n",
        "*   Reassigning the parameter won’t reassign the argument.\n",
        "\n",
        "\n",
        "\n"
      ],
      "metadata": {
        "id": "imr6yuWDeDLA"
      }
    },
    {
      "cell_type": "code",
      "source": [
        "def foo(x):\n",
        "  x[0]=9\n",
        "  x=[1,2,3]\n",
        "  x[2]=8\n",
        "\n",
        "y=[4,5,6]\n",
        "foo(y)\n",
        "y"
      ],
      "metadata": {
        "colab": {
          "base_uri": "https://localhost:8080/"
        },
        "id": "T31hQ_GmeFw5",
        "outputId": "0e95c7fa-a047-47c0-8cf8-67bd62ff09e2"
      },
      "execution_count": null,
      "outputs": [
        {
          "output_type": "execute_result",
          "data": {
            "text/plain": [
              "[9, 5, 6]"
            ]
          },
          "metadata": {},
          "execution_count": 55
        }
      ]
    },
    {
      "cell_type": "markdown",
      "source": [
        "In Python, we don’t really assign values to variables, instead we bind (i.e. assign, attach) variables\n",
        "(considered as names) to objects."
      ],
      "metadata": {
        "id": "pf2ufrZNes0Y"
      }
    },
    {
      "cell_type": "markdown",
      "source": [
        "\n",
        "\n",
        "*   Immutable: Integers, strings, tuples, and so on. All operations make copies.\n",
        "*   Mutable: Lists, dictionaries, sets, and so on. Operations may or may not mutate.\n",
        "\n"
      ],
      "metadata": {
        "id": "MeWsiYKmeuZu"
      }
    },
    {
      "cell_type": "code",
      "source": [
        "x=[3,1,9]\n",
        "y=x\n",
        "x.append(5)\n",
        "x.sort()\n",
        "x=x+[4]\n",
        "z=x\n",
        "x+=[6]\n",
        "x=sorted(x)\n",
        "x\n",
        "y\n",
        "z"
      ],
      "metadata": {
        "colab": {
          "base_uri": "https://localhost:8080/"
        },
        "id": "VIBztcTYe0mg",
        "outputId": "c1a93342-438c-43cf-f09f-a933df21bc48"
      },
      "execution_count": null,
      "outputs": [
        {
          "output_type": "execute_result",
          "data": {
            "text/plain": [
              "[1, 3, 5, 9, 4, 6]"
            ]
          },
          "metadata": {},
          "execution_count": 56
        }
      ]
    },
    {
      "cell_type": "markdown",
      "source": [
        "# Section 1.7: Returning values from functions\n"
      ],
      "metadata": {
        "id": "aGNjTECJfYf7"
      }
    },
    {
      "cell_type": "markdown",
      "source": [
        "Functions can return a value that you can use directly:"
      ],
      "metadata": {
        "id": "3ybHQBLBfcVB"
      }
    },
    {
      "cell_type": "code",
      "source": [
        "def give_me_five():\n",
        " return 5\n"
      ],
      "metadata": {
        "id": "C1ygkpgbfe7Y"
      },
      "execution_count": null,
      "outputs": []
    },
    {
      "cell_type": "code",
      "source": [
        "print(give_me_five()) # Print the returned value"
      ],
      "metadata": {
        "colab": {
          "base_uri": "https://localhost:8080/"
        },
        "id": "eyMQxlZhfmjJ",
        "outputId": "beac55ad-ceb1-4935-f6fb-5535289c3efc"
      },
      "execution_count": null,
      "outputs": [
        {
          "output_type": "stream",
          "name": "stdout",
          "text": [
            "5\n"
          ]
        }
      ]
    },
    {
      "cell_type": "markdown",
      "source": [
        "or save the value for later use:"
      ],
      "metadata": {
        "id": "R4-RlJHgfvdl"
      }
    },
    {
      "cell_type": "code",
      "source": [
        "num = give_me_five()\n",
        "print(num)"
      ],
      "metadata": {
        "colab": {
          "base_uri": "https://localhost:8080/"
        },
        "id": "wk4NMImMfw7S",
        "outputId": "e4b6a08c-8d26-45a0-b775-d44e583334f8"
      },
      "execution_count": null,
      "outputs": [
        {
          "output_type": "stream",
          "name": "stdout",
          "text": [
            "5\n"
          ]
        }
      ]
    },
    {
      "cell_type": "markdown",
      "source": [
        "or use the value for any operations:"
      ],
      "metadata": {
        "id": "6EXJ4QBwf1xg"
      }
    },
    {
      "cell_type": "code",
      "source": [
        "print(give_me_five() + 10)"
      ],
      "metadata": {
        "colab": {
          "base_uri": "https://localhost:8080/"
        },
        "id": "5lVZ-3rsf4AL",
        "outputId": "7ade60b7-6687-437c-e611-f8d66665f539"
      },
      "execution_count": null,
      "outputs": [
        {
          "output_type": "stream",
          "name": "stdout",
          "text": [
            "15\n"
          ]
        }
      ]
    },
    {
      "cell_type": "markdown",
      "source": [
        "If return is encountered in the function the function will be exited immediately and subsequent operations will not\n",
        "be evaluated:"
      ],
      "metadata": {
        "id": "HnpOD-vhf7bf"
      }
    },
    {
      "cell_type": "code",
      "source": [
        "def give_me_another_five():\n",
        " return 5\n",
        " print('This statement will not be printed. Ever.')\n"
      ],
      "metadata": {
        "id": "FtVSKxE6f8-P"
      },
      "execution_count": null,
      "outputs": []
    },
    {
      "cell_type": "code",
      "source": [
        "print(give_me_another_five())\n"
      ],
      "metadata": {
        "colab": {
          "base_uri": "https://localhost:8080/"
        },
        "id": "kCLw8q4agCJL",
        "outputId": "b983c1d5-b38d-44e7-c871-d45acd1a2175"
      },
      "execution_count": null,
      "outputs": [
        {
          "output_type": "stream",
          "name": "stdout",
          "text": [
            "5\n"
          ]
        }
      ]
    },
    {
      "cell_type": "markdown",
      "source": [
        "You can also return multiple values (in the form of a tuple):\n"
      ],
      "metadata": {
        "id": "mCYMzXoxgGOb"
      }
    },
    {
      "cell_type": "code",
      "source": [
        "def give_me_two_fives():\n",
        " return 5, 5 # Returns two 5\n"
      ],
      "metadata": {
        "id": "ajP3VfUigHln"
      },
      "execution_count": null,
      "outputs": []
    },
    {
      "cell_type": "code",
      "source": [
        "first, second = give_me_two_fives()\n",
        "print(first)\n"
      ],
      "metadata": {
        "colab": {
          "base_uri": "https://localhost:8080/"
        },
        "id": "6ZV9IX8zgM2D",
        "outputId": "c777f9c1-9015-4fce-dbea-6f8030ec5a2e"
      },
      "execution_count": null,
      "outputs": [
        {
          "output_type": "stream",
          "name": "stdout",
          "text": [
            "5\n"
          ]
        }
      ]
    },
    {
      "cell_type": "code",
      "source": [
        "print(second)\n"
      ],
      "metadata": {
        "colab": {
          "base_uri": "https://localhost:8080/"
        },
        "id": "iI19KdjlgPEi",
        "outputId": "73ed9ff7-b3cf-42ad-913c-1e64bb799e0d"
      },
      "execution_count": null,
      "outputs": [
        {
          "output_type": "stream",
          "name": "stdout",
          "text": [
            "5\n"
          ]
        }
      ]
    },
    {
      "cell_type": "markdown",
      "source": [
        "A function with no return statement implicitly returns None. Similarly a function with a return statement, but no\n",
        "return value or variable returns None."
      ],
      "metadata": {
        "id": "DhyXf89CgZLC"
      }
    },
    {
      "cell_type": "markdown",
      "source": [
        "# Section 1.8: Closure\n"
      ],
      "metadata": {
        "id": "Zpc845p0ge-S"
      }
    },
    {
      "cell_type": "markdown",
      "source": [
        "Closures in Python are created by function calls. Here, the call to makeInc creates a binding for x that is referenced\n",
        "inside the function inc. Each call to makeInc creates a new instance of this function, but each instance has a link to a\n",
        "different binding of x."
      ],
      "metadata": {
        "id": "YdqjtzzFgkYZ"
      }
    },
    {
      "cell_type": "code",
      "source": [
        "def makeInc(x):\n",
        " def inc(y):\n",
        "  return y + x\n",
        " return inc\n",
        "\n",
        " incOne = makeInc(1)\n",
        " incFive = makeInc(5)\n",
        "\n",
        " incOne(5)\n",
        " incFive(5)\n",
        "\n"
      ],
      "metadata": {
        "id": "WGERbG8Ngmxo"
      },
      "execution_count": null,
      "outputs": []
    },
    {
      "cell_type": "markdown",
      "source": [
        "Notice that while in a regular closure the enclosed function fully inherits all variables from its enclosing\n",
        "environment, in this construct the enclosed function has only read access to the inherited variables but cannot\n",
        "make assignments to them\n"
      ],
      "metadata": {
        "id": "U_mq8QkqhJFh"
      }
    },
    {
      "cell_type": "markdown",
      "source": [
        "Python 3 offers the nonlocal statement (Nonlocal Variables ) for realizing a full closure with nested functions."
      ],
      "metadata": {
        "id": "Z_qMcUnBi8sP"
      }
    },
    {
      "cell_type": "code",
      "source": [
        "def makeInc(x):\n",
        "    def inc(y):\n",
        "        # incrementing x is not allowed, as stated in the comment\n",
        "        # however, `x` is from the enclosing scope so it will be\n",
        "        # modified without using any specific keywords\n",
        "        nonlocal x  # allows modification of the `x` from `makeInc`\n",
        "        x += y  # incrementing `x` with the value `y`\n",
        "        return x  # return the modified value of `x`\n",
        "    return inc  # return the nested function `inc`\n",
        "\n",
        "# Create an incrementing function starting with a base value of 1\n",
        "incOne = makeInc(1)\n",
        "# Increment the base value by 5 using the function\n",
        "result = incOne(5)\n",
        "print(result)  # This will print the updated value of x, which is 6"
      ],
      "metadata": {
        "colab": {
          "base_uri": "https://localhost:8080/"
        },
        "id": "daghj-73iEpl",
        "outputId": "0262818e-7761-45d5-cfcb-ed10d8be79eb"
      },
      "execution_count": null,
      "outputs": [
        {
          "output_type": "stream",
          "name": "stdout",
          "text": [
            "6\n"
          ]
        }
      ]
    },
    {
      "cell_type": "markdown",
      "source": [
        "# Section 1.9: Forcing the use of named parameters\n"
      ],
      "metadata": {
        "id": "r9HpzVM_jN9_"
      }
    },
    {
      "cell_type": "markdown",
      "source": [
        "All parameters specified after the first asterisk in the function signature are keyword-only."
      ],
      "metadata": {
        "id": "U8G_efKkjUPX"
      }
    },
    {
      "cell_type": "code",
      "source": [
        "def f(*a, b):\n",
        "    pass"
      ],
      "metadata": {
        "id": "Dcfm06ggjRaq"
      },
      "execution_count": null,
      "outputs": []
    },
    {
      "cell_type": "code",
      "source": [
        "f(1, 2, 3)\n"
      ],
      "metadata": {
        "colab": {
          "base_uri": "https://localhost:8080/",
          "height": 141
        },
        "id": "DhgoI-q4jqHi",
        "outputId": "90ebf79c-0b9b-4135-a05e-d3feae51fa86"
      },
      "execution_count": null,
      "outputs": [
        {
          "output_type": "error",
          "ename": "TypeError",
          "evalue": "f() takes 2 positional arguments but 3 were given",
          "traceback": [
            "\u001b[0;31m---------------------------------------------------------------------------\u001b[0m",
            "\u001b[0;31mTypeError\u001b[0m                                 Traceback (most recent call last)",
            "\u001b[0;32m<ipython-input-72-1c2a18ab906a>\u001b[0m in \u001b[0;36m<cell line: 1>\u001b[0;34m()\u001b[0m\n\u001b[0;32m----> 1\u001b[0;31m \u001b[0mf\u001b[0m\u001b[0;34m(\u001b[0m\u001b[0;36m1\u001b[0m\u001b[0;34m,\u001b[0m \u001b[0;36m2\u001b[0m\u001b[0;34m,\u001b[0m \u001b[0;36m3\u001b[0m\u001b[0;34m)\u001b[0m\u001b[0;34m\u001b[0m\u001b[0;34m\u001b[0m\u001b[0m\n\u001b[0m",
            "\u001b[0;31mTypeError\u001b[0m: f() takes 2 positional arguments but 3 were given"
          ]
        }
      ]
    },
    {
      "cell_type": "markdown",
      "source": [
        "In Python 3 it's possible to put a single asterisk in the function signature to ensure that the remaining arguments\n",
        "may only be passed using keyword arguments."
      ],
      "metadata": {
        "id": "IQeiAFa_jy8u"
      }
    },
    {
      "cell_type": "code",
      "source": [
        "def f(a, b, *, c):\n",
        " pass\n",
        "f(1, 2, 3)\n"
      ],
      "metadata": {
        "colab": {
          "base_uri": "https://localhost:8080/",
          "height": 176
        },
        "id": "8l3vio0Mj1ql",
        "outputId": "e133f307-b936-47a4-af56-cd420a7f1abb"
      },
      "execution_count": null,
      "outputs": [
        {
          "output_type": "error",
          "ename": "TypeError",
          "evalue": "f() takes 2 positional arguments but 3 were given",
          "traceback": [
            "\u001b[0;31m---------------------------------------------------------------------------\u001b[0m",
            "\u001b[0;31mTypeError\u001b[0m                                 Traceback (most recent call last)",
            "\u001b[0;32m<ipython-input-71-646a6759e94d>\u001b[0m in \u001b[0;36m<cell line: 3>\u001b[0;34m()\u001b[0m\n\u001b[1;32m      1\u001b[0m \u001b[0;32mdef\u001b[0m \u001b[0mf\u001b[0m\u001b[0;34m(\u001b[0m\u001b[0ma\u001b[0m\u001b[0;34m,\u001b[0m \u001b[0mb\u001b[0m\u001b[0;34m,\u001b[0m \u001b[0;34m*\u001b[0m\u001b[0;34m,\u001b[0m \u001b[0mc\u001b[0m\u001b[0;34m)\u001b[0m\u001b[0;34m:\u001b[0m\u001b[0;34m\u001b[0m\u001b[0;34m\u001b[0m\u001b[0m\n\u001b[1;32m      2\u001b[0m  \u001b[0;32mpass\u001b[0m\u001b[0;34m\u001b[0m\u001b[0;34m\u001b[0m\u001b[0m\n\u001b[0;32m----> 3\u001b[0;31m \u001b[0mf\u001b[0m\u001b[0;34m(\u001b[0m\u001b[0;36m1\u001b[0m\u001b[0;34m,\u001b[0m \u001b[0;36m2\u001b[0m\u001b[0;34m,\u001b[0m \u001b[0;36m3\u001b[0m\u001b[0;34m)\u001b[0m\u001b[0;34m\u001b[0m\u001b[0;34m\u001b[0m\u001b[0m\n\u001b[0m",
            "\u001b[0;31mTypeError\u001b[0m: f() takes 2 positional arguments but 3 were given"
          ]
        }
      ]
    },
    {
      "cell_type": "code",
      "source": [
        "f(1, 2, c=3)\n",
        "\n",
        "# No error"
      ],
      "metadata": {
        "id": "ub214pRxj57H",
        "colab": {
          "base_uri": "https://localhost:8080/",
          "height": 176
        },
        "outputId": "d9adac17-829a-45f4-d29e-5b928738357c"
      },
      "execution_count": null,
      "outputs": [
        {
          "output_type": "error",
          "ename": "TypeError",
          "evalue": "f() got an unexpected keyword argument 'c'",
          "traceback": [
            "\u001b[0;31m---------------------------------------------------------------------------\u001b[0m",
            "\u001b[0;31mTypeError\u001b[0m                                 Traceback (most recent call last)",
            "\u001b[0;32m<ipython-input-70-ebf7df355be8>\u001b[0m in \u001b[0;36m<cell line: 1>\u001b[0;34m()\u001b[0m\n\u001b[0;32m----> 1\u001b[0;31m \u001b[0mf\u001b[0m\u001b[0;34m(\u001b[0m\u001b[0;36m1\u001b[0m\u001b[0;34m,\u001b[0m \u001b[0;36m2\u001b[0m\u001b[0;34m,\u001b[0m \u001b[0mc\u001b[0m\u001b[0;34m=\u001b[0m\u001b[0;36m3\u001b[0m\u001b[0;34m)\u001b[0m\u001b[0;34m\u001b[0m\u001b[0;34m\u001b[0m\u001b[0m\n\u001b[0m\u001b[1;32m      2\u001b[0m \u001b[0;34m\u001b[0m\u001b[0m\n\u001b[1;32m      3\u001b[0m \u001b[0;31m# No error\u001b[0m\u001b[0;34m\u001b[0m\u001b[0;34m\u001b[0m\u001b[0m\n",
            "\u001b[0;31mTypeError\u001b[0m: f() got an unexpected keyword argument 'c'"
          ]
        }
      ]
    },
    {
      "cell_type": "markdown",
      "source": [
        "# Section 1.10: Nested functions\n"
      ],
      "metadata": {
        "id": "WHALkLcykA9I"
      }
    },
    {
      "cell_type": "markdown",
      "source": [
        "Functions in python are first-class objects. They can be defined in any scope"
      ],
      "metadata": {
        "id": "UtSKEx0xkE7v"
      }
    },
    {
      "cell_type": "code",
      "source": [
        "def fibonacci(n):\n",
        " def step(a,b):\n",
        "    return b, a+b\n",
        " a, b = 0, 1\n",
        " for i in range(n):\n",
        "     a, b = step(a, b)\n",
        " return a\n"
      ],
      "metadata": {
        "id": "DCVFvTu3kHYT"
      },
      "execution_count": null,
      "outputs": []
    },
    {
      "cell_type": "markdown",
      "source": [
        "Functions capture their enclosing scope can be passed around like any other sort of object\n"
      ],
      "metadata": {
        "id": "5L9iULCakQ6-"
      }
    },
    {
      "cell_type": "code",
      "source": [
        "def make_adder(n):\n",
        "  def adder(x):\n",
        "    return n+x\n",
        "  return adder\n",
        "\n",
        "add5 = make_adder(5)\n",
        "add6 = make_adder(6)\n",
        "add5(10)\n",
        "add6(10)\n"
      ],
      "metadata": {
        "colab": {
          "base_uri": "https://localhost:8080/"
        },
        "id": "PZmC9bo0kSeE",
        "outputId": "0205025e-9908-4c8f-ca5a-f19304f608e8"
      },
      "execution_count": null,
      "outputs": [
        {
          "output_type": "execute_result",
          "data": {
            "text/plain": [
              "16"
            ]
          },
          "metadata": {},
          "execution_count": 74
        }
      ]
    },
    {
      "cell_type": "code",
      "source": [
        "def repeatedly_apply(func,n,x):\n",
        "    for i in range(n):\n",
        "      x = func(x)\n",
        "      return x\n",
        "\n",
        "repeatedly_apply(add5, 5, 1)\n"
      ],
      "metadata": {
        "colab": {
          "base_uri": "https://localhost:8080/"
        },
        "id": "EyirL-CNlii6",
        "outputId": "6a5087d5-a1cd-4827-8b47-5a345391d05c"
      },
      "execution_count": null,
      "outputs": [
        {
          "output_type": "execute_result",
          "data": {
            "text/plain": [
              "6"
            ]
          },
          "metadata": {},
          "execution_count": 75
        }
      ]
    },
    {
      "cell_type": "markdown",
      "source": [
        "# Section 1.11: Recursion limit"
      ],
      "metadata": {
        "id": "q5B3zG3lVEeE"
      }
    },
    {
      "cell_type": "markdown",
      "source": [
        "There is a limit to the depth of possible recursion, which depends on the Python implementation. When the limit is\n",
        "reached, a RuntimeError exception is raised:"
      ],
      "metadata": {
        "id": "WxMfGgXtVJPk"
      }
    },
    {
      "cell_type": "code",
      "source": [
        "def cursing(depth):\n",
        "    try:\n",
        "      cursing(depth + 1) # actually, re-cursing\n",
        "    except RuntimeError as RE:\n",
        "       print('I recursed {} times!'.format(depth))"
      ],
      "metadata": {
        "id": "qNpIAa5wVKSU"
      },
      "execution_count": null,
      "outputs": []
    },
    {
      "cell_type": "code",
      "source": [
        "cursing(0)"
      ],
      "metadata": {
        "colab": {
          "base_uri": "https://localhost:8080/"
        },
        "id": "6vpOIA7aVi8X",
        "outputId": "203abe71-eef4-46d7-dccf-eba64d5f75a4"
      },
      "execution_count": null,
      "outputs": [
        {
          "output_type": "stream",
          "name": "stdout",
          "text": [
            "I recursed 953 times!I recursed 952 times!\n"
          ]
        }
      ]
    },
    {
      "cell_type": "markdown",
      "source": [
        "It is possible to change the recursion depth limit by using sys.setrecursionlimit(limit) and check this limit by\n",
        "`sys.getrecursionlimit()`"
      ],
      "metadata": {
        "id": "Ubs3gQvrVm70"
      }
    },
    {
      "cell_type": "code",
      "source": [
        "import sys"
      ],
      "metadata": {
        "id": "0TuvayG4V2zb"
      },
      "execution_count": null,
      "outputs": []
    },
    {
      "cell_type": "code",
      "source": [
        "sys.setrecursionlimit(2000)\n",
        "cursing(0)"
      ],
      "metadata": {
        "colab": {
          "base_uri": "https://localhost:8080/"
        },
        "id": "2Kc80BD-Vt5p",
        "outputId": "0cdae6fc-ab05-4956-fa7a-9432a761f226"
      },
      "execution_count": null,
      "outputs": [
        {
          "output_type": "stream",
          "name": "stdout",
          "text": [
            "I recursed 1953 times!I recursed 1952 times!\n"
          ]
        }
      ]
    },
    {
      "cell_type": "markdown",
      "source": [
        "From Python 3.5, the exception is a RecursionError, which is derived from RuntimeError"
      ],
      "metadata": {
        "id": "5vDm54FdV9Tl"
      }
    },
    {
      "cell_type": "markdown",
      "source": [
        "# Section 1.12: Recursive Lambda using assigned variable"
      ],
      "metadata": {
        "id": "LrmQHAqYV_Cc"
      }
    },
    {
      "cell_type": "markdown",
      "source": [
        "One method for creating recursive lambda functions involves assigning the function to a variable and then\n",
        "referencing that variable within the function itself. A common example of this is the recursive calculation of the\n",
        "factorial of a number - such as shown in the following code:"
      ],
      "metadata": {
        "id": "_mY6XM1IWIic"
      }
    },
    {
      "cell_type": "code",
      "source": [
        "lambda_factorial = lambda i:1 if i==0 else i*lambda_factorial(i-1)\n",
        "print(lambda_factorial(4))"
      ],
      "metadata": {
        "colab": {
          "base_uri": "https://localhost:8080/"
        },
        "id": "mnQuRvPyWM-V",
        "outputId": "6ad2b7d5-d315-4d71-97d0-7b1b3e1ec56c"
      },
      "execution_count": null,
      "outputs": [
        {
          "output_type": "stream",
          "name": "stdout",
          "text": [
            "24\n"
          ]
        }
      ]
    },
    {
      "cell_type": "markdown",
      "source": [
        "**Description of code**\n"
      ],
      "metadata": {
        "id": "jiIDY2NLWUGm"
      }
    },
    {
      "cell_type": "markdown",
      "source": [
        "The lambda function, through its variable assignment, is passed a value (4) which it evaluates and returns 1 if it is 0\n",
        "or else it returns the current value (i) * another calculation by the lambda function of the value - 1 (i-1). This\n",
        "continues until the passed value is decremented to 0 (return 1). A process which can be visualized as:\n"
      ],
      "metadata": {
        "id": "HB_y8rcSWY0c"
      }
    },
    {
      "cell_type": "markdown",
      "source": [
        "![image.png](data:image/png;base64,iVBORw0KGgoAAAANSUhEUgAAAowAAAI9CAIAAAA/x75RAAAgAElEQVR4Aey9eXgVVbb+f0TQK3bb9vBo29O3+9pc9bZXWxGRMSGEkDAmTAEBERpt73Vowam11VZakRlkBhWQyekKqEGQQSCQhCSAgAoyZz7zqapT87h/mvc++8kPApI5kVV/nKdOnaq9d32q6ry11l57bR9jzDRNxpgsy6xyURQFK5Ikua7LGLNtG1tc1zUMA+u6rmOFb8FXfGqahpJ5aY7jVD3QNE3XdXnJqqriV74bDvcqF/xkmib2R6sEQcB2SZKqriiK4nkeY4xv56fGy2GMOY5jWRa28E9epq7r/Fd+gryRfH9aIQJEgAgQASLQcAR8juNwDeO6pWma53mQYShiJBLhgsoY0zTNNE0oMWPMdV1RFBlj0WiUa1s4HEa78RIQCARwIFd97AnlwyfElTEmiiKXZMdxuEw6joM9cSxvOQrnu3FemqZBqqPRKFqIn2zbxtlx1efvHIyxYDDIVRwvDbwixphhGFVR8LpohQgQASJABIhA/RLwobjS0lIufrB9o9EofjJNk2unqqqWZXGJgpZDdB3HcV2XK7Rt29yG5hYtVBzFxuNxfibcehYEoaoJy3eAZIZCIWxRFAV67FYueAnwPM80TWitZVme55WUlPAXAogrY8yyLJya67p4yTAMAydo2zY/U9TIGINtbVQueB2puk/VFtI6ESACRIAIEIH6JeDjFqQsy1wsI5EIquFayM1QLmmxWIwxxuWNNwsWNhRakiRepqqqUHfTNLmRjUKquqa5zJuVC1d6bvLyLVxHGWOqqkKqUZ3jOIFAYOXKlYwxnKDjOFBxvIv4/X7GWFZW1rFjx1Agr9d1Xf6iEI1GX3jhBfxU1Uznryn8rGmFCBABIkAEiEC9E/C5rjtkyJChQ4eOGDFiy5YtW7duXbBgAbQNXl+I01n91sePH3/11Ve5SLuu6zjO+++//8ILL3CbFW3ldic8xlXFHjtgu67rnudVFT+42dEzDe833OC7du0aNWrUE088gV5txlg4HP7LX/6ydetWHIIG//Of/9yxYwf3tI8bN2737t1ojKIogiCMGzfutddee+SRR1auXIk2wLivqKh46qmnMjIy3nzzTcbYI488cujQobO4o9izNtJXIkAEiAARIAL1S+A7d/ef/vSngoKCAwcOnDx50vO8r776ipvXcPDiKzQMvb/79u3r06cPTFjeoI4dO/bq1QtOZs/zLMuCRc7NZRjQ35qnPAANu0E7YePiE7VUdY9DjE+ePJmZmbl9+/aHH374H//4B+zmxx57bNCgQdOmTUMLYTHfeuutvCP50UcfTUlJmTVrFjesGWP79+/v1KnTXXfdtW/fPn4KoijecccdS5Ysyc3N3b17dyQS2bRp07Jly2zbRl2WZXHfAD+KVogAESACRIAINASB70R64MCBKNp13VOnTr300kuMsRkzZjz33HP333//9OnTVVWtqKhIS0sbMGDAzJkzS0tLDx8+nJ6eDpGGaJ06dWrixInZ2dnPP/+8IAhlZWVvv/32yy+/PHjw4MLCQk3TDh06NH78+NGjR585c+bBBx9EENnEiRNPnz6tadry5cvPnDmj6/pTTz11//337969WxCErVu3ZmVljRkzZu/evQgF5z3ZhYWFgwYNYox9/vnnTzzxxNq1a+fPn88BiaKYnJwMh/mWLVueeeaZd999d+7cubIscz/8li1bPvvss88//3zTpk287/nIkSNJSUm8HMZYXl5eamoqj/qu2slddTdaJwJEgAgQASJQ7wR8pmleeeWVKSkpQ4YM2bBhQ2FhYWZmpmVZPp/vueee27Zt229/+9uKiop4PL53796DBw8OGTLk88olIyODt8Z13cmTJ+/Zs8e27YSEBMZYbm6uz+dbtmzZ+vXrfb7vXgUefPDBd999Ny8vLxgMPvHEE5s2bQqHw926dYOBe/PNNweDwcGDB7/77ru7d+/u1avX8ePH33zzza5du2ZlZXFbnEdl//Wvf83Pz/f7/f3792eMzZo1a968eTzO/KuvvhowYIDjOKIojho1ijE2bdq0xYsXo8EY1uV5XlFREVz68JPjLJ544omxY8dmZGRkZ2fDFu/bty8O5N3h3IfPCdAKESACRIAIEIF6J/Bdn3TPnj3z8/P37t0bDAZzcnJGjhxpGMZll12Gynr16vXll19Go9FZs2ZlZmbefPPNb7/99o4dO4YPH8694oZh/Md//Ed6evq3pvaPf/zjjRs3Hj16dODAga7rCoLws5/9TBCEAwcOdO7cef78+aqqrl+/fuLEiVlZWZ9++mnXrl3Ly8v/+te/6rp+2WWXDRw4cOjQoTfeeOPixYunTZu2ZMkShGSjpxkDw7Zu3Tpx4kTTNOfNm/eHP/xh1KhRv/nNb/70pz998skn8J8fPHhw2LBhjLEVK1b87ne/GzZs2B//+MfbbrvtvffeOx9B27YNw1i2bFlycvL+/fvz8/PxbsEYg8muVi44vGoQ2fkKpO1EgAgQASJABOpI4Dsbt1evXjza65tvvklJSWGMtWrVCuFRo0aN2rdv3/vvv3/vvfceOnRo7NixK1asyM3NhSUdDAYNw9i1a9dDDz1UWFjo9/sXLlz49NNP79ixo1+/fmhcmzZtXNeFVbpw4cIpU6a4rvuHP/zh/vvvZ4w99NBDL7zwAnzOV1555Z49ew4cOLBt2zbHcRYvXjx16lQEVzuOA1/3tGnT/vGPf6DkUCi0f//+r7/+euLEiY8//vjJkyfhjj558mSfPn0Mw6ioqPjmm2+++OKLBx544Omnn+bjys5H7ZNPPnniiSfw8tGpUyfXdcvLy0eMGMEj2jzP46PDz1cIbScCRIAIEAEiUC8EfLIswyFsmqZhGIcPHx40aJCqqrAjdV0fMGDA4cOHt2zZcuWVV/bt2/cnP/nJzJkzjxw5MmjQIG5JP/LIIxs2bGCMlZSU6Lr+k5/85Ouvv0ZkmWVZMMpnzZrVuXPn2267befOndDmBx98sKKi4q233rr22mvLyso8z1u8ePF//ud/duzY8eGHH963b9+MGTOWL19e1bd84MABn883qHLp3r07ECiK8uabb65atQpBZ4g5v+666yzLgslrWdbSpUuXLFnCtfZcdjwfS7du3QYPHnzttdc++uijnufl5+e//PLLVfukudP73EJoCxEgAkSACBCBeiTwnSVdUFDAS1QUpbCwkDGWn5+PjQcPHoREnThx4tSpU7HKJRKJHDx4EMlEZVmuqKhgjHH1OnjwoKIoR48eRV9vdnY2oqmLiooQ+61pWnFxMdSaMXbgwAEosWVZgUAgPz//8OHDjLHjx48jzFsQBMuyZFkWRfHo0aMFBQV5eXknT57E0C/P87788sszZ87AjMarQ9++fXmukm97xCsqKoqLi/lpVrvieZ6qqo7j7NmzJxaLoZxp06Z9/PHHnufxdGwU3V0tPdpIBIgAESAC9U7gO5H2PM8wDJih3DiuOvgKI5cURTFNk1urVeOc4ZGWJIm7gj3PQzw2Rj/z0VCiKFYVOcuykI+satoTXddRDh8qXfW04/E4qnNdV5Kks4xj27bRwk8++eTDDz/EsGxN07Abb0bVArGOHXg6cXz1PO/BBx/8+uuvsQ/eQqq2/9xyaAsRIAJEgAgQgfoi4KvqTObJSVB6PB6H4CEEmjGGKGuuixiRXFWtoZqKonAth6RhTy7hcK3zRGNoA8ZP80FWaINt24FAwK5coJFQ6Ko50RAsdm4wF3cGcFjVqj5+Rdssy0JPPE9lun37dn6+WOFfebG0QgSIABEgAkSgIQj4DMOoahrato3E11ylUKsgCNwMhY5C8LjGcwHmrXQcB4KH/fmeXCkh5Dx711nNiMfjVbdAm5EOhSs0NqJGCDnWqx7I5/zgR/EWnrXCvQhc7/nQL0VRSJvPwkVfiQARIAJEoKEJ/J8lrSgKslujPqgURIv3NFdVPu4kh3Rhf67rkHMcyLUZK1XnwEBIOXJlw6OOKriK85OHvqJ8XiAUlM+TwXfGMGhoP4pCsVyD+Z5VV7je67qO08G7BV41UIJt2+e2rWohtE4EiAARIAJEoB4JfNcnXaMFKsUlDeoFRcQsVdwMPde2rlFFtDMRIAJEgAgQgUucQI1FGqYzrFWe0RrTWT755JNlZWVO5QJ7l3T6Er+96PSJABEgAkSgLgRqLNKojLt/uQwXFBTcfffd06dP5+FgVQPK6tJEOpYIEAEiQASIwKVJoDYibRgG12be8fzkk0/26dMnKSmpqKgIMz1zv/elSZbOmggQASJABIhAHQnURqS5l5vXfezYse7duw8YMOCee+75+9//DmOawqE5H1ohAkSACBABIlALAjUWaT4AmkdlG4axYMGCrl27du/evVu3bikpKXv27EH4N7zitWgWHUIEiAARIAJEgAjUWKR5XLfrunBoHz16dMiQIUlJST179uzUqVPv3r0ffPBBhJIRXyJABIgAESACRKDWBGos0hjQzPukNU3Lyspq3759p06dBg4c2K1bt06dOiUnJ2dlZdW6TXQgESACRIAIEAEiwBirjUhjeBWmfVRVdfTo0Z07d05PT2/Xrl2/fv26du3ap08fTH/Js4nViHVmZmZSUlLv3r0TEhKSk5M7dOiQmpqaSEu9EkhJScnMzGSMaZqGWbrPSgpbo0tGOxMBIkAEiEBDEKixSLuuy3OQybK8ZcuWF154Ydu2bXv37u3bt29paemRI0c+/vjjJ598cvv27bXIz2VZ1siRI0tLS/nZqqrq0lLfBERRHDt2LNKswjti2zbP5sbh0woRIAJEgAg0IYEaizRsL547s+qo6MTERAy+YoyZpolZJmt6bpZl3XHHHTgKE0fWtATa/yIJdO7c+dixY8gIixA/HnBwkSXQbkSACBABItCgBGos0vx/3Kxc0DjDMHRdT05OZoypqsr3qV3TuUhjEJdlWZqmoTr6rC8Cmqbdc889sizHYjHMF47Xr9pdMjqKCBABIkAEGoJAjUW66iBp13VjsRjCvB3HSUlJQRNd18XslrUYguU4Trdu3TATFy+tFuU0BKwfWJldunQJBALl5eU4rzq+Wv3A4NDpEAEiQASaA4EaizTsLUSNnXUC7du3rzrTlOu6tQscGzZsmCzLhmHAakQkOVKC02d9EfA8r0OHDkVFRSdOnGCMWZbFQw3Ouqz0lQgQASJABJqKQG1EGm01DEMURV3XTdOEcsDdDdd3rWd1lGUZ5aAWrvSY0oM+64uA4zipqamWZSF0QNd1z/P4lOFNdTtSvUSACBABIlCVQI1F2qpcqk6ewXuOBwwYwKeUrtbUrlrxBdY7dOiA8in79wUo1f2nDh06FBcXl5WVIdAP9nTdi6USiAARIAJEoL4I1FikL1BxQkICY4wPu6p1RzLKwYggz/OwUt9DkC718jzP69Gjh9/vr6iowDXlF+4Cl5h+IgJEgAgQgcYkQCJ9iao1iXRjPmZUFxEgAkSgdgRIpEmkyZKu3bNDRxEBIkAEGpwAiTSJNIl0gz9mVAERIAJEoHYESKRJpEmka/fs0FFEgAgQgQYnQCJNIk0i3eCPGVVABIgAEagdARJpEmkS6do9O3QUESACRKDBCZBIk0iTSDf4Y0YVEAEiQARqR6DZiTSGBpmmaVkWsoK7rov8ZZeonDbMaTuOk5CQUF5ejmQmVQe41+5OoqOIABEgAkSg3gmQSDeMBjb7Ukmk6/1ZogKJABEgAvVOgES62ctpwzSQRLrenyUqkAgQASJQ7wRajEjX1+xPVA4nQO7uen+cqEAiQASIQP0SIJHmmnXJrZBI1++zRKURASJABOqdQIsRaZuWeiVA7u56f5aoQCJABIhAvRMgka5X6Ws5hZFI1/uzRAUSASJABOqdAIl0y9HVem0piXS9P0tUIBEgAkSg3gk0X5E2TdNxHE3TbNvGsGmrusV1XdM0GWOapnmeB0Ce5xmGwRizbVtVVVmWsV1VVWxXVRUzVWuaxhgTBMEwDNu2RVHEtMqqqjLGZFkWRRETYxuGgZ3xE2MsEokwxkzTxCGYmNl1XVmWDcPARkyGjQODwSCahMaEw2F8NU1TURTGmKqqOBe+Ho/H+Qhmv9+PA23b1nXdNE386jiOLMvVsbnQNtu2ExISKioqysvLUWyt5//G4fRJBIgAESAC9U6gxYu04zhG5QK9VFVVEIR4PA7JkWUZAhmNRg3DgGoBInTRdd1oNMqxWpYly3IsFmOMKYoCPUaZlmVhI2NMFEWIvSiKpmnquo73AEEQPM9DjRBXSZKwouu653mWZTmOI4oi9hdFMRQKMcYsy9J1nTHmeV4gEOBSzRhzHCcQCOB0BEHAiwsaZts2T0VyIUGu7jcSaX7RaYUIEAEi0GwJtHiRhjEqiiJWLMvi9vTJkycZY7quG4ZhmiaMckgsZNisXBhj4XA4GAzats2VmBup3G6GlkObue1uGAbeEmzbhvkbi8Wg01DfaDSKujzPcxxHVVVIuG3bgiDgtpAkCet4LYBaq6oaDofRnmAwiPbjq2EYsVhM13XXdR3H8fv91anw92wjkW62zyQ1jAgQASLACbR4kZZl2bZt6B9kUpblUCiElKIQUcdxuPrCgIZNrCiK4zjYAvWNxWKBQACmLWRbURQoqK7r3LBmjMXjcVjDmqbJsqyqKrzfnCzE2HEcvCWoqor8prDpGWOGYaBAQRCq+tjhfsfhaJtlWcFgcN26dXg54G52Xdf37dsXCARUVf0eTT7nZxJpfqVohQgQASLQbAm0eJFGp69hGO+8804gEODdzzBtHccRBAHrxcXFuAzoPN6zZ8/OnTvhJOcSDvV97733AoEAPNWMsVAoBEsdnc2WZSmKYtt2KBRavnz59u3b+dWNRCKqqpaUlGALjG+8Q/DXArxJoH9akqRwOOy6biAQWLt2LbqHLctCVzpj7MMPPzx58qRhGG+//XZWVlY0GtU0LR6Pz5gx48CBA4yx3NzcF154AT6Ac4T4QhtIpPlVoxUiQASIQLMl0OJFGmRjsdjIkSP37t3L+54RjcW7cuG+hiPaNM3S0tJly5atXLkSOqooCtzU0PgBAwbs3r2bMRYIBEpLS6HcMGphuOuVy6RJk4YMGbJ8+XJRFBVFgfZzZ7vf74cNvXDhQqglzOVgMAgrmbu7VVUVRfH999+HfvOXA1EU09PT8/LyXNft1KmTIAimaUKw27Vr9+qrr+IN4+c//7mu6xcS5Op+I5Futs8kNYwIEAEiwAm0eJEWRRGx3IMHD87Lyzt9+vTChQvnzJnz3nvvMca+/PLL3NzcvLy8uXPnOo6zadOm2bNnK4piWdacOXP+9a9/LVu2bNWqVfF43DAMv98/f/78tWvXDh06dN++fQUFBYsWLVq4cGFBQYHjOLCPNU1Dn3Fubm67du2efvrpPXv2bNy4cfXq1TNnzjxz5ozrupFIZN26dYsXL969e/f69et9Pt8bb7zx9ddfM8YOHDgwd+7cd999Nx6P27a9YsWK7Ozs9957r6Sk5IMPPmCMffzxx/PmzXvttde++uorxlhaWtrRo0cty/p//+//4YXjiy++GDNmzNy5c6dMmQITfOzYsWfOnKlOiC+0jUSaPwO0QgSIABFotgRavEijm1ZRlH79+uXk5MRiscmTJ8+fP//uu+/Oyso6fPiwz+cbNWrU2LFjf/GLX4wePfqFF1648cYbGWNz5sxp27btlClThg0b9te//tXzvN/97nevvvrqww8/fPnll+fm5mZnZy9dunTq1Klt2rThHmxVVW3bNgxj165dt9xyy9/+9rfCwsI1a9bMnz//8ccfv/32223bfvnll8eNGzd79uzVq1d/9tlnl1122euvvx4Ohz/55JPrr79+8eLF48aNS05OZoy1adNm8ODBs2fPzsnJGTx4cDQa3bhx44wZM1555ZWbb75ZVdWhQ4du3bp13759gwYNguWdnp5eVFT0+uuvL1iwQNO0b5X7n//857Zt2y4kyNX9RiLdbJ9JahgRIAJEgBNopiJtGAZcuFwUEYl97qdt2/APZ2RkFBQU2Ladm5s7Z86cESNGTJkyZdeuXampqZA3n8+nVS7XXHNNLBabOnXqwoULEbrl8/kOHTqUlJRkWZZhGAMGDNi6dStj7J133pk2bVqHDh0KCwuLiopATdd1TdMkSRoxYkRhYSGGe73xxhtLly71+XyWZbVq1crzPEVR4N/2+Xzolu7bt292djZ81DfeeGN5efmPf/xjxH7n5OTcd999giAoivLWW2/NmjXL5/vu0qSmpubn5x88eLBnz56MsdWrV48YMWLy5MkZlUtOTo4gCO++++7OnTvPJXPhLYZhJCYmBoPBsrIyuOjRWn5n0AoRIAJEgAg0OYEWL9IIz1ZVNT09fdeuXWvWrOndu/fChQuTkpLeeOONQ4cODRgwACIE2bMsy+fzeZ43b968N9980zCMeDx+zTXX7Nq1a/DgwegVvu+++/Ly8saOHfvYY4+tWLHi+uuvz8/PxxAvvBCgUzklJWXHjh2O4/zsZz976aWXXnzxxSuvvFLTtLZt27qua1kW+rNRr67rI0eOzM/PDwaDhmHAmm/VqhXugMLCwoSEBMbYb3/729dee23evHk+n0/X9eHDh8Px3q9fP0VRcnJypk+fvnjx4tTU1IyMjMLCQsuyHn/88b17915Yks/9lUS6yZ89agARIAJE4HsJtHiRRuIwURRHjx69c+fOdevW3Xnnna+99lqHDh1effXVzz//fOjQocFgUJKkn/70p57nqaoK0/bll1++5ZZbZs6cmZ6e/tRTTzHGfD7f5MmTn3jiCZ/Pd/To0b/85S+ZmZnPPvts27ZtP/vsM+g30oRpmqaqav/+/Y8cOaLretu2bV988cVnn30WNvSYMWMmTpw4f/78DRs2GIbRuXPn559//sSJE1lZWb///e/nzp2bmZn5yiuvSJLk8/kQqrZz584hQ4bouv7jH//46aeffu6556699tpIJNKvX78DBw6UlJTcfvvtyIBmWVY8Hp8/f/7SpUvhBkhKSioqKjpXhi+8hUT6e58N2oEIEAEi0OQEWrxIu66Lrtk1a9acOHHCNM21a9eiM3jXrl3BYPCjjz7CAKopU6Yg5mvhwoWMsV27duXn5y9duvTdd9/1+/2RSMTv90+fPv2TTz4pLCz8+uuvFUVZsWLFZ599tmrVKsdxIpEIJrPkKT+XLVt27Ngxx3FOnDixaNGiDz/8cMWKFUiWMmnSpOXLl2/atElV1YKCgmnTpiGAPC8vb/bs2R988AGC3RYtWsQY8/v9kiS9//77sVisqKgI6r506VLG2BtvvIFsoPfccw+PXHMcB42XZbm4uLhjx47IdnJhVT7rVxLpJn/2qAFEgAgQge8l0OJFWtd1DK9CHzZ6fNHRC0lGPk7GWDQadRwHA5SRsQR0JElC9BnymciyHI1GYaQGg0EcparqjBkz5s2bt2DBgsmTJ8+ZMwed1pZloS4+xAuVmqYpyzKyjqBY1ItEJchkgobxcVkYzA13Os+Lgh53z/OWL1++atUqz/NQkSiKyEP+xRdfPP/880hvfpYMX/grifT3Phu0AxEgAkSgyQm0eJGGaCF3GJSYy56u66FQSJIkwzAwyBhCiLHR0Wg0EolIkoTRzJqmnTx50rIs13XRhx0KhZCwzDTNWCy2fPnyuXPnzp8/f9GiRXPmzMnNzY1EIlBotXJBeJqqqrB9Yb7zeTgYY8eOHUMKUsinLMuO43ieh5A0TdPC4TBE2jCMaDQqSRJyegcCAcMwNm/ejHHS8PBjOpBDhw7t2rUL821cWJXP+pVEusmfPWoAESACROB7CbR4kUYMlyiKyOIZj8d1XRcEAaYwEmujN5frsWmaSOuNybUYY5IkoW8YdjPGTEPL+aQaMNkhvRjlbBiG53myLPP8JLFYDEY5Mp25rou3B13XUTLsbJ6sOxgMIr8YJuGIxWJu5RKJRNAeaDbOBdNyqKqKE4F+m6aJN4+zNPh7v5JIf++zQTsQASJABJqcQIsXacYYl0YIquM4kCj4sRVFgTRihkckDkMfczweR+4R27YVRcE0WUhXgkShgiDouo4SsDMyjlmWBY90PB6H5xzZPS3LwkwYZ82gBc82HPJ4jXAcB1Y4WstPAZNj4rbABBsYyoXptjAplqqq/CjP85CL9HtV+awdSKSb/NmjBhABIkAEvpdAvYm053l9+vThHcCQPcy96NVksSwrLS0NEzIiGFvTND5bBmalbMxP9P66rquqKlzrmN4KvcuYisqyLExvhXZKkoTsYNBs/IS5olVVhejiBBvzRM6ti8ZJf+/jQTsQASJABJqWQL2JtGVZSUlJmO4Cp1Tr5Bh33nknJma2bRtzMmqadq7GNM4WjLyaPn36nj17sI4JpCG6cKQj7zdseiT6Rt9zKBT69v3kxRdffP755xE+hpAx+KhhozfOWVRbC4l00z57VDsRIAJE4HsJ1JtIM8YSExOr1ud5niRJNbGiv9v325mdUlJSIIc8BrusrKxamWmEjRiddfr0aVVVKyoqZFmGfVx11g0kVMFIMLjBS0tL0ZG8evXqjIyM9PR0RIxLkoQVOJ8xEKsRzqLaKkikq96utE4EiAARaIYE6lOku3btKooiPL041arrF3nylmW1b98ePceu66LAJhQzNHvChAmY8SIajaJDGmFlSF/q9/sRvQVPOH+3OHnyZEpKSk5OTu/evVGOpmno7dZ1HadWrXw2zkYS6Yu8J2k3IkAEiEBTEag3kZZlecSIEQjR8jwP/upa9EkzxtLT00VRLCsrQ5wUYrUaR7eqrUXX9czMzM2bN4fDYWQyuffee4cMGZKWljZ06NDVq1fPmjXr3nvvTUlJGTx48D/+8Q8EnEej0TFjxhw5ciQ3N3fw4MHFxcXY7rqu4zi6rmN26mprbJyNJNJN9dRRvUSACBCBiyRQbyINN3XPnj3vueeeXr169bMqVesAACAASURBVOvXLyUlpUOHDj1quKSlpSGvtSzLiJFGkHbj6Na5tciyrGnaAw88sH37djCNxWKY/nL//v1btmzx+/2FhYXZ2dl5eXn5+fnffPNNNBrVNG3nzp2/+MUvBg0a9G2C0jZt2ixbtqy4uBhO8nA4bJqm53kYon1upY2zhUT6Ih8S2o0IEAEi0FQE6lOkkdeaMYZoZ4wYrmmftKZpffr0QdovWNLxeLwJ3d3wDSQnJ+fk5DiOE4/HFUXp379/3759Bw4cOGDAgPfee2/KlCmZmZm9e/dOT09/5plncC3Ly8s3bNhw+PDhBQsWdOnSpbCwEC5xy7LgGzBNE/NYN44kn1sLiXRTPXVULxEgAkTgIgnUm0gjehmd0DyuG7J0kU3huyUnJ2PYkuM4kiRpmoYpnM+VmUbYAikdOnTo7t278drhum52dvaePXsOHTq0adMmURT379/PLemjR48idQmc25IkfTvXZHp6uuu62I53DrzHNOHQMhonze83WiECRIAINFsC9SbS9XiGiYmJmPiZW+TIU23bdtXM1XAd6zVckCYMicMEQUC0tqqqSC2iaRp+ikajiqKYpum6riRJ+/btUxTFsiwMBovFYpqm4VeMeJZlGWOmDcNAmjBFUTDttCRJBw4cwLFK5aKqKhKbIGEZUoficGQ2tW0b5YMAUnaj6nA4jKg6RVGQLhSx5TiQMYb0Z4gtR+KUaglpmpaQkBAIBMrLy3HtEFpfj9eRiiICRIAIEIE6EmgxIg25UlXVsixIXTgcvoAIVatMuq77/X7DMBBljeRiGDrFGDtw4ABjTNM0DKOyLMswDOQecV23oqJCkqR4PA79syxLEAS/3x8Oh5FuBeFgGCmOduq6DrlFsZZlwfkPIY9VLjC44TmoqKhA1jNc1GPHjiH+zu/3I0sofO+qqqJnAQF6SNwtCAJmsURjIPx4dagWBYl0HZ8cOpwIEAEi0AgEWoxI67oei8Ug1eDCdataETrfRhyrKAqmd4Qti/mhkcQb+heLxWAKW5aFwc04EPlJQqGQbdvw6nuehwzhiqJIlYvruuhTR3ptpPxEmJhYufDEJuhrh0HMGEPItyiKlmVhlg5d16HisixLkqQoit/vF0WRG+t+vx+1Q48h9kgCA8v7fBxIpHFB6ZMIEAEi0JwJtBiRdl0X01ogdAvzTFzAUjyfOIVCodLSUkxoAee2IAjctFVVFXNbOY4DpzS83wjDPnHiBHrZNU0LBoPxeBzWtly5wIPNZ8ysqKhADB1jLBAIwLXOW6WqKiYF4V5uURT5AGtMECKKYjweR15S+KIh2EhbJssyWo6sZ3ghQPNQMmrnNZ61QiLdnB9LahsRIAJEAARajEjDpjQMw7ZtWZYRwwVlOkt+LvyVMSaKInzCUH2IHM+7gp5vTGDFddfzvEAgAG/ziRMnYEMjrg3zS2IyK3i5BUGAl5tPxgVJxlGmaUajUXin0a2uqirSkHmeB0nG2ZWUlDDGUJSmaadPn0ZTi4qKIMamaeKtgk9THQgEgsEg2glK56NBIk1/AUSACBCB5k+gxYg0RkvDlDRN03EcZDs5nwidb3tZWZnrutBIPhllLBaTZTkWi8HVzBjDRNR8omjoq+u6wWAQwsnnrXJdF9M8I/oM1jliu+LxOGa1whuA4zgwf3EWlmVFo1GULIoibGV0h4uiiNmpZ86cuW7dOuzG4+Yg4bFYDJ55TIsJB/ipU6cmTJjAe9YRUl4tChLp5v9wUguJABEgAi1GpNGPi0mdVVUtKSmZMGFCRUVFtQp0gY3XXXcdkopgPgxRFMPhsG3bgiD8+te/RqRYSUkJko2oqoqe77KyMj7B8/PPP+/z+bKysr755hvDMCC9GCqGo9C3febMGT6zpGEY8M9j7kskYjt8+PCqVaumT5+OmbANw0CoeSQSufrqq9EX3qFDh7KyMqdy2bBhg8/ny83Njcfjfr8fqhyPx99+++3WrVtj/3A43LVr11AoVF5eDq/D+VCQSNPDTwSIABFo/gRajEjDctV1HSamLMvdu3dHsNX5dKja7T7fd6esKAqsZ0RB27btOI7P54NNjDms4FuGFmK0NFzuV155ZSgUqqiogM8cpjMmxUKNsizv27dv1KhRoihiZBc6sJHoGz3NqFFVVTiuYaAjyZrneT6fTxCEb775Bkm/o9FocXEx0o5u3rwZLwFo+XvvvTdz5swrrrgCLwG2bU+ePPmjjz6CuS+KYrUQcCI0BKv5P5/UQiJABC5xAs1UpDHvMoxLPg5K07RoNAodVRRlwIAB6HzVdX327NlXXHHF5Zdf3q9fv2g0Onfu3Geffdbn8/3oRz9avXp1u3btWrduvWnTplgs5vP5RowY0apVq379+sViMb/fP3bsWJ/Pl5qa6vP5HMfp3bt369atfT7fzJkzMToLM2HAg92/f3+fz3fNNdfs3r3b5/O1bdu2TZs2H3/8MWPs/fff91Uus2bNuuKKK1C7JEmffvoptg8YMMDv92dlZT322GM33njj448/Pm3atKlTp1qWhf2vuuqqPXv2SJLk8/lUVV2/fv38+fNN0xQE4bHHHisoKOjXr9/nn3+Ot4dIJIIwctM027Rpo+u64zihUGjVqlVTpkyBUY7Xgmp1mizpS/zJp9MnAkSgRRBoMSIdDAYxQBnCbNt2r169uMlrmiayfCQnJxcWFr7++ut33XWXbdvTp0+/6aabioqK1q9fP2jQIM/zrrjiiqNHj4qiOH78+A8++GD9+vUjRoywLOvQoUNt2rRBshQMRL7iiisMw4DhHqhc4vF4RUXFNddcg05lXdc9z1u/fv2wYcOOHTv261//GlNEM8bWrVuXkpKiaVpFRcV1110HL/eIESNWr1596tSpX/3qV0eOHBEEYf78+fPmzYvFYqhx06ZNd9xxB2PM5/N9q9yTJ09+4YUXDMN4++2333jjDb/fP2zYsD179niex8O84Qz3+XzoCGCM5eXlrVmzxjRNRVFCoVC1Ck2WdIt4OKmRRIAIEIEWI9I8+vro0aNI8ZGamhqJRBCAnZub+6c//QkG686dO19//fWZM2fqul5YWJiRkcEYy8/PHzx4sCAIl112GfqPX3zxxZUrV06ePHnBggUYeezz+aLR6PLly1EOd4xDuTENJRQ0HA6XlpZOnDgRew4dOvTbzKBJSUmCICiKEo1GCwsLhw4dGo/Hd+3a9d///d8nT560bXvHjh1TpkzZuHEjXi8cx5k6deprr732be/4Y489dtlll/3yl78cMGCAYRitW7cOBoMrVqxYuHAhY+z2229v3br1b37zG5/Pd/nll8+dO/fqq6/2+XwbN25EXDdEOhKJWJb18ccfT506FSO2L9AdQJY0PfxEgAgQgeZPoCWJdCAQQGAzY6yiouK+++7TNM3zvJKSkrS0tI0bN0aj0Z49e+7atWvmzJmLFi3SNG3v3r09e/bUNG3btm1JSUno7kW37sMPP7x27dqsrKzBgwfrur5v3z6oss/nO336tN/vb926NXqUy8vLTdNEfhJFUXw+H0q+6667LMtau3Ztr169SkpKbrnlFozhdhynoKCgR48eiqIcOnTopptu8vv9JSUljz766LZt2/Ly8vr164dEZtOmTVu8ePHWrVtvuOEGVVVXrVqVnp4uCEKbNm1M09ywYcOkSZPQBgzTSkpKysvLi0ajcCcgxZiiKOiT9jzPsqwlS5YsWrQI+UEFQUCC1Wo/qU+6+T+f1EIiQAQucQItRqSj0ShyewWDwWjlMnDgQBiyw4cPz8rKuuyyy3w+X5cuXQ4cOPD6669PmzbNMIzs7OyxY8fGYrG8vLxx48ZJkpSQkDB8+PBrrrmma9euyPTZv3//q666qk+fPnfeeee3s1+8+OKLrVq1+v3vf//HP/4RWTwx1gsJv8Lh8DXXXGMYRjgcTk9P9/l8/fr1u++++yoqKlasWOHz+a688srnnnuOMfb73/++bdu2jLGFCxf6fL42bdo89thjsixnZ2dnZmYi5dnSpUtffPFFQRDGjBnj8/mGDx8+YMAAGOvxeHz//v0DBw7kyT5N0xwxYsSePXsYY+Xl5YhRf+mlly6//HLUCwP6xRdf/Oyzz0RRxGiuauUZG0mkL/GHn06fCBCB5k+gxYg08lTD0Y0kJI7jWJbF1QgTRUiSFA6HZVl2HKe0tFSWZc/zJEnC7JDYWZIkRFNjHDMyeGOCCsuyEPuNioqKirBnWVlZLBaDyz0ajfr9fkVRUKMsy36/Hy5xTEOJgHAMzULAtmma8JbH43FN08LhMNKwIDUpYwzZPWOxmCRJ5eXlSBeqKEqHDh2QfSUajcKUrzr4Coa7LMuu62KktaZpPXv2PH78OEashUIhDPU+95Pc3c3/4aQWEgEiQARajEjztKAYhYUhT4qiQB0xKLm8vBwCyXtkVVWtqKjASCfXdWGOoygYmoyxoqIinhZUEARJkiKRCPzqixYtatWqFez11q1bt2nTRtO0eDzuuq7jOEgngqhvxtjXX3+NLCKYIwvZv+HWjsVirutCp5GU2/M8aLwoirIso4WmaeLXWCwWjUYdx5k7d+7KlSsRH4d5tBhjxcXFcHdHo1G8r/j9fl3XQ6HQF1988eSTT2LkN1KynCvP2EIiTQ8/ESACRKD5E2gxIq3rOhJsIVmY53nRaNQwDNd1IWxI9mnbdnFxMTJtIUAMxnF5eTnSZMbj8bKyMsyrgRRjkEBMTa1pGmaolGU5EAjALYzJrKCmhmEgcBrGOua9kCQJhiysbWxE+tJIJMLLxBsDxjcjTTdSjYqiaNs2PhGkDdnGCCvLsjDaCoHcsPvD4TAGRmN4GEapwebGzJWGYSCOjES6+T+E1EIiQASIwPkINEeRTkhIUBQFk2dgMkqI1vn0hrbXggBZ0ud7JGg7ESACRKD5ECCRroXA/RAOIZFuPg8htYQIEAEicD4CJNI/BMWtxTmQSJ/vkaDtRIAIEIHmQ6DFiLRCS70SIJFuPg8htYQIEAEicD4CJNL1Kn0tpzAS6fM9ErSdCBABItB8CLQYkZZpqVcCJNLN5yGklhABIkAEzkeARLpepa/lFEYifb5HgrYTASJABJoPARLplqOr9dpSEunm8xBSS4gAESAC5yPQHEU6MTFRluV4PK6qqiiKqqoif2e9itSlXphlWXfccUevXr169+7doUOHpKSk1NTU7t27J9LSKAS6d++elpaWlJTUqVOn1NTUv/zlL8i6c74HlbYTASJwaRIgkb5E1ToajWZmZh44cEDTNOQkd13XNE2XlkYhwBhDClvTNB3HycjIsG370vwPorMmAkTgAgRIpC9RkQ4Gg2lpaUVFReFw2DAMPl33Be4V+qnhCNx8882MMSSib7haqGQiQARaHAES6UtUpC3L6tWrVyQSKSkpwV2LuUAcWhqFAOZl4ZOkde/evcX9d1CDiQARaAQCJNKXqEgLgnD33XeHw+GioiLcZ+RubYTn7awqVFVljHme1717d0zsdtYO9JUIEIFLnACJ9CUq0pqm9ejRIxqNnjx50jAMzG/NGGuUDlmqxGWMybLM/326detGgWOcBq0QASLACZBIX6IiXVZWlpiYGAwGo9Eo7gbMUe3R0igEdF3HnOWyLFuW1bFjR5jU/MmkFSJABIgAY4xE+hIVaUVRUlNTv/nmG8yuzRhDVyw9FY1JAC9GjLHExES4MRqzdqqLCBCB5k+gOYp0QkJCPB6XJElRFEEQFEWRaKlvAvF4vFu3boFAoLy83PM8UojGf1ar+reTkpIMw6hqTLuuy3eg2PvGvzpUIxFoJgRIpOtb/VpIeSTSTf4EOo7juq7jOJ7nJScnI3APW2zbdt3v+q1pIQJE4BInQCLdQkS1vptJIt1MnnyYy71790YXNYzpqpH28HM0k9ZSM4gAEWhkAiTS9a1+LaQ8EulGftLOqg7ObcYY9DgtLY33T1fd0/M82NZVN9I6ESAClw4BEukWIqr13UwS6aZ9yM8S6d69e0OtkeQEcXy8T5qM6aa9WFQ7EWhCAiTS9a1+LaQ8EukmfOrOqtq27R49eqATmrqiz4JDX4nAJU6ARLqFiGp9N5NEusmffL/fj35o0zS7devGA+wxKBDN8zyP29NN3mBqABEgAo1PgES6vtWvhZRHIt34D1vVGg8fPvzpp5+eOXOGMWaaJnJ3O44TiUT2Vy7IGGqaJlaqHkvrRIAIXDoEmqNId+nSJR6Pi6IYiUTi8ThGSzc37RNF0bKsUCiEua79fr9hGJFIRBTFaDQaiUQEQUCbxcqlubWfMXb77bcHg8FAIMCH5/KO0kvnAWiqM5UkacyYMcnJyaNGjXrkkUdSU1NffPHFRx99tG/fvgMHDiwuLkYXta7rdFGa6hpRvUSgORBodiItiuKAAQPC4bDjOLquh8PhYDBomqbQzBZZlvEOAUn2PC8ajYqiKEkSZFuWZUmS0GpRFJtZ84Xjx4+npqZWVFScOXMGesDdrc3hvvzBt8GyrA8++OCuu+4aPHhwQkLCbbfdlpSUlJqa2qlTp1WrVlH/9A/+BqATJAIXSaDZiTRjrF+/fmlpabfffntiYmJGRkb37t07deqU1MyW5OTkzp07p6WldenSJTk5+c477+zevXtycnLXrl0TExOTkpISExO7devWpUuXrl27duvWrZk1P6l///4JCQnl5eWSJOFeQVaNi7xvaLe6E3AcZ/z48cnJyUlJSV26dOlWuQwaNIgHePMVyjhWd9pUAhFooQSao0jjvykWi504caK8vLysrCwej5c3s6W4uLi0tLSioqKkpKS4uPjZZ589cOBAWVlZRUVFoHJBewOBQDAY9Pv9zaz53zXn0KFDoiiePHmy6nRMLfQ+bnHNhvdiy5Ytd999d9++fXv37p2SkpKQkPD+++8zxvDmZNu24zg8yUmLO0dqMBEgAnUn0OxEGo4+RVHKy8tLSkpUVfX7/SUlJRXNbCktLfX7/RUVFYIgfPjhh3fffffUqVNPnz4dCoWCwWBZWVlRUVFpaWmwcoGcN6szCIfDkUjE7/ejTxrhS9zvXfcbi0q4MAHHcWzb9jzvqaeeuueee5KTk9u3b//II48glpv3Q7uuSxflwiTpVyLwwybQ7EQaf1JV/5hUVW2eg0eRYsLzvGeffTY1NbV///5Hjhzht4tpmjgXz/M0TePbm8nKWfaZJEnNsJHNhFUDNQN3dUlJSefOnXv27NmpU6c9e/YwxriXG1ECSPHdQG2gYokAEWjmBJqdSGPyHzhgLcviuZYwkWLz+UROKM/z8vLy4Ku86aabXnvttXg8fu4l9zyv+bScT0lp27aiKFWH4VLf57nXroG2GIZhWRb0eNKkSd27d3/ppZd0Xfc8D/lBTdOEijuOU/UaNVB7qFgiQASaJ4FmJ9Je5QJY3Larals0E47QM8MwFi1alJaW1q1bt86dO/fq1evIkSOiKKKR6FOEQjeTZvNmeJ5X1V0Bw7p5eix4m39IK0AN9Q2Hw8nJyUVFRfwETdPkqbzponAstEIELkECzU6kW9A1MAyjtLQ0JSWlT58+Xbt2TUpK6t69+/jx4+GlxBsGmUGNf0EzMzOTkpJ69+6dkJCQnJzcoUOH1NTURFrqlUBKSkpmZiZjTNM0bv1zv1fjX3SqkQj8UAmQSNfpyr7zzjs9evSADZ2cnNyjR48///nPW7duRaGwpOtUAR1cQwKWZY0cObK0tJQfh5gGl5Z6JSCK4tixY8PhMDjruo44OI6dVogAEagXAiTStcSo67ogCCNHjuzYsePQoUNvvfXWrpVL3759R44ciXSPfG5g8ljWknLND7Ms64477sBxqqpSL3vNEV7sEZ07dz527JiiKDzKgfrOL5Yd7UcELpoAifRFozpnx48//njevHl7K5fhw4czxr788stPP/30mWee2bt3L+/xpejcc8g17AYu0rgElmVpmmbSUq8ENE275557ZFmOxWKCIOCK8iCShr3AVDoRuJQIkEjX/mrrus4nP/jzn/8Mo8227Wg0in8rnsyL+upqT7mGRzqO061bt6rjAlzXJXu6hhQvavcuXboEAoHy8nLsTWb0RVGjnYhADQmQSNcQWHW727Z9991382kqGGP4wzJNk+S5OmANu23YsGGyLBuGAdORR/A1t1FwLbo9nud16NChqKjoxIkTuOGb4RCMhr3PqHQi0CgESKRriRk5oRzHQcauQYMGwaq2LMs0TR5QY5omhY/VEnGtDpNlOTk5mR/qui5Gl2FoH33WFwHHcVJTUy3Lwv2PEd6UX5bfeLRCBOqLAIl07UmWlZXhYE3TEhISsM49q7qu895oPua19pXRkRdNoEOHDowx27Z5cs2LPpR2rAGBDh06FBcX4ynAmxB5vGuAj3YlAhdHgET64jidZy9Isuu6EGlybp+HU6NuxrXAiCDkbPE8r17HH1Fhrud5PXr0QPp6XF0awtCodzlVdskQIJGu06Umka4TvoY5mES6EV4iSKQb5ualUonA2QRIpM8mUqPvJNI1wtU4O5NIk0g3zp1GtRCBRiBAIl0nyCTSdcLXMAeTSJNIN8ydRaUSgSYgQCJdJ+gk0nXC1zAHk0iTSDfMnUWlEoEmIEAiXSfoJNJ1wtcwB5NIk0g3zJ1FpRKBJiBAIl0n6CTSdcLXMAeTSJNIN8ydRaUSgSYgQCJdJ+gk0nXC1zAHk0iTSDfMnUWlEoEmIEAiXSfoJNJ1wtcAB2NokGmalmW5rmsYhuu6tm03gm5dUlU4jpOQkFBeXs5T+tA46Qa4nalIIsBIpOt0E5BI1wlfAxxMIt047wok0g1w81KRRKAaAiTS1UC5+E0k0hfPqnH2JJEmkW6cO41qIQKNQ4BEuk6cSaTrhK8BDj6fSLfoKaeaZ+PJ3d0A9y8VSQTOJkAifTaRGn0nka4RrkbYmUS60RSdRLoR7meqggiQSNfpHiCRrhO+Bjj4fCJt01KvBKhPugFuXiqSCFRDgES6GigXv4lE+uJZNc6eJNL1qsXnLYxEunHuZ6qFCJBI1+keIJGuE74GOJhE+ry6Wq8/kEg3wM1LRRKBagiQSFcD5eI3kUhfPKvG2ZOLtGmajuNommbbNoZNW9UtruuapskY0zSNTwfueZ5hGIwx27ZVVZVlGY1XVdW2bcaYaZqe5+FA0zQVRWGMWZalqipjLBqN6pULY0wURdwkhmFomsYYwz6MsUgkgqIwwriiooIx5rquLMsY3o0GeJ6HA6PRKPbUNA1lWpbFN/ImGZWLoijYh1fkui62xONx1MsYkyQJZ1odmwtts207ISGhoqKivLwccHh1jXOhqRYicIkQIJGu04XGH5Prushyxf/l61QoHVwHAjUVacdxoGrQLVVVBUGIx+O4srIsc4E0DMOyLF3XIaXYPxAIMMagc6IoMsa4osfjcQgYyrQsizEGORdFkR9imqau6zhKEAQuyahFkiSu3HiTwGtHPB5XVZW/XkiShNolSdJ13fM813U9z1MURdd127Y1TTMMA3UxxvBCEI1GUX55efmFBLm630ik63CT0qFEoAYESKRrAOvcXUmkz2XStFtqKtKwVqFwtm1blsXftE6ePMkY03Ud8gZ1tCzLMAxFUQRBYIw5jiMIgmVZKMEwDF3XFUXB16p2czQa5XLOxdUwDLwlwEBXVTUWi0GnQ6EQjPJYLIYXAq1yQZl4dYjH46IowjSXJMnzPLxDwLiHNvPTwfsEjHvGWCgUwpsB3AbVCfGFtpFIN+19TrVfOgRIpOt0rUmk64SvAQ6uqUjLsmzbtuM4kDo4t0OhEFKKQkQdx+F2MLSZa3AoFIIuep5nWRaEXNM0RVFc1w2Hw1zOdV3nVTDG4vE4NFLTNFmWVVWF95sjgQw7joO3BNjHSuWCfWAlQ/hhOkOAUTXeA3iN4XD4k08+QRsEQYAdzxhbvnw5vN8XEuTqfiOR5leKVohAgxIgka4TXhLpOuFrgINrKtK2bcOUfOeddwKBAHdWw7SFoYz14uJitDcSiei6npWVBVMb0mjbNkxeQRCWLVsGccX+oVAIoo7OZsuyFEWxbTsUCi1fvnz79u0cQyQSUVW1pKQEW2B84x0CVjW2S5KE7nZ44xVFOXLkyGeffcYP1HUdbwxr164tKSnRNG3JkiVZWVmyLJ86dWr58uUrV67EO8HixYvfeeedC/TZVyfQ320jkeZXjVaIQIMSIJGuE14S6Trha4CDayrSaEIsFhs5cuTevXuj0Sj6nuExxvVFLzVjzPO8aDSK6TpSU1O//PJL0zTj8bimaZDhI0eOMMbatm0LIWeMlZaWwm5GbzQMd4SVTZo0aciQIcuXLxdFUVEU9BNz77Tf74cNvXDhQtjxMHlVVeWOa9M0YRNHIpGNGzfCmodtDU9Aenr67t27GWM9evSAKs+dO3fq1KljxowZMWKEZVlffPHF//zP/7iuez4xPt92EukGuHmpSCJQDQES6WqgXPwmEumLZ9U4e9ZUpEVRhCU9ePDgvLy806dPL1y4cM6cOe+99x5j7Msvv8zNzc3Ly5s7d67jOJs2bZo7dy4CqgcPHrxy5cq5c+fu3r1blmXLsvbv3//666+fOnXK5/M5jnPw4MEZM2YsXLiwoKDAcRyYuZqmwT2em5vbrl27p59+es+ePRs3bly9evXMmTPPnDnjum4kElm3bt3ixYt37969fv16n8/3xhtvHDlyRFXVDRs2LFmyJC8vz+/3B4PBrKysnJycjRs3fvXVV6tWrWKMTZ48ecqUKWvXrj19+jRjrHfv3vn5+bIst2vXDnHjCF4zTXPs2LGqqlqW5fP50Bl/Pj2udjuJdOPcz1QLESCRrtM9QCJdJ3wNcHBNRRp9t4qi9OvXLycnJxaLTZ48ef78+XfffXdWVtbhw4d9Pt+oUaPGjh37i1/8YvTo0ZMnT77++us1TRs0aNAf//jHJUuWdOzY8a233iovL/f5fPPmzRs8eDBEOjs77Hn3MQAAIABJREFUe86cOVOnTm3Tpg13RGMQl2EYu3btuuWWW/72t78VFhauWbNm/vz5jz/++O23327b9ssvvzxu3LjZs2evXr36s88+u+yyy15//fXi4uJXXnnl3nvvfeaZZzp37rxo0SLXdVu1ajVo0KDJkycXFBT079/ftu05c+YsXLjw/vvvf+655yRJSk9PP3z48J49e9LS0hAil52dPW/evDFjxrz//vvose7QoQM63asV4/NtJJFugJuXiiQC1RAgka4GysVvIpG+eFaNsydEGlHWGLhs2zbCs83qFtu2MQwpIyOjoKDAtu3c3Nw5c+aMGDFiypQpu3btSk1NRbCYz+dDMJfP991TM2TIkC1btjDGDh48mJycvGDBgnnz5iFkDDvour527dqpU6fecccdu3fvDofDjuN4noeu60gkMm7cuJycnEgk4nne/Mrl8ssvtyyrVatWGD2FUdGwdBVFad26NSK/ysvLMzIyFEXhRvD27duHDx9ummZ5efnMmTMnTJiQmpoKSzonJyc7OzsjIwPm8t69e2fMmPH4448PHz5cVVXHcYYPHy7LcnVsLrTNMIzExMRgMFhWVgYXPc0n3Th3ONVyqREgka7TFSeRrhO+Bji4piLtOI6iKKqqpqen79q1a82aNb179164cGFSUtIbb7xx6NChAQMGQIQgvfAPu66bnp6el5en63p+fv6oUaNef/31SZMm4YQuu+yySCTyr3/966GHHnrzzTdvuOGG3NxcjHJGzzQ6krt167Znzx7G2E9/+tNZs2bNnTsX7wFt27ZFJzH6s1Gv4zhXXHEFQsHLysq6devGGLvqqqswAPqbb75JTU09cuSIz+dbvXr1Qw89NHDgwGg0Onz48B07dpw4cSI9PZ1nZQkGg4yxjIyMnJwcQRC6d++OIV4X0uRzfiORboCbl4okAtUQIJGuBsrFbyKRvnhWjbNnTUXa8zzbtkVRHD169M6dO9etW3fnnXe+9tprHTp0ePXVVz///POhQ4cGg0FJkn76059iZ6hmUlJSz549Fy9efOutt2ZlZX355ZeXX375ypUre/To8fOf/5wx1q9fv9GjRz/55JM/+clPNm/ezBiLxWIQaYxpTktL279/v67rV1111WOPPTZhwoQbbrjB87wxY8ZMnDhx/vz5GzZsMAyjc+fOzz///DfffPP3v/89MzNz+vTp7du337x5syAIPp/Pdd14PJ6dnd2vX7+jR49ee+21zz777AMPPDB06NBoNDpixIicnBxZlv/93/+dMVZWVvbKK6+88847L7zwwq9+9Su4EHA656jw92wgkW6c+5lqIQIk0nW6B0ik64SvAQ6uqUi7rossm2vWrDlx4oRpmmvXrkVn8K5du4LB4EcffYTI7SlTpiDma+7cuaZpfvTRRydOnJg2bdq2bdsQfbZjx45XX331k08+Wb9+vaqqoihu2LBh06ZNq1atisfj0WgU3nJN0yzLkmX5o48+CoVCsVjsyJEjb7311po1axD8JYripEmTli9fvmnTJlVVCwoKpk2bBvP3nXfemT59ekFBASR/2bJl6FcuKSnJysoKhUJ79+5dvHjx559/vmLFCsbYqlWr/H4/Y6x9+/Zy5bJt27YZM2YsWLAAI8qOHj06btw4cnc3wJ1IRRKB+iFAIl0njiTSdcLXAAfXVKR1XcfQJowthuMX3caQZGQRwTBlx3EkSQqFQjwRN4KlkfgTDm3EZ/GOZ0mSNE0rKSmZMWPG7NmzlyxZMmnSpAULFpSWlhqGEY/H4UvnmcNRqWmasixj0BRPPBKNRiHJPFOYLMvYX1EUdMDjhlRVlec6Rc6TefPmbdmyhb+RYDfHcV5++eWPP/7YsqzvMZzP+Zks6Qa4ealIIlANARLpaqBc/CYS6Ytn1Th71lSkodB8Ogo+X0UwGNR1PRQKYQoKQRBM00TsFU4ElmhJSYnneUgqAmMXY59gfCN0XJKk48ePr1y5cvbs2fPnz58zZ87ixYuLi4sxwBpeaC7wqqrC9kUJfHoM5PhE2m0IcyQS4bnSgsEgTgQebGg5Modrmmaa5pkzZ3bu3MkTlqmqGgqF4vF4Tk4OwsfOUeHv2UAi3Tj3M9VCBEik63QPkEjXCV8DHFxTkYYLWhTFYDBo23Y8Htd1XRAE6BwSa2PaDMxdgTm1+NRPSJdtGAb023Ec13WRliQYDCIJCRKYuK6LPNuwknVdhwwbhoGB2mfOnEHhPCW467p4e+D5wBFBjQk58E6ATm4kWsGsVmgb8qVAufGrruumaUKzcVQ8HnddVxAE/PQ9svz//5lEugFuXiqSCFRDgES6GigXv4lE+uJZNc6eNRVpdO7C5IXv2nEc6JEkScg7BsvVtm2IGfRbVdV4PI49MfpZFEXXdVVVRcYS+JCRARRZzCzLQiIwJD+BXmIijaoOZ4zj4rVwEWWMCYKAwtFgNAyvFEg/Hg6HGWN+v1/TNJQgimIoFPI8D1Nv8clC8OqAjGkU3d04NyfVQgRqQYBEuhbQvjsEKRjRoWjbdlJSEv43PVqalIBlWWlpaUht7XkeJJPPloGe2sb8RP5t9CLDro1EIoZhQCNhf6MDG/m/oLvxeDwSiSByG5m6MUsmn5ILA8HxtTFPh9cVi8UyMjJOnDgRj8cx6zYepPq6+ChNURT+/oT3oVo+rnQYEWixBEika3/pPM9zKhfGWHJyMsa21r44OrKeCNx5552YmBmTXui6jsHEXGAacwWZtJ9//vn8/HzElDHGYDfDta4oCqxezERp2za85Yyx2bNn33fffQ8//PDBgwe5Kp81GUZjnkvVuhzH6dmzZ3l5eVlZGb9u9ZjPBK+/vGRaIQKXLAES6bpeephHPXr0QEH1ZUlQObUjwBhLSUnBpMt8IoqysrKqAtOY64g4O3r0qOM4RUVF6JbGOGnMKVnVEkVXMeKxTdPMy8vbtm3b0qVL+/Xrx73o6GzGmweP4m7MM0Jdpmm2b99eEITjx4/jzkeHeu2u2rlHnfXKq1YudX1W6Xgi0AIJkEjX8qKZpgm7Ae64e+65h89yWMsS6bD6IGBZVvv27aF2iNVCMs7GlzEuZoyxcePGYYIs3CToV0ZMOILD0Z8N8RZFERFnCPM+fPhwRkYGOrAty8LoLxjfmPuySU6NMZaUlCSK4pkzZ+AbqI+rd3YZGH5Wjwb62RXQdyLQ7AmQSNf+EmGaYXQiDh06FBFA59oEtKUxCXybTDs9PV0URbhhHcdB72+TKBk0xvO8zMzMnTt3FhcXC4JQXl6elpY2YsSIxMTEIUOG7Ny5E9NyJCYmjh49+pVXXonFYqZpCoKwZs2a8ePH33LLLQUFBQhAQ8ozDAZDTvKmOq9wOJyUlHT48GG8SfDgjPq61gjJBEA+OTeetdo/sXQkEWiBBEika3/ReLeZKIrJyckDBw7s2LFjD1qalEBaWtqNN96IQVNIyo0g7aYSs2AwGAqFRo8enZ2djbe64uLivXv3bt++/fDhw+io3rFjx7fTWO3fvz8nJ+fgwYPoxkbY+YYNGz788MNbbrklEAggLxhsaMuyEIXeVOfFGLvtttvGjx/fu3fvrl273nPPPb179+7SpUt9Xfxu3bqlpqbeddddvXr1GjJkSGZmJoaA1/5xpSOJQMskQCJdy+sGOwajXBhjVQek1pcxQeXUgoCmaX369JFlGWHVjuMgq1cTihlmo9q/f388Ho/FYsePH4fwJCQkDBw4cO/evbNmzerbt2/Pnj2HDRs2adIk9FsHg0FM/sEY+6//+q/y8vJ4PG4YhqIoGLGN9aY6L4yTPnTo0KlTp/gjhJ6FWly1cw+pWua3Pd/33nsvQvT5dlohApcIARLpWl5ouOMYYxgayxjj+SNrWSIdVk8EkpOTEWaFLJ6apjWhZ9h13XA4PGTIkL179yJ7SSQSKSgoyMnJyatckJ17+/btR44c2bZt2759+4Dh9OnTffv2TU9P/81vfjNu3DhBEHDLIf0nxiM1YZ+0LMudO3e2LAu5U5D7rJ4u4P8VgzdgZJu58847keOlfqug0ohA8ydAIt38rxG1sGYEEhMTMZyJ6xmioJFQjDEGUxX+Dx4sfZErSBAGuRUEAWlJMMQZqT0RGhaLxTCSHrXk5+fHYrF4PM5TffGMJcgugpxiGI6FfTRNi0aju3fvPnz4MNKT4aRUVcVXuH8FQYCJia+2bYdCIdu2I5EIos/KysoQj4aGYTeQQeaTWCwGIYTvIRgM8kQoGCRWLRlN0xISEgKBQNXkazW7ThexNyULughItMsPnACJ9A/8Al+Cp1etSEOWoKZIYR0Ohy8gQtUqk67rfr8f8dWWZSFIG5NoxePxUCgE6eWvCLquBwIBz/MQ6sWzh2KsM6xhu3JB2DbipERRjEajnuchbTgSs0C5EVCGAQWGYWBENQbrY94tvBMgA5qiKJBhbIxEIqIoIgCtpKREFEXINk5EEATLspBOHNHUkUgEE3hUi4JE+hJ8suiUm4QAiXSTYKdKG5BAtSKt63osFoNUo25IVLUKdIGNOFZRlGAwaJomn10DoWpIRYdecKlywYhtWZa58xZTd8CA5ilKMO5Z0zRJkuLxOMxlXdcxXBiabRgG3PiyLENTkc7z9OnTmC8LVjVsaARJmKYZDAahzThfGM0IYbMsC0qsaRr0GOUjCQwywJwPBYl0A97BVDQRqEKARLoKDFr9QRCoVqSRYhMebx71fQFL8XziFAqFSktLEYugaZooioIgGIYhimI8HpdlGT5tTFyB6qCIsVgsHA7DVkYDEPOlqiq+wskMnzNjDPNnSJIkyzJPCY6E4bIsw7wuKSnhV8wwDEzAhVk0FEXB4CjkHPU8D9NpQICDwaCiKGgqvOJIO4qmYroRjH4+HwcSaU6eVohAgxIgkW5QvFR4ExCoVqR5clDbtjGW6cIidD5xQpe2pmlc9WFDwwWtKAoMVkVRkHzbMIxYLCYIAnKCYqRvLBaDRxqzbFVNVIKMobD7YTrbto0EtNFoFHawZVmSJMEp7ff7ucmOTOCRSITnu0ZjwuEwtF8URV3XYXYj1NGyLNBACwOBAAx9flLn40Ai3QR3NlV5SRIgkb4kL/sP+qSrFWmMlobImabpOA6ynZxPhM63vaysDFayZVnc6o3FYrqul5WVmaYJW1mSpGg0yifOQr1Qa8hhNBrVdR2zRCuKAu83Atx4zFdFRQVMW+TJkSQJVm88HkfMGu+TLi0thaEMp7okSaFQKBaL9e/f/+uvv4bi6rpuVS7hcNi2begxlJ7L/KlTpyZMmIAIOLxknI8DifQP+hmik2tGBEikm9HFoKbUC4FqRRraqes6enxLSkomTJhQUVFxPhE63/brrruuuLgY7YzFYqIoQvOys7MnTJhQXl4OKxnzU7mui/zhCNXGUR07dvT5fAi6xnRYkiQh1gxzX0JKS0tLVVVFeLMgCPBaM8aKi4vhCS8rKxs3btzmzZshtLHKxbKsQCDQtm1bxlhZWdn48eMFQcjNzb311lv/7d/+rXv37qgLMd7YZ/ny5a1atYJ1Hg6Hu3btGgqFysvLEeZ2Pg4k0vVyr1IhROB7CZBIfy8i2qGFEahWpJFrU9d1GLKyLHfv3h0u3/PpULXbfb7vHhlFUWKxGJzJkUjEtu2CgoLu3bvD8IWFret6NBpFSkuuwfv27evYsaNpmrB9EVmNCRkty8LUGpqmff755xkZGYZhwKo2DMNxnFAoBD827/aORCLoz+bTXIqiaNu2z+dTVXXmzJnLly+XZRmGviiKjzzyyI4dO1zXlSQJxvTatWvfeust7I+NkydP/uijj+Cch3u8Wg4k0i3sqaDmtlgCJNL/d+mQ4xPeQjgV0ReI6Fz+icBdxA3hjwzZGVEK/qPRbYkkSnw7zB18RcckasEWPqaWz1WA/TEjMoJ4efoU3uPI9QaF0CcIJCYmIhoLdioycyGSGRNPRaNRVVVHjRoVi8Wwz9ChQ32Vy7Rp0zzPmz59+rPPPuvz+X70ox+tXr26Xbt2rVu33rRpUywWa9Wq1fjx430+39ChQ2OxWElJyfXXX/+jH/2of//+6enppml27dr1Zz/7mc/nmzZtGkZnSZLEZ4z2+XytWrXy+XybN2+++uqr27Rp88tf/rK4uFjTtPXr16MNs2bNuuKKK1C7JEmffvopto8ZM+bMmTNbt26dOHHiDTfcMGHChKFDh27fvv2rr75Cse3atTt+/LiiKK1bt9Y07YEHHsjPz0faMkhyYmJiTk4OYwzOdoSnua7r8/l0Xcd7wKpVq6ZMmYLx31WDz8+SahJpetyIQOMQIJH+P862bXMfICwkxhhia7EHl0Y4TvErfkLorG3biqIgFAjbodlnSXJVbUaZx44d27x5M4Qf/lg+jlbX9U2bNqE0eFkh3pIkqapaWFiIplYtEztfyp/VinQoFILBijceWZb79Onjui6GM0mSBK+1z+dTFGXatGl33XWXbdvTp0+/6aabioqK1q9fP2jQIM/zWrduvXnzZsMw7r///v/93/8dN27chg0bRFH817/+de+998LLrSjKqVOnrr76asYYRio7joO8H4WFhWlpabg6SF0yf/78l156KRAI3HTTTadPn8Z46HXr1qWkpGiaVlFRcd1116EH+r777lu+fPm+fft+/vOfRyIRSZJ69uz55ZdfRiIRdGk/9dRTixcvDoVCrVu3VhRl0KBBOTk5EFfI/MSJE5GFDcFi6MZmjEGkMWorLy9vzZo1pmkqihIKhc7SZv6VRPpSfsTo3BuTAIl0NbRt23b/P/bOPLyq6tz/ByfUWm1vn8f79La3T4fHpw69dQJlykgCBGJISBhEQHG60qte7XVotY6gjBIZBJmkTsWxYFUUCVMShpAEkFFCkITkJGee9tnzsH403/5WTyGJCZycnOHdf4R99tl77bW+ax8++33Xu95lmjwIFiYsz86NC4BegBlHkIUK6xRZlsUXM8aZpmnquv7mm2++++67X3zxBRJXweZ++OGHkajZ5XK98cYbFRUVKHDlypV/+9vflixZ8uyzz+LIu+++++abb27YsAFUHjp0KI9dwgn0lzHWLqThKcFyF5iFnJWVhU4xTfP111+//PLLQTLG2Jw5c1555RVZlqurq4uKihhjVVVVxcXFfr/fZrMhyWhpaen8+fOnTJlSUVHh9/t37txZUFAQDofXrVuHcvr27etwOEKhEBKc4d1uy5YtI0aMEEWxubl5yJAhOPO1117btm1bQUGBZVnhcNjr9VZXV48dOzYUCm3btm3atGn19fWapu3ateu55547ePBgYWEhMpqNHTv2888/dzqdJSUlffv2tdlsr7/+uiAI8MlnZGSUl5fjCUHz58+f/9BDD3300Uff+973Lr300q+++uqUD9zj8Xzve99D1LemaX/7299mz57NQ8k4lU/bIUjTb40UiI0CBOl/6MyRDEuLG8rcgGaMvfLKK9yMRtoK5BOG9cMview57pGWZfl3v/tdcXHxrFmz3n//fQTQIhkkBkcPHDjwi1/84tlnnx0wYMC8efPgYB83bpzNZquoqPB6vV9//XVpaem8efNsNtvx48dlWf7ggw+WL1+OoiJvmuL77UIak4YNw9B1HQFZJSUlyPLhcDguuuiiEydOVFZW/vCHP/R6vYsXL166dKkkSbt27Ro6dKgkSWVlZdnZ2ZZlXXrppZs3bxZFcfLkyR9++OGdd965ePFixtjy5csHDhwIq7ShoaGurg6khG8ZM51aWloqKyuLioqCweD06dNffPHFUyMmTz/9dGlp6ddff/3b3/62sbERzpjdu3dnZWWFw+Gvv/7617/+dWtrq8PhmDJlyrZt28rLyzMzM7FG1tChQzdt2vT6669PmjTJ6XTOnDnz+eefFwThggsu0HX9/vvv37FjB2MMS1m3tLTMmzfv/vvvx6Pr9Xq5AwZj0hhzWbZs2dKlS+EJ9/v9GE1v9y+lBU3xHxo1PzYKEKT/qXMgEGhpadmyZcu6desOHTpkWdauXbtWr179+eefn1rivry8vG/fvnPnzg0Gg5WVlTU1NYIgBIPBLVu2MMbef//9mpqaDRs2HDt27PDhw3/+858XLVp04sQJZGREUO6Pf/xj/LcYCASQJ5Ixtn///ilTpjDGPB4PiN7Y2Dh8+HBJkt55553169c/9dRTzz//PP5TRl0XLVqEJQ537979wAMP8Ljff7YktffahTSipdxuN5KONTc3X3LJJX379v3+97+/YMGC6dOn22y2m2+++Uc/+pGmafPnz58zZ46iKOXl5VOnTvX5fDt37rz77ruDweDVV19dUlJis9nuvPNOQRCOHz/ev39/m832wgsvTJo0ye12Y0T5xhtv/NWvfuXz+RDYZZqmqqqyLG/atOmee+7x+XyHDh36xS9+YbPZ0tLSAMUXX3zxiiuu6Nu371NPPcUY+/nPf44g7SVLlmDI+YknnmhsbCwvLy8pKcGw+l133VVTU7Nv377+/ftfeumlI0eOXLhwoSzLNpvN4/G89957ixcvDofD8+bNO69tKykpcblciBV3Op0+n++ZZ5659NJLbTZb3759YUA/++yzGzZsgIWN9792CU2WdGr/yKj1sVOAIP0PrWENHzly5Iorrpg2bdqGDRu2bt06cODAmTNnjh49+tNPP/3www9tNtv8+fM9Hs+rr74K++nAgQMwa05Zt5MnT164cGF5efnll1/+wAMPPPTQQz//+c9BZa/X++c//3nevHmrVq1as2aN1+uFRe71emfNmrVu3Tq/3w+T3ePxzJw5869//SsiyEKh0JYtW079Z4qh6CVLljz22GP33XcfMjCHQqHbbruNVgc67efSLqQFQcB0ZEmSMBJRX18vy3J9fT1Cq0KhEIISnE5nKBQyDKOpqUkQBOTQFgRB13WMaHi9XoyGYJACL0zI6a1pmr9t46m8NU2Dve52u5HAxOl0ItYBsVoYtIZLHPm0UQ3DMIS2DUPpSI4Gr7XP58NCGqIoYjZ2S0uL3W73tm2w3ZEAfMSIEXgpwYxqt9vd2tqKanA3ONKWBQIBy7IkSRo6dGhdXR2eT5fLJXawEaRPe+roIynQQwoQpP8p7Kn/oSoqKgoKChhjdrv9zjvvfPzxx99555177733//7v/+DJhGW8bNmyhQsXBoPB/fv3jx49mofeMMZqa2uvvfZaFNq3b19e+qxZs6677rrXXnvt97///fnnn4/j4XB4xYoVr7zyimEYmEXj8/luuOEGzgOcxofDZ8+evXr16iFDhmzcuBH/X+fm5pK7m4uMnXYhjWQmGF8IhUJIM4KlKYLBIPTXdd3tdvPMIRhxaGlpAdVM0wTYAoEAMmwzxgCzcDgMPCuKgjQm6J05c+ZceOGFp97tLr/88j59+thsNk3TkKpM0zTElvOkKJiOJUkSlqWCFY5wdKyghfU8vv76azQTGUmxKgaqAd63tLQga4phGHl5eU1NTUje4nQ6AVxEQvCJ0YhuOzUc43K59u7d+9hjjyGGjjFGkD7t0aKPpEDsFSBI/0NzRIfV1taWlJQgP1ROTs4f//jH0tLSuXPn7tixAzNVcPb8+fMXLFjAGNu5c+eYMWMURcEApKZpBw4cAOYjoc4YW79+/axZs2D1InQIZllpaekrr7yCYnfs2DFq1CgEmmHgEGOo+F+VPxzl5eUTJ06Eh3zMmDH8OO1AgXYhjcUnYGsixwhSeAK3GHzlST3dbrcsy8j7AV+I3W5HRDRPqQ1kIt4KljFmc2HMArlKkIBMVdXW1lZd17Gjqiqoj3nJmMTs9XoDgQCmbGEYBelLPR4PX1lLVVVEToRCIRjEfN0qRGLD8kbMtqqqSCQOGMMcR/CXz+fj6VOQZQWx3HjM4FfgU7Q7MKRFsqTp50YKxEYBgvQ/dTZNc9euXcXFxYigKSsrGzx48OLFi1euXFlZWckY++Uvf/mnP/3J6/Xu2rXLZrOVlpYOHTq0qKjINM3zzjsPcN2zZ09hYSG80+eddx4mXmOO1rXXXntq2O/RRx/Nz88HoU3TPHTo0MMPP6yqaktLi81mmzFjxrx58xAOFunHDofDW7ZsmTNnzpIlS379619/9NFHuq5XV1fffffdHOr/bElq72VkZAC3mM8myzIWoeqIN3T8LBQgSKf2j4xaHzsFCNL/1FrTtNbWVqRbgg9569atq1evLi0t3bt3r6qqBw4cWL58OezsrVu3Ll++vK6ubsuWLS6Xa/Xq1acidZEy4rPPPsP+woULkZ2KDzDPnz9/yZIlKAHLIbS2tubl5YmiaLfbFy5c+Nprr61Zs2bBggXwl/LKGYZx/PjxjRs3LliwoLa2FsdPRRRv2LBBURS8E/CTU3yHIH0W0O3uJQTpFP+VUfNjpgBB+p9SY2APZjTHXrht46nEGhsb+VdYocE0TVyIuVv8TD4vC0ZzZGITHvKNez/66KNY/RAlIMsYzy9mmiaAjVFPjDsimumOO+44fvz4PxtAe20KEKS7S9yzOJ8gTb82UiA2ChCk/6EzEpjgQyAQACO5JxmI5QFcgiAAvfiLqziq8RFjmWAquM4v5xOxcGZ5efnRo0f5JCuczF8FYHDjTPwVRREBwOvWrUMgUuS3tN8upPGyRX+jpQBBmn5opEBsFCBI/0NnuKAjh4ER3ItoHW7XYowZAT48gzdYziHN859giQWejhsF8uSjSFvBu/k0NnN3N2LH+EdUgF/FGEOkUuSRFN8nSEeLxJ2UQ5BO8V8ZNT9mChCk/yE1bGWsWYRDHMz4iBP46oGR6OVWr2VZ/CrLsvhxnroERWGiDvYFQYBDG2jHXYB/7ujGmXiB4CcoigJg85cDflqK77QLaUQ+099oKUCQTvFfGTU/ZgoQpP9FajiiDcPQNA3UxF/LsgKBAL6NPC7LMkiJg7gQUWM4gmFmwzCQcwrGNG4ZaRPDEw6o4zgYzw1oXMIHp1ET/GWM8RVB/qUxqfqBIB1QpcDWAAAgAElEQVQtEndSDkE6VX9e1O5YK0CQ/ofi3OqNnJQM0IKgMJGBSUmSTNNEaBjSYvB+Qzkcn5Ek5tjm32LHNE1+BIDHXSIXu+RWNX8ngH+ee+l5BWiHIN0JXKP1FUGafmikQGwUIEjHRme6S+wUyMzMRB4PURSRbjMUCkULTlQOVyAtLa21tdVut6NrT/P6RKW/8WZsmmZGRgbS+0SlWCqEFEggBQjSCdRZVNUuKUCQ5hzt0R2CdJceRzqJFDg3BQjS56YfXR1/ChCke5TNvHCCdPw9+1SjJFSAIJ2EnZriTSJIc4726A5BOsV/aNT82ChAkI6NznSX2ClAkO5RNvPCCdKxe6bpTimsAEE6hTs/SZtOkOYc7dEdgnSS/oCoWfGlAEE6vvqDanPuChCke5TNvHCC9Lk/q1QCKfCdChCkv1MiOiHBFCBIc4726A5BOsF+GFTdxFSAIJ2Y/Ua17liBjIyMUCgUDAbD4bDf7w+Hw0Haoq1AKBRKS0tzOBx2ux0zpCPTAXXcOd37huZJd08vOjsZFSBIJ2OvpnabCNLRJnI75RGkU/tHRq2PnQIE6dhpTXeKjQIE6XagGu1DBOnYPMx0F1KAIE3PQLIpQJCONpHbKY8gnWw/G2pPvCpAkI7XnqF6na0CBOl2oBrtQwTps3086TpSoHsKEKS7pxedHf8KEKSjTeR2yiNIx/8PgWqYHAoQpJOjH6kV/1SAIN0OVKN9iCD9zweO9kiBnlSAIN2T6lLZvaEAQTraRG6nPIJ0bzzadM9UVIAgnYq9ntxtHjx4cCgUCgQCHo8nFAphtnQ7nOnVQ06nkzHm8XhkWXa73YZhNDc3C4IQCAS8Xq/H4/H7/ahgoG3r1cq2c3PG2PXXX+9wOFpbW/lKz5qmRffRonnS0dWTSktEBQjSidhrVOcOFQgEAgUFBcAe+Od0OlVV9cfZFggEHA6HKIonTpzQNE2SpEAg4HK5gsFgKBRCprBgMIhaBwKBOKu+/9tvvx01apTD4WhoaNB1Hf2BrCYd9k33vyBId18zuiLZFCBIJ1uPUnvy8/Pz8vKuv/76zMzMoqKi9PT0gQMHZsfZlpOTM2zYsH79+uXn56enp/fr1y8nJyc7O3vIkCGZmZnZ2dmZmZlpaWmDBw8eMmRIWlpanFU/u7i4OCcnx+FwCIIAS1rX9agnHSNI08+ZFCBI0zOQbAqEw2HGmM/nO3bsmN1ub25uDoVC9jjbWltbm5ubW1paXC7XsWPHHnzwwbq6Orvd3tLS4mjbUF+Hw+F0OltbW+Os+nan03nw4MFQKFRfXw9O98RjRJDuCVWpzMRSgCCdWP1Ftf0OBWDMhcNhu91+8uRJURRbW1tPnjzZEmeb3W5vbGz0er2BQGD+/PnXXXfd9OnT7Xa7y+VyOp3Nzc0NDQ1NTU3Otq2pqSnOqt/ibttQK3SJoijc7/0dndTlrwnSXZaKTkxaBQjSSdu1qdkwxC5F0kIUxai7YaOlrWVZmqbl5uYWFhampaU1NTXxklVVRVssy5IkiR+Pkx1ZllETjEP7/f6eqCRBOk66m6rRiwoQpHtRfLp19BUwTVPTNDhgNU3joUxGnG2MMbw9zJ07NyMjY/DgwYMGDXrppZdCodCZoliWFWfVNxhj0FlRFF7hyHcjfvBcdgjS56IeXZscChCkk6MfqRX/UMBq2/CB23YYpY4rjYCfI0eO5OfnZ2VlDRgwoKSk5JZbbjl8+HAgEEBVdV03DAOEjqvKozLwT0BwGNYE6TjsJqpSoitAkE70HqT6J6QCeIF44oknsrKyioqKrr/++pycnIyMjHvuuQdGKl4sTNOUZZn7AxKyqedQabKkz0E8ujRJFCBIJ0lHUjMSToHNmzfn5OTk5uZef/31EydOvOmmm7Kysn77299u2LABbYnbofSYSU2QjpnUdKO4VYAgHbddQxVLZgUMw5gyZQqfw33NNdeMHDly2LBhw4cPv/3220+cOMEbn8qoJkjzx4B2UlYBgnTKdj01vDcVKCsre+CBBz766KPy8nJVVQsLCyVJ+vrrr9etW/f4449XVVXx8V2Aqjfr2nv3Jkj3nvZ053hRgCAdLz1B9Ug1BZBXHOHoN9xwA5qvqqrX60XItM/nSzVNTmsvQfo0QehjCipAkE7BTqcmx50COTk5wWCQL1ABF7eqqqns62aMEaTj7kmlCsVcAYJ0zCWnG5ICbQqIosgYwypSWVlZUMWyLF3X3W43PmIKVsoKRpBO2a6nhnMFCNJcCtohBWKngKqqfIVHxtjNN9/MGItcoyIcDgNRjDGcHLvKxc2dCNJx0xVUkV5TgCDda9LTjUkBglAnzwB3/jPGsrOz8abC4+lM0+T7KfsS04l69FXSKECQTpqupIYkngIE6U76zDAMXdc1TdN1PTs7G8w22zbDMCJH61M22Usn6tFXSaMAQTppupIakngKEKS/s89kWTZNc+jQoTzJKw8ow7VE6O/UkE5IaAUI0gndfVT5xFaAIN1R/3EPNnaGDx8eDocjrefIEf2OCqHjpEASKECQToJOpCYkqgIE6Y56ji+uhYHn4cOHg9Z8iUzDMCIHrTsqh46TAomuAEE60XuQ6p/AChCku9J5hmFkZWWdZkZHXggZI4/QPimQNAoQpJOmK6khiacAQbqjPjNNs7m5Gfa0pmnp6emMMXBaaNtwoWma3ObuqCg6TgoktAIE6YTuPqp8YitAkO6o/6qrqz/55JP6+npMEwekdV0/efLk9u3bq6qqsJSnYRh89Lqjoug4KZDQChCkE7r7qPIJrwDGXAcOHHh2PltcheRljDFZlpMj47eiKJMnT87Ozp46deojjzySnZ395JNPPvzwwzk5Ofn5+U1NTQjqlmWZIJ3wvwFqQKcKEKQ7lYe+JAV6RgFd12VZVhQFsCkoKABcrW5ujDHET0VGUSXBrCRRFNeuXTtgwICCgoLBgwfffPPNw4cPz8nJ6d+//5tvvok+4c3kOz3TV1QqKdCbChCke1N9unfKKoDhVdAlEAjk5uaOHj26X79+Wd3cMjMzx4wZAxk1TePBz8kh7AMPPJCZmZmenp6ZmZmdnT1o0KAxY8bA0Q23ASZi0bB0cnQ3taJdBQjS7cpCB0mBnlUAhm8oFIK/Gk7vblrRfz9dFMXJkyd7vd5ISzoYDPZs7WNV+pdffjl48OCCgoKsrKyMjIzMzMwPP/yQMeb3+/k8aVVVyZKOVYfQfXpBAYJ0L4hOtyQFQqEQRDAMA7m0IinbLX3S09NBesMwBEHo1rXxfLKqqqcmQz/11FNDhgxJT0//zW9+89BDD2EEmhvTPOQ7nhtCdSMFzkUBgvS5qEfXkgLnpAC80wAPgr+6a0wzxgYMGABIy7KMnXOqU5xd/O23395yyy0jRoxIT0/ftm0bYwx+ArKe46yjqDo9pQBBuqeUpXJJgc4VCIfDkZHJqqpGpqfu/Fr+LRJ98I/Y4Wb6accT6KMgCJZlYbD52Wefzc7Ofumll5AZlL/ZYLFtLLmRQE2jqpIC3VKAIN0tuehkUiA6CpimCf+2ZVnBYJD7b8/Cks7NzeVJP87aZx6dVkW7FLTL7/enp6cfPXqUF28YBg8WSz7nAW8m7ZACjDGCND0GpEBiK5CRkRE5NPud0Bo/fnx2dvbw4cMzMjIwqWnEiBGZtEVVgWHDho0fP54xJkmSZVmw/slFn9i/tF6qPUG6l4Sn25ICUVKgW5DWNO2OO+5oamriNxdFER5j+htFBQKBwNSpU91uN3SWZVnXdYI0f+pop+sKEKS7rhWdSQrEowLdhfSNN96IZoii+J1mdzw2OEHqNGjQoKNHj4bDYaNt42lnEqT6VM14UYAgHS89QfUgBc5OgW5BmjHGIY3J2ZqmSZKk0hZVBSRJGjBggCAIPp8Ps7rh+j67LqarUlkBgnQq9z61PRkU6BakDcNIS0vTNI27Xk3TJHu6J56DwYMHOxwOu92OwpMspq8nFKMy21WAIN2uLHSQFEgYBboFacbYuHHjBEFQFAWmI+Z9wSVLf6OlgGVZ/fv3b2hoOHbsGBzdPIA/YR4sqmh8KECQjo9+oFqQAmerQLcgLQhCTk4Ov5Vpmpir3d2pX3R+5woYhjFixAhN0xwOB9KMW5aVTPng+CNEOz2tAEG6pxWm8kmBnlWgW5BmjPXv358xpus6n2rcs/VL1dL79+/f2NjY3NyMJbEpcCxVH4RzbTdB+lwVpOu7pQCClTCvV5Kk00ZDMVCKiSs8GxfPdsmHUWGRIB6HF3hmui4k2sRxXhruqOs6P+L1etEEXhkMH2KhKk6yYDCII5F4k2WZ16pbOkTx5O5CGudjRpBlWdiJ4uwjKso0TcuysrKyWltbW1pa0Nd4eKLY71RUiihAkE6Rjo6jZoqiGOn3w39eSMjMicsY83g8kTk6MKSn6zpnKgwUHOdORUVRkG4TKb2wRBI4KsvyX//614aGBq5F5P+bIPrhw4fLy8th9ADVsizzRaU++OADXMvBHFlhXmyMdwjScfhaQJCO8a8giW9HkE7izo33piET02mRxoAlr7rP5wOqOVBh74qiqOs6CM2TR+KqcDh85MiRVatW7dixgzEWCARwXFGUgoICxphhGJWVlStXrvzyyy+5nW0Yxpo1az799NOZM2eWlpbidqFQaNu2bW63G2tKjh49+sSJE7xufIeb4PxILHcI0gTpWD5vdK8YK0CQjrHgdLu/U/M0A5RDDmjctWvXe++9B0MZNms4HJYkyefz4QRu2vI1kZB2UWzb3nrrrXHjxj377LPf+9739uzZg8I1Tfvyyy9ffPHFYDC4Zs2aO+6446WXXvrBD35QU1PDu0TTtMLCwksuuaSsrAzBz5MmTbLZbEeOHLEsKxQKrV279p133kGBhmHw9wZuWPOiYrlDkCZIx/J5o3vFWAGCdIwFp9sxAPXkyZNlZWWffvophpY3bdr09NNPy7IsCMLzzz9/4403zpgxgzH23nvvNTU16bp+5MiRffv2SZJUVla2cePGvXv3btq06dChQx999NF7770H/3kwGLQsy+12w/5etGjRypUrGWOhUCgcDq9Zs2bt2rWMsaNHj2KdqDlz5qxYsQKGuKIoy5Yt27Fjx8yZMx977DHGmNPp/Pbbb++6666amhoMk1dUVDz00EN8Tck4mflKkCZI038rSawAQTqJOzcem6YoCgzQGTNmZGVlPfXUUzt37nzhhRfuueeeVatWXXvttX6//7777rv22msXLlzIGJswYcKWLVsYY4vato0bN1566aWPP/74J598smLFiiuuuGLOnDlpaWkPPvggt2tbW1vR8qFDh+7du5ercMstt1RXV0fa4uPGjdu/fz9OAKoPHTr0/vvvM8Ysy4L5np+fzwtpbGwsKiribIZJze/LbxTjHYI0QTrGjxzdLpYKEKRjqTbd658KzJs37+WXX8bnyy67bPbs2atXr87NzX3//ff3799/2223YfC4pKQEQ8vTp09fsmRJfX19bm4uZhAtWbLkD3/4A2OstrZ2ypQpPFobYV/Lly+fPXs2DGIY0xMmTDh8+DBn6ltvvTV9+vTIGDGn04n6RK7HXFxcvHHjRn5Vfn4+bwO83JzZ/HiMdwjSBOkYP3J0u1gqQJCOpdp0r78rgGiv5cuXL1q0CIrYbLZVq1bNnz9/8eLFhw8fPnLkyG233YZkEWPHjt2xY4eiKMuXL1+6dOm2bdsmTpwIE3bp0qWwtnft2gWoW5aFQLDVq1c/88wzkcHhjLHCwsLq6mrDMHRdf//99++//37cHQDGX0xJwnFN0xRFmTBhwr59+5A7MxwOA9KRg9CRLwe4MMZ/CdIE6Rg/cnS7WCpAkI6l2nSvv+fQQLTXihUrXn31VaDx+eefv+eee+bOnfvGG2+0tLT4/X6bzTZz5kzG2OLFi7Oysp5++umbb7553rx5+/btGzVqFHQsLS1dtGiRaZq7d+9G2DZKW7Zs2YUXXrh48eIFCxZs3boVZjcc5p999pllWcuXL7/ssstmzZq1atWqjz76CGPMAD/Md7i7/X7/zJkz+/Xr98gjj3z44YeMscrKyv/5n//B+DcM6HjweHcL0pgapKqqpmmmaWL0Qdf1OORcQlfJMIyMjAy73Y5kJqe9L9J/BKRA1xUgSHddKzozCgpommYYhqZpR48eraqqArOPHz/+2WefLV26dMGCBd98842u6xs3bvzb3/6mqqokSW+88UZZWdnu3buPHj167NixL774AvWorq4+dOiQYRgulwsQBTgPHjz40ksvvfvuu7NmzVq/fj0Gm3Vd/+qrrx5//HHG2J49e2bNmrVixYqFCxdu374dprAkSbCP8dEwjIaGhrfffvvxxx9//fXXKyoqGGNvvvnmO++8c6YZHXkkChp1swiCdBzinCDdzaeYTu9QAYJ0h9LQFz2kAPcPS20bv4uqqmA2/jY2NuIrv98PJ7au69jBJGlYsbBrcQkvGdYznyGNckKh0Pjx4yVJgumsaZqu6wjbZoyB5dyShlue1ycQCIiiOHXq1JMnT3LTHDmZef17a4cgTZDurWeP7hsDBQjSMRCZbtGhAsgLZlkW56tpmsgcgvV3+XFRFPk+d00jIgylA8m6rmMWNXCOQmRZBoPff//9yGRnkdXiZcJnzhiLTKuCg3/+859hNGMWGa82vySywJjtRwXS0Vr9icrhCpC7O2Y/geS+EUE6ufs37lrHB3ERPob6nWnFRo748glROBlzoLEPWJ65j+TJMIthDfP8JygZljEHtmVZAC1eGnBHwzBEUQyHw7IsA/n8djgZRUVa4ahJjP8SpDkX42qHIB3jH0Ky3o4gnaw9G6ft4gYr3+FmKGgKP7MkSbCMAUL+FTCJcCee8wuh1yArEI7TUDJYi29hH/PSztSIl8nfG3COoiiINue1xdwtfMvhfWaBMTgSFUjrtEVVARqTjsGTnyK3IEinSEfHYzNN05QkidujkiQh+1ikS5k7scFXoN3v92uaBu83N4Ijh5MlSTJN8zQYW5ZlGAYP8pJlOdKhzSkOpfi4taqqWHSZX3ialID3aQdj+ZEgHVW8RqcwgnQsfwLJfS+CdHL3bzy2jhujfIcvuMuBB9sUlOXWLRrD/eRwQfOPuASZwnAmFvAAy/GXh3BH4hngtyyLW8/8vSGyhhjeRtQY3Kq4C7+qt7QmSEeHq1EthSDdWz+H5LsvQTr5+pRalFoKnB2kVVU1DEOSJCytrXWwwcEgCALecngsvWEYcHvgHYWH5kmShOVBkbXNNE1BEPDuJQgCT+WGUQncHQlkEDSAFya8b+FVybIsl8uFaiAgH7O6+TmoBkYfRFHELXhpuq5jmTVJksLhsGEYvOF4A0OZqqryAAVFUVC4IAioQwfadHZY1/WMjIyWlha73Y7HkY/vpNbTSa09ZwUI0ucsIRVACvSqAj0KaSAQ8XQcsfBewJOhqqrH4/H7/WrbBmbzVcv4Rz6/rrW1FelXMfnN4/HgHJQmimJLSwtjzOVyYeUxVAArp8H/gbXDTdPER4yYALHAMHojEAiEQiGcxmuORDqKooiiiLVY0BYMhYTD4UAgAJq63W4Q2ul0gvSdMfmM7wjSvfqbSKqbE6STqjupMSmoQI9CGj5gcEsURUmSBEHQdd3j8TDG/H4/D5vn1jb4ymeTh0IhRVEQWwAe4yu+DyvZ6/UCurIsw2pHVxqGoSiKpmkw1sFsHPR4PDzUX5ZlTuLjx48D+ZZl4YRIuiuKgmEUVInfq6GhAXdUVRXvAYZhOJ1ObrKfAeLODhCkU/CX2ENNJkj3kLBULCkQIwV6FNI8mg+Gr67rmLCO8X60sKmpyePxAOS6rguCgKA8XdexIlkkvxljXq/X5/MhVVwgEODrmrhcLhivcJi3trYiag/0FQQBoQCWZSGlDKIEDMNwu92GYYTDYVVV+UuD1+sFjFVVDYfDeKvw+XzhcBjnuFwurBququpnn31WW1vLLXg+S37evHkul0uW5c6A3N53BOkYPf0pcBuCdAp0MjUxqRXoUUjzpNPPPfcc1vPGvHCM14LclmXBKhUEASYsY+zhhx8+fPgwhopN05RlGY5lt9t9++2382JhRvMhZABbVVVFUdauXTt58uTPP/8cvYdzYBPjr9/v55F9PH4wGAxiDBvud/i3P//8882bN8M+RmmBQEBRlBkzZjQ0NITD4eHDhzscDrvdvmfPnrS0tKefftrr9UqStGnTplWrVsGj3h6LOzxGkE7q31xMG0eQjqncdDNSIOoK9CikNU0Lh8OaphUVFR04cABDtvgLfzXwjEaB0LCeseYYTOFwOKzrOsphjNlstmDbxhhrbGzEJDpYugi/h4fZZrN98sknzc3NsiwLguD1enEXlI/3A5/Pl5OTEwgEAGmkkgXCURlMxtuzZ09zczOS2WF4G3TPy8urrKxsbm4ePny4pmnffPNNUVHR7t27p02b9swzzwQCgePHj2Ptlg5p3MEXBOmoP+cpWyBBOmW7nhqeJAr0KKQRDs0YKy4u3r1795tvvjllypSSkpJTi3krirJjx45Vq1Y9/fTTmZmZ+/btW7JkSWZmZlVVlaqqeXl5K1euzMnJmTZtGjzhL7300m233TZnzhybzSaK4meffTZixIgpU6a8+OKLMLjhKsf+k08++bOf/WzkyJE1NTWFhYUTJ06cNGnS0aNHYSU/+uij2dnZS5YsmTFjxgUXXDBq1KgDBw6cChN75plnsrOzH3vsMafTKQjC888/v3Tp0ieffPLDto0xNnLkyMmTJ0+cOPHgwYOqqk6YMGHbtm2bN29+7rnnNE3jpva+ffsmT54Md/qFF17o9Xo7YHGHhwnSSfLrioNmEKTjoBOoCqTAOSjQo5BG1LSmaUOHDj148KDD4fjqq6+qq6uvvvrq7du3Hzp0yGazrV69esWKFX369Fm4cOGmTZtsNpuu66NHj548efLBgwcfeeSRP/3pT+vXry8uLi4vL58zZ87FF18cDodPnjxZUVGxdevWa6+9dt++fUgMB/M3EAgcPXrUZrPt3LlTkqQtW7bU1taWlpZOnjzZsqz8/PxT+K+srDx06NDOnTvPP//8Xbt2eb3e/Pz8RYsW7dq167HHHnvqqadOebMvuOCCxYsXf/7552+//fbSpUudTmdVVdX27dtfffXV3/3ud36/v7i4uLa2dunSpdOnT4djHNFw48aNq6qqQnz4hAkTyN19Do8nXXquChCkz1VBup4U6F0FzgLSmAqsaRrWE+PxUxjHjfyL6OhAIDBhwoTt27efPHny8ccfHzFihM1mO3jw4LZt2yZOnIhlTmy2f/xnYrPZNE0bPnz49u3bRVGsrq4uLCxcuHDh3LlzERHWp08fVVXr6+uffPLJcePG2Wy2qqoqTdN4gBhjTBCEPn36IIDrk08+yc3NHThwYFFRkSiK559/PgxYy7IEQbjooovgD7/iiitQk1AohEXHbTYbUq+/+uqrCxYsUFX1r3/9a1FRUUZGxu233+71esePH19RUfHKK6+UlpbCby+K4vr16x9//HE++H3bbbchVi5Slu/cVxQlMzPT6XQ2NzcjVx0fPu/dp4XunnAKEKQTrsuowqTAvyjQo5BmjIFeWVlZZWVlDz744IwZM/bv35+RkbF58+Zdu3YVFBQgX0ffvn01TbPb7ZdddlkwGCwpKamsrFRVdePGjXfeeefixYvnzp2raZrP5wPOf/e737388ss7d+686aabdu/ezdf9lCSppaVFUZSLLrqoubn5+PHjV111VUVFxbp163JzcyVJuuCCCwRBUBQF07HOO+88XdcVRbHZbMeOHWOMbdq06cEHH5Rl+fzzz4dSixcvfvnll+vq6n784x+Xl5evXr165MiRkiSNHj26urr6gw8+mD17NmPM7XavXLny0UcfDQQCyMoSCAQGDRoUCoW+k8qnnUCQ/pdnlD6cgwIE6XMQjy4lBeJAgR6FNJbc9vl806ZNq66ufuKJJ66//vohQ4ZcfPHFFRUVNTU1sKQRDsYDvhhjw4YNGzBgwLhx484///zdu3c3NTWdf/75RUVF11133W9+8xu32/3yyy9fc801gwYN+uEPf7h+/Xpd12VZDgaDmDcVDoevuOIKSZKOHTt2yu89fPjwa665ZvTo0bquz5w58z//8z/vu+++P/7xj5qmlZSU9OvX7/jx46tWrfre975XXFxss9lqa2sty7LZbIFAwOv1Llq0aPHixUePHr3yyivHjBlzzTXXjB8/3uv1Tp48ubJty8vLM02zqqrqlIegpKRk3Lhxo0ePxnvD97//faStPQ3DnX8kSMfBLyNJqkCQTpKOpGakrAI9CmmMSQcCgYqKCuQC27Vr1+7du0+cOOH1et1u9969exFTXVVVhS744osvQqHQ8ePHA4HA3r179+/fj3xemFUliiJmJGuaVl9fj7hrxpjdbodB7HA4EJL96aefwgEuy/KOHTuOHTtWV1eHsLLa2tqdO3fu3bs3FArZ7fbdu3eLoigIwsGDB2tra51OJ5KfVFVVwcnc0NDw7bffIpi8trbW4XCUl5czxiorKxElnpWVpSiK2+2uqanZuHFjVdvm8XhqamoeffRRrLDSOZVP+5YgnbK/x6g3nCAddUmpQFIgpgr0NKT51GdBEIArvoQ2z3eNmdBer5cn8AoGg7IsY2FvTdP8fj9wiEskSWpqakI6M8ZYWVnZ2LFjJ02aNHXq1NFtW11dHRKb+P1+TL4yTRPJwpDJhCcsgzceKbiRJBxox/FQ24b+QAZThIZhyFlRlFAoZBjG73//+0OHDvHs4rj2lOP9/vvvP3r0KNp1GoY7/0iQjulvIKlvRpBO6u6lxqWAAj0KacaY0+l0u92iKDY3N2M6siiKXq8XeNN1PRAIIMsY1gIXBIGn2MR8aHiwRVH0+XwIwkJmElVVfT4fOFpTU/Ppp59+9dVXO3fu3LFjB6z2EydO+Hw+ZIiVp7kAACAASURBVPcURRE5txlj4HRzczO61+v14it4y085551OJ1+pTJblQCDg9/v5yuKRbxuGYaDC9fX1qCeykOLV5ODBg36/nwLHUuBnFL9NJEjHb99QzUiBrijQo5BGdDfYDLKCxMjuqaqq3LZh/pLP5wPnQLhQKORwOLAGKK51u92Y6Kzr+qlAcZ44DPHP8HJrmoYM4fiWn88zjGI2M0+lgh1d13GL1tZWmOB4jUAMmmVZfOXyQ4cO8ZcJeMVheft8PlmWcbuGhgZZltEKrJrVud185rdkSXfl0aVzuqIAQborKtE5pED8KtCjkAb5BEEAp51OJ3cFB4NBwzA4g4FGpP/E6DIWoYJ7GeYsYCyKIrKPGYaBjGZIKIYSkBkU2cHgIQ+FQnhXwF9Uye/3Y3oVzGKAFudjMSuQGH54PjUL3ngsgYV3Au4bx5mmaaKlPEWaYRjBYPBMDHd+hCAdvz+YRKsZQTrReozqSwpEKGBZ1siRI2VZBv+AFiTExgDtaX81TcvLy8NK0pZlYWErDPcqvbFhvBkD1eAlX7zS6XTCSg6FQpjPDWsYMeT4iwnf8HXDppckSWzbMIDdG236+z19Pl9RUdGxY8dCoRBWJUGnndYdZ/0RpWFNEezjpSHi0aDdJFGAIJ0kHUnNSE0FNE3Lzs7WdR2Qjly4oiNBbrrpJr/fb1mWruvw8UqS1FswQwzan/70JwSHw1uOQDNMfPJ4POBxKBQKh8Mwpp1OpyRJGzduvOuuux544IEDBw4gH4umaWAV4I3VLXulaYZhDB061G6384HzrnRNR1125nHe3Wd+RUeSTAGCdJJ1KDUn5RTIzMyMbLNlWcFgsCMTDTOYkcmLp6pubm7uFZIhIYmqqkeOHDEMo6GhIRAIiKIIhzbCwZD3G6tiGIYBSGNNycLCwvXr13/00Uc/+clPYEZzVGOwGbFmvdI0VVVvvvlmv9+PaWNYQhsJ1zrqmm4dN00TowPoejgPIh8D2k8aBQjSSdOV1JAUVWDIkCFYloq3H2DjHyN3NE27+eabMexqmiYuxLhyb8HsVLT23XffjXUt+QQtvmJ0U1MTH7dGJJdhGHV1dciyIkmS1+vt06ePJEnhcFgQBIAZJnUvWtKMsezs7EAgcOLECcztjuyFaO1jOIASjkZLz/gshyAdn/1CtSIFuqSAIAi33347HMKWZcGP3cmYNGOssLAwEAjADYsJSIjz6hVIo6rjx4/funVrY2Oj3++32+15eXnjxo0bNmxYfn7+N998M2HChKlTp+bl5RUXF//1r3/lDmSHw6Gq6ocffjhz5kxN0xRFwYA0vPfc790r7XK73dnZ2fv370dQOo8Y6Ja53MnJeA8DpA3DiByn79JzQycljgIE6cTpK6opKdCeAsOGDRs6dOiAAQNyc3Pz8/OHDRvWv3//rA62vLy8X/3qV1jBIhwOw7esqmqvkExRFKfT6XK5Jk+eXF5ejgHpxsbGXW1bVVVVbW2tz+fbunXrxx9/XFtbW11dDQvb7XZjjeojR46MGjUKs6JN08TCmkC1LMu92C7G2G9/+9t77713+PDhQ4YMGTBgwPDhwwcPHtxBt3T7cFpa2ogRI/r165ebm1tSUjJ+/HiMEbT3gNCxxFaAIJ3Y/Ue1JwUw7wg+VaTd6MSSliRp5MiRmPLEGDuVbCsUCvWiuxvdN3z48NraWky1qqury83NLSgoKC4uzszMrKurKy4uvueee3JycsaMGfO3v/3N7/fDgvzss88mTJjQ1NSEVUAkSUICE0wDwwoZvfXygSlYX3/99fHjx/kjihlrndjHXf8qssxTI98TJ05EiD4/TjtJowBBOmm6khqSigpwh2dk8DBM0o7kyMnJwcwrzACWJKkX3d2mabrd7pKSkl27dmEGtsfj2b17d2Vl5YEDBzZu3Oj1equrq8vKynbu3FlbW3v06FG0KxgM9unTZ+DAgfn5+QUFBSdOnHC73bIsY6EODE7DB94rnBYEYdCgQVgWDFFjnQQKdNRTnR9HsheM099000145er8Evo2ERUgSCdir1GdSYGzVyAzM1Nq27CetKqqCLbSdZ1n9gAAQqEQoqa7/ldRFMuygFu/3y8IAu6CUGSkEmOMIdknDoZCoaqqKuQHRURbKBRCIBgqhrxm4bZN13Wn06mqqq7rVVVVmzZtqqmpqaqq8nq9ePNAgDfSkTLGPB4PlvdA7lKMW0uSBGsbSU7wogMnuWVZSHeqaVogEMAUbQz6iqIIfcLhcCgU4rO82hVHkqSMjAyHw4F1POHbOPs+6+BKgN80TSS0oXlZHeiU2IcJ0ondf1R7UqC7CrQLaaBUFEWEUofDYbfbfRaQbm1tBQiR3RPJNeFUd7lcQC9/RZBlGXlDAV2kH0FgNp/xjEU4uE3MGEOmMKQt8/v9qqoCyZiVxBe7VBTFbrdjkQ+Y14ZhINkLPPyyLMNVblmWx+NBQlAsbelyuRRFMQwDgdPIuAI3O94zMP7dCacJ0t19LOn8jhQgSHekDB0nBZJTgXYhLcuyz+cDqtFszIZq10zs5CCuDYfDsHctyxIEAS5ZFAhTFZO5EeuEVSa589bpdGLqFMK++L2Ado/HgzNhrGMMnucjg+UtimIgEICZjvU/WltbXS5XMBjkGbxlWbbb7TjH7XbDJOU7YHMwGAS5MdoNVCPUDjlERVHk1TtthyCdnD+e3mgVQbo3VKd7kgK9p0C7kEaubHi8edQ31rY6DT+df3S5XDBPTdOUJCnQtvyUoihwHWMtyHA4bJqm3+/H7TCC7vP53G43PM+oAMaSYTHDlQ0oIiIMPMbYM2ZI4yokJsPdEQquqiqfSSxJUigUwsuBoiimabpcLljtyOgSCASQnxxmNEbrsVYHPPmMMbgHOnczEKR77wFPtjsTpJOtR6k9pEDnCrQLaYAHDmdBELAQBfJ2dU7l077lgdac+pjuhQJBUyx94fF4EJDs8/n8fj+iqzDfFyta6rpuGAac56qqwuON8l0uF3KaosLwlns8HpjsYD8GaCVJQmmyLHu9XmQu0zStvr4eC3lhWJpXjK/xpeu61+vF8DM/eOLECZfLhcznsix3og9BuvOHkL7tugIE6a5rRWeSAsmgQLuQxkJPgBwWZ0TOkNMY/J0fm5ubYSVrmgb/MMLEZFlubm6GBxvrWnq9XgwVq6qK+4LWALbX60WoNoaxEQ4miiIWv0I3qKoKuxnpNgOBAF4FQqEQTnM4HPClY/40n0kMJzZjrKCg4OTJk4gUw5nBYNDtdsPtjzAxPhCgKMqWLVtWrVqFZS0QcNeRIATpZPipxEcbCNLx0Q9UC1IgVgq0C2n4mWVZRjzzyZMnH3300ZaWlo4g1NHxK6+8srGxEU3x+XyBQMDtduu6Xl5e/uijj9rtdm7XwtuM/OHI7omrbr31VpvN1tzcHAwGFUURBAFjyfBUc74eOHAAGcgxIM1zejc0NGCxS7vdfu+99x4+fLipqQlGeTAY9Pl869evHzduXGtrq8PhKC4uliTp0KFDhYWFF1988YgRI5qbmw3D4IPTzc3NS5cu/f73vw/D+sCBAwUFBR6PBxQPBoMd6UCQjtXjnPz3IUgnfx9TC0mBSAXahbTP58NMJxiygiCkp6dj/LUjDrV73Gb7+38pWK4KkWIej0fX9d27d6enp2P4GRY2/M+Y3YSgsFAoVFNTc+utt6qq2tTUFAqFECIOyxVh56jkF198cfvtt2PIHKt0GIaBkGyY6eFw2LIsn8+HQWvDMPgSFBUVFaNGjWKMzZ49+89//rOiKIsWLdqxY4fX6502bdrrr7+OEgzDaGpqWrdu3eLFi202m67rUObaa6/1+/1YdhpTudrVgSAd+cjR/rkoQJA+F/XoWlIg8RTIzMxENBbsVEVRwuGwpmkejwchXZhzPGnSJJ/Ph3PGjh1ra9vmzJljWdbcuXP/+Mc/2my2yy677J133rnqqqsuuOCCL774wufznXfeeffee6/NZhs7dqzP5zt58uS///u/X3bZZRMnThw8eLBhGBdeeGGfPn1sNltZWRmipmHgwiy22WznnXeezWYrLy/HHX/+8583NTX5/f4ZM2bgyI4dO2w225VXXmmz2SRJ+vzzz3F81KhRhmFMnz79kUcesdlsH3/8cV5e3tatW3fv3o0TfvWrXzmdzvXr1xcXFxuGMW3atIMHD8KUDwaDgiC88MILa9asgX0MbzZeOGw2G1zlXq/3gQce2LJlCwx3sqQT7+lPwBoTpBOw06jKpMA5KNAupF0uFwxWrOIsCMLIkSNN0xQEwe/3Y6RW13WbzRYOh+fMmdOvXz9d1+fOnfvrX/+6oaFh7dq1Y8aMsSzrggsu+PLLLxVFueuuuz766KO777573bp1gUDg1VdfHTt2rMPhwJIeO3bsyM7OFgQBOU0Nw0Dej+rq6ry8PKQ4hT/8T3/607x589asWfPggw9i2pWu6x9//HFaWpppmocPH/7JT34C0E6aNGnZsmWLFi26//777Xa7YRglJSXV1dX19fWaplmW9dJLLy1atKimpmbUqFGKohQXF69du5Yx5nQ6kXflhhtuwHoYsNEZYw6HQ5Kkiy66CFlWVFWdPXv2jh07MOUaA+dkSZ/Dw0iXfrcCBOnv1ojOIAWSSYF2IY1YaCx3gZlOWVlZpmnqum6a5uuvv3755ZfDHmWMzZkz55VXXpFlubq6uqioiDFWVVVVXFzs9/vhGVYUpbS0dP78+VOmTKmoqPD7/Vu2bBk3btwp7D3wwAM2m+2SSy7Bx1AohDWkMSi+ZcuWESNGiKL4TdviVzab7YorrigtLX3xxReXL18uCAKmX9fV1Y0bN07TNBSrqqrH46mpqXnxxRfnzZv32muveTyeU7XKy8vbvn07YyzSE7Bx48Y77rhDUZSSkpLKykp44FtaWgoKCg4fPizL8ldffYWWbtiwAZnCbDaboih4U5k5c+a2bdv8fj932hOkk+nXEYdtIUjHYadQlUiBHlSgXUjDgoSBKIoizNBAIBAOhx0Ox0UXXXTixInKysof/vCHXq938eLFS5culSRp165dQ4cOlSSprKwsOzvbsqxLL7108+bNoihOnjz5ww8/vPPOOxcvXswYW7RoUXZ2dkVFxVVXXcUY+/jjjwcOHAjOeb1eTdMEQWhpaamsrCwqKgoGg3PmzPnf//1f0zT/+Mc/Pvfcc2vXrp00aRLc44IgVFVV9e/f3+VyHT58+KabbqqpqbHb7VOmTNm5c+eiRYtmzJiBuPGMjIwNGzY8++yz//3f/33KOn/qqadWrlxZVlZWWFgYDAanTp26f/9+QRC2b9+elZW1f/9+vJ1omoaVMDB/WpIkm82GWd2ncnHfd9999fX1lmW53W5M+sKA+pl/KS1oDz7EqVQ0QTqVepvaSgow1i6kTdOMnH3U3Nx8ySWX9O3b9/vf//6CBQumT59us9luvvnmH/3oR5qmzZ8/f86cOYqilJeXT5061efz7dy58+677w4Gg1dffXVJSYnNZrvzzjsFQTh+/Hj//v1PWaJ/+MMfSkpK/H5/Xl6ezWYrKCi47bbbMOIriuIpGCMibNOmTffcc4/P52tsbPzBD35wwQUXFBYWLlu2TNf18ePHw8AtKyszTTMtLQ1BarNmzbryyisvvfTSGTNm1NXVLViwYMmSJUhzNnXq1JqamkOHDt144402my0tLe29994rKyuD9b9kyZIVK1YwxmbNmnX++efbbLY+ffqUlJTAuMfqVXPmzLHZbBdccMEpm760tDQcDqenpx87dszhcHCEn4lnHCFI068tKgoQpKMiIxVCCiSMAu1CWhCEcDiMzCEY4q2vr5dlub6+3jAM5PRA8JTT6cTE4qamJkEQkOBTEAQk4ESGENM0PR4PlnmuqqqCNECXoihff/01lr4A6mCvu91uTKZyOp3BYBBGtiAIzc3NPp9PkiS+UoUgCEhmoqoqcoq1tLQghgtj25qmYf602+3GtYFAAHm2kcME2c3q6uomTpx44sQJXdcty8L07mAwiMhwwzAQzo1JX6FQyDRNu90+ZMgQoW1DWhUEjZ/5l6K7E+b3EPcVJUjHfRdRBUmBqCrQLqSRzARrQ4VCIb4iBZazxBQmXdfdbjegBWCLotjS0gK4mqYJsgYCgWAwiEwgPM0n5jqDkUhvAhP2wgsvtNlsl19+OUK+NU1DqrJgMIh82hhdRnyZw+EAOLHWha7rKBbyNDU1YeQY+ESSMiT3RjA2VtdA+m6skDFmzBj+dnLs2DHGGFbs0DTN4XCgCR6PB3PJ6uvrN2zY8NprryGHGpJ4n4lnHCFIR/WZTenCCNIp3f3U+BRUoF1IY+6vt20zTdPhcCBTJnDr9/uR+Qu4wsrNketV2O12JBNFIhF8hYgqj8fDV6nC9GLkM2ltbeULabS2tuq6rqpqa2sr5j5hVlhrayvse7xDYOYYzHpRFD0eD94ePB4P8qOhFZgerSgKlgwB0ZFFXJZlmMhYPIOvpAlDGS8ELS0tSNMtyzJeDhRFwcJZfr8fmdR8Pp8sy36/nyCdgr+gGDeZIB1jwel2pEAvK5CRkQEAI7+YLMvI+NERb+j4WShAlnQvP+VJdHuCdBJ1JjWFFOiCAgTps4Budy8hSHfhSaRTuqQAQbpLMtFJpEDSKECQ7i5xz+J8gnTS/F56vSEE6V7vAqoAKRBTBdqFdJi2qCpAkI7pM53UNyNIJ3X3UuNIgTMUIEhHFcftF0aQPuO5owNnqQBB+iyFo8tIgQRVoF1IY+4v/Y2WAgTpBP11xGG1CdJx2ClUJVKgBxUgSEeLxJ2UQ5DuwSc4xYomSKdYh1NzU14BgnQncI3WVwTplP+dRU0AgnTUpKSCSIGEUCAzM1MQhFAoJIoiVqAKhULRghOVwxVIS0trbW3l2Uyxzlh0nxAkZTNNMyMjAwt2Rbd8Ki0eFCBIx0MvUB1IgdgpQJDmHO3RHYJ07J7ppL4TQTqpu5caRwqcoQBBukfZzAsnSJ/x6NGBs1GAIH02qtE1pEDiKkCQ5hzt0R2CdOL+RuKq5gTpuOoOqgwp0OMKEKR7lM28cIJ0jz/KqXEDgnRq9DO1khT4/woQpDlHe3SHIP3/nzj695wUIEifk3x0MSmQcAoQpHuUzbxwgnTC/TTis8IE6fjsF6oVKdBTChCkOUd7dIcg3VNPcIqVS5BOsQ6n5qa8AhkZGaFQKBgMhsNhv98fDoeDtEVbgVAolJaW5nA47HY7Zkibphn1R4/mSUdd0jgskCAdh51CVSIFelABgnS0idxOeQTpHnyCU6xognSKdTg1N+UVIEi3A9VoHyJIp/zvLGoCEKSjJiUVRAokhAIE6WgTuZ3yCNIJ8VtIiEoSpBOim6iSpEDUFCBItwPVaB8iSEfteU35ggjSKf8IkAAppgBBOtpEbqc8gnSK/ap6sLkE6R4Ul4omBeJQAYJ0O1CN9iGCdBw++QlaJYJ0gnYcVZsUOEsFCNLRJnI75RGkz/LppMvOUIAgfYYkdIAUSGoFBg8eHAqFAoGAx+MJhUKYLd0OZ3r1kNPpZIx5PB5Zlt1ut2EYzc3NgiAEAgGv1+vxePx+PyoYaNt6tbLt3Jwxdv311zscjtbWVr7Ss6Zp0X2yaJ50dPWMz9II0vHZL1QrUqBHFAgEAgUFBcAe+Od0OlVV9cfZFggEHA6HKIonTpzQNE2SpEAg4HK5gsFgKBRCprBgMIhaBwKBOKu+/9tvvx01apTD4WhoaNB1HX2JrCZR7FeCdBTFjNuiCNJx2zVUMVKgRxTIz8/Py8u7/vrrMzMzi4qK0tPTBw4cmB1nW05OzrBhw/r165efn5+ent6vX7+cnJzs7OwhQ4ZkZmZmZ2dnZmampaUNHjx4yJAhaWlpcVb97OLi4pycHIfDIQgCLGld16OedIwg3SO/kDgrlCAdZx1C1SEFeliBcDjMGPP5fMeOHbPb7c3NzaFQyB5nW2tra3Nzc0tLi8vlOnbs2IMPPlhXV2e321taWhxtG+rrcDicTmdra2ucVd/udDoPHjwYCoXq6+vB6Z7oVYJ0T6gab2USpOOtR6g+pEAPKgBjLhwO2+32kydPiqLY2tp68uTJljjb7HZ7Y2Oj1+sNBALz58+/7rrrpk+fbrfbXS6X0+lsbm5uaGhoampytm1NTU1xVv0Wd9uGWqE7FUXhfu9odTBBOlpKxnM5BOl47h2qGykQZQUQuxRJC1EUo+6GjValLcvSNC03N7ewsDAtLa2pqYmXrKoq2mJZliRJ/Hic7MiyjJpgHNrv9/dEJQnScdLdPVoNgnSPykuFkwLxpYBpmpqmwQGraRoPZTLibGOM4e1h7ty5GRkZgwcPHjRo0EsvvRQKhc4U1LKsOKu+wRiDzoqi8ApHvhvxg+eyQ5A+F/US5VqCdKL0FNWTFIiCAlbbhoK4bYdR6iiUHr0igJ8jR47k5+dnZWUNGDCgpKTklltuOXz4cCAQwH10XTcMA4SO3p2jVhL8ExAchjVBOmriplJBBOlU6m1qKymQIAqAag899NCIESOGDRs2dOjQYcOGZWVl3X///YwxwzD4G0akqZogjYtaNcmSjpqUcVwQQTqOO4eqRgqkqgKmaZaXl0+YMGHQoEG//OUvb7vttltvvTUjI+P666/fsGEDVInbofSYdRpBOmZS9+KNCNK9KD7dmhQgBTpU4O67777xxhtHtW0333zz0KFD89u2yZMnNzY24rK49XV32KqofkGQjqqccVoYQTpOO4aqRQqksgK7d+9+7LHHPv74Y0SKjR071uPxCIJQVlb23HPP7d27l4e8RT3XZgLJTpBOoM4666oSpM9aOrqQFCAFekoB0zRVVUWuLkVR/uu//ovfic8Z8/v9/GBq7hCkU6HfCdKp0MvURlIgwRTghjLqXVRUJIoij+sGnFRVPe20BGvkOVeXIH3OEiZAAQTpBOgkqiIpkGoKWJZlmibmLMmynJmZiXliqqoqiuJyuSAIpkenbAQZQToVfhcE6VToZWojKZBgCnDugkMDBw5EehNuOkfOvAoGgwnWvChVlyAdJSHjuhiCdFx3D1WOFEhlBQhCHfW+YRg8NYphGLm5uXAq8LWrGWNm29ZRCXQ8URQgSCdKT1E9SYGUU4Ag3XmX8/xxOTk50EqSJJ7jDJF3jDGeSLzz0ujb+FSAIB2f/UK1IgVIgb9nFoNFmJGREWkjkjRQgK8ykp6eDp8/Hw6ItLM5rUm3RFSAIJ2IvUZ1JgVSQgGCdEfdzBmME0aOHBlJYuh2Wv7Ujoqi43GuAEE6zjuIqkcKpK4CBOmO+p6viaIoimmaI0eORKidpmmmaWLEWtd1VVU5sDsqio7HuQIE6TjvIKoeKZC6ChCkv7PvTdMUBCErK0vXdb7oCK6KBPl3lkMnxK0CBOm47RqqGCmQ6goQpDt5AjweD/82JyeH7zudTsxP4wlTKXCMi5OIOwTpROw1qjMpkBIKEKQ76ubKysq333577969jDFFUW699VYEdbe0tKxZs6a8vBwXCoLQUQl0PFEUIEgnSk9RPUmBVFQAEVIDBw48u7FVXdd5XhTuDY60QRNU03A4fMcdd2RkZIwYMeJ3v/tdbm7uE088UVBQkJOTk5+f39TUhDBvWZYjA8oStLEpXm2CdIo/ANR8UiAeFdB1XZZlRVEAm4KCAp/Ph1lYMBm7+BdtUxSF+37PDvbxppGmaR988MHAgQPz8vJycnJuvPHGESNGpKen9+/f/80330Rt+XQsvhNvraD6dEUBgnRXVKJzSAFSIKYKwPwFXQKBQG5u7ujRo/v165fVzW3gwIFDhgwZM2bMvffeizLD4XByOIE1TXvooYfS09Nzc3MHDRqUm5ublpY2ZswYHi+GoWjLsiJTqMa0F+lm0VCAIB0NFakMUoAUiKoCMHxDoRAMXzi9u2g9R56GSnm93hEjRjDGkmZ1S7juKyoqbrjhhlGjRmVmZubl5Q0ZMuTDDz/kzcQrDq0VFtUHsxcKI0j3guh0S1KAFOhcgVAohBMMwwCQuL+68wtP+9br9eIIVqSGz/zsijqt5F7/CMfAI488kpaWlpWVdeutt06bNg0j0NyYRr62Xq8qVeBcFCBIn4t6dC0pQAr0oAJw2AI8oiiey5j0kCFDerCivVE0vAv19fVZWVlDhw7NyMiorKxkjJ2WH7Q3qkb3jKYCBOloqkllkQKkQLQUCIfDkZHJqqry8Oyu34KvYjlq1ChVVQOBQGSZXS8n3s7UNE0URVjML7/88oABA6ZPny5Jkmma/M3GMAwsy83j2+OtFVSfrihAkO6KSnQOKUAKxFQB0zThlLYsKxgMcv9t5HhzV/YZY7A4BwwYwBuQHJxGcyzL8vv9gwcPPnnyJG+gYRg8WCw5otl501JwhyCdgp1OTSYFUkgBUCo9PZ0P0HY+JWn8+PHZ2dnDhw8/5UDOycnp37//iBEjMmmLqgLDhg0bP348Ywxra/JA9BR6LrvcVIJ0l6WiE0kBUiABFegWpDVNu+OOO5qamnhDRVE0aYu2AoFAYOrUqW63GzrLsqzreucvT7xHUm2HIJ1qPU7tJQVSS4HuQvrGG2+EQKIokq+4556VQYMGHT16NBwOG20bYyw5ou6jrhhBOuqSUoGkACkQRwp0C9KMMQ5pDGZrmiZJkkpbVBWQJGnAgAGCIPh8Pj55/SwCA+PoOeuxqhCke0xaKpgUIAXiQIFuQdowjLS0NE3TuOsVyzPHQTuSrQqDBw92OBx2ux0NIzO6ow4mSHekDB0nBUiBZFCgW5BmjI0bN04QBEVRYDrCvINLlv5GSwHLsvr379/Q0HDs2DE4unkAfzI8c1FtA0E6qnJSYaQAKRBnCnQL0oIgRK7NbJom5mt1ZboXndN1BQzDGDFihKZpDoeDMSbLsmVZyZFTPeqPP0E66pJSgaQAKRBHCnQL0oyx/v37Y3Y1n2ocR41Joqr079+/sbGxubmZMYY3IfJ4x4VmkgAAIABJREFUt9u9BOl2ZaGDpECqKwC2ncX/m6eF/5z2MfaydhfSGRkZgDTsQkwNivYUpFQvz7KsrKys1tbWlpYWPBKUFq2jnwZBuiNl6DgpkEIKIIXkadNgIk1Jy7I0TVNVFczrRBokpuDXyrLcu///EqTj8I2AIN3JL+i0rwjSpwlCH0mBFFUAKAViIUGkEYws0DzmuRONYHxHxgF15apOCjzHrwjSBOlzfIR693KCdO/qT3cnBeJFAaAUFjOmCMPr2y072DRNXAvAd+vaHhKCIE2Q7qFHKzbFEqRjozPdhRSIdwU4X3VdV1WV+6sj6w17uhOPt6IogD3wjEJ6F9UEaYJ05DOccPsE6YTrMqowKRB9Bc4MEIv0dRuG0a3UypzKACS5u+MQk71bJRqT7vpvmCDdda3oTFIgaRXg/u3jx4/z1aIYY2cuSMwXkexEi8gFKjo5LTZfkSXduzxu9+4E6a4//ATprmtFZ5ICSasAN3k/+OADxlgwGMSANI/6RsuDweCJEyf279/fiRDhcLiyslLXdcSgdcsE76TYs/6KIN0uJnv3IEG6688zQbrrWtGZpECPK6BpGqCC9A6RsdYwdvF/qyiKqAocy/xjpNea+6s1TcMJKAF5nfx+/+rVq3l7YB/X19c//PDDONja2vr+++/zAg3DCIfDr7/++sKFC//yl7+8++67OC0UCmFny5Yte/bsQdrI+fPnb9u2jX/FV1Dgt4vlTrcgDXioqqppmmmaiqJgqL53kZZ8dzcMIyMjw263I5lJpPMmls9GQtyLIJ0Q3USVTC0FgFUAElOTQdlwOAzQfvvtt5WVlaIonjbcK8uy1+tljCmKgklQcF/z7Bwg1p49e6ZOnWqz2QBySZLg1p41a9b27dt9Pt/BgwcfeeQRm+3v/z+EQiHURJblb7755uqrr77mmmtOnDihaRriwlRVffHFF7Ozs2fPno1+OnToUGFhIWNMEASO+d7qQoJ0HDKeIN31nwNBuuta0ZmkQCwUcDqdANvHH3/c2Nj45ptvMsZ8Pt/777+/Zs0ah8Nx8uTJkSNH3nHHHZs2bWpqanrnnXcYY5IkzZgxgzH2zTff7Nu37+233/b5fJ9++qkoirNnz16/fj1Mc1je+/bt83q9YDBP+SQIwuTJk2traxljBw8e/Pbbb202G5AP6p8yd5555plPP/30zTfffPfdd2Eo46WhrKxs+vTppaWl3Ka/8MILT0uNEgvt2rsHQZog3d5zkTDHCNIJ01VU0VRQQGvbYL+OHz/+pptuWrZsWV1dXV5e3vPPP//kk0+OHTv26NGjw4YNKyws/Pjjj/fv33/77bcHg0FJkgDdF1544Te/+c2iRYsqKyvT09NvueWWGTNm/PSnP924cSMc3dy0xfmwhgHXPn36MMa4B/K8884DaOF1h9d6w4YNx44dw7oIiCzDAgkrVqxYsmQJTHPLsm699Vaez6R3F06ICqSjtfoTlcMVIHd3F/9DI0h3USg6jRSIkQIcpYWFhcePH1cUpa6u7j/+4z/efffduXPnXnfddS0tLatXr37nnXdM09y1a9edd94Jc9Zms4XD4TfeeKO0tDQQCDDGpk6dun79esbYG2+8sXjxYjQAJzPGAGkgFoOC/AgCx8477zxBECI96txQhv/c5/N5PB7kuJ45c+ayZctgcxuGcffdd/Pg8MgSYiRixG0I0pyLcbVDkI54SDvbJUh3pg59RwrEWAHQETcdP378J598whirqKi48cYb58+f/9prr7366qtOp3Px4sVPP/00Y2zPnj233norLO/LLrtM07QFbRtKKC4u/vrrrwVBmDlz5qJFi3hbXC4XY+ySSy4RRREObbjBL7vsMtDdsiyPx3PxxRfzSxRFCbZtOKIoCuDHp0QvXbp02bJlfr8fLxlXXXUVzuxdM5oxFhVI67RFVQEak+a/rO/cIUh/p0R0AikQUwU0TfN6vZZljRkz5tixYzBer7rqqtmzZ7/yyiurVq1ijH366afp6ekbNmwIhUI//elPn3nmmZKSEpvNpmnaW2+9VVpaCtf06NGjN2/ezBhbtmzZihUrZFk2DMM0zUOHDs2cOfPf/u3fXnnlFcynwsvB7bffXldXxxg7evTo/PnzbTbbggULNm/eDBLjr6qqsIy521xV1VdffXXkyJFjxoxZvXo1DOsf/vCHcH2DkTFV8F9vRpCOKl6jUxhB+l8f0s4+EaQ7U4e+IwVirACfVQzcBgIBwzBUVXW73WvXrn3ttdeWLFmC/F9/+ctfvvrqKxjTixYt2r9//7p163Rd37lz5759+7BG7yeffOJyuTRN27NnT21tLedlTU3NggULXn755bfeequiogJtPHXrZ599duPGjYyxTZs2rVy58rXXXlu9enVNTQ3GrVETBKlxAxqGcmlp6bJly15//XUEr+3fv//OO+9EqFqMBTzzdgTp6HA1qqUQpM98UDs6QpDuSBk6TgqkkAIYqD5w4MDjjz+OYDE+dH0WKixYsOCrr77ikOZEP4uizv2Ss4M0Zr5JkoRM5gjoO/OvZVmGYWiaBleEIAiSJGHoF84MvN/IsowdSZLgikBsvGmafNRfEATTNDHcgHcs1NyyrGAwCDFxFzhX4MmwLAuDF3xlFF3XTdNErJ+maXySOiomiiKq5/F4oG0gEEA1eDfJsswDI3RdxxKlKNAwDDSEMcarKknSmcp0fkTX9YyMjJaWFrvdjmrwN8hz7/EkK4EgnWQdSs0hBc5GAfwH7XK5EGiGODLu0O56ifCEb9269eTJk7iKr9vR9UKie2aPQjoYDOJtJpKvCGuHt19VVY/H4/f71bYNhAuHw5Ik+Xw+/pFT3DRNPu3N7XZ7PB4+qO/xeJAATlVVl8tlWVYoFAKDA4GAruuANwLvTdPERxDU4/GgVrxwJGzBCAjCAJW2TdM0QRCAZEEQQqEQGsin4Pv9/tbWVsaYKIo+n4+PfXRO5dO+JUh3/SEnSHddKzqTFEhyBSzLgu2IduJ/6m61GUTkucbiYap0j0I60qD0+XwgsWEYsFP9fj+PBBQEAdYw+AouIuJPURSQOBwOezwevNb4fD6uvMPhAM79fv9pnQLTVtM0YB7MxkGPxxNZCDep6+vrA4EAKmNZlizLwWAQrJVlGe8WoijChYC3N5jmpmnynkVpeBXw+/2nMfg7PxKkeed+5w5B+jslohNIgeRXAP9Ho52nYaBbjUfmMlximibi1LpVQtRP7lFIa5rmdrtPzXZrbGxEzYE3wA9HmpqaYAQDzLBTcRpMUu7xxvlwYLhcLsMwGhsb8RG+ZbAcGeJaW1tVVeXgFAQBfmzLsrgbAy5ut9stiiKAyievy7Ls8/lQIHenh8NhznKHwwFgB4PBL7/8ctOmTUghx2fSq6r6xBNPoGLfSeXTTiBId/05J0h3XSs6kxRIWgX4eCR8mxjXPLvWcgwg8XUk/s+uwHO8qkchDd0URRk/fjzP3WYYBvKhgt+WZXHEAnunUsg9/PDDhw8fhqcBQ8JutxurkhQXF0eOQCO3DMrENHRd1xVFWbt27eTJkz///HPoEzlcDUe33+/n3coYA31RpYaGBnyFAfLNmzevXbsWY9uMsXA4DIu5qKgISd379evna9sYYwsXLiwrK4MLYcOGDWvWrGltbT2Nwd/5kSDd9aeaIN11rehMUiBpFeD/m+P/d4QLnV1rwSGgESWci2l+dnWIvKpHIQ1T1ePxXH755SCr1+uFUQsHNY+uQlQ8YwzWc2FhYXV1NUxhvNbgfCSZCQaDEA1fcXxqmsYdzjab7ZNPPmlubkacFx9sRvmAsc/ny8nJCQQC3IkNZUzTRM3xTnbgwIFDhw4h+6zH41EUBR6CSy+9FLFdkyZNwoNx2223FRQUTJ8+XVVVr9fb1NRUUFCAV43vBHPkCQTpyEe0832CdOf60LekQKooAE4DaTB/8T94d9uPa+GkRWlJDGnDMCRJUhTl4osvFgRhzZo1EydOLC4uXrJkiaIoO3bsWLVq1dNPP52Zmblv374lS5ZkZmZWVVWpqpqXl7dy5cqcnJxp06ZBpSeffHLSpEkvvPDCJZdcwhibOXMmkr8ilA9Yhbl8amT6ySef/NnPfjZy5MiamprCwsKJEydOmjTp6NGj/6+9N4/vqrrz/6/siNXpzGM60063qdW61LqCUiAbgZAECAEECsGlFpdOdaTt1FrbsbQg6sjWQFksY9vRajtjlapYBFkSCDsBDJBAQiD5JJ/9c/d9OT9+eT288/lKkvkkfLKQvO8f8XI/5557zvPe6+u+z3mf9xtyvnDhwpycnF//+teLFy8eNGhQYWHh4cOHL1jCTzzxRGFh4Y9+9COe548ePbpx48Ynn3zytdde27x5844dO2pra0tKSoqKihYuXFhVVcUYGzhwoGEYW7duXbJkiSRJpmk2NDSsWrXqN7/5DdrsOA6i1CULcCr7JNKpv1Yk0qmzopJEoC8T0HUdOu3bavgfcYf67J/iuxZ36PSuKIwmZWRk+PkQ2xmB91NVprgES2/ZbNvmOM40zWAwWF5eXlFRccMNN+zZs+fEiRMcx73yyisvv/zyFVdc8atf/erDDz/kOM627aKiovnz5yPb2E9/+tOtW7cWFRWVlZWtWbNm4MCBoVCoqanpww8/3LFjB8dxaLDveibLck1NDcdxe/fu1TRtx44dhw8fXrFixfz58z3Pmzx58gX5371794kTJ/bu3Ttw4MB9+/bFYrE5c+Zs2LBh+/btTzzxxFNPPVVWVjZ8+PBNmzaVl5evXbt28eLFrutWVlZu3bp1+fLlDz30kKIoEOClS5euW7cOIu04zqpVq5YtW4a1ZBeW4E+dOlXX9VSEObkMiXTqjzqJdOqsqCQRIAKXH4FOiLRhGBAeuHcZhgG37Yv/apoGt6wRI0bYtn348OHnnntu4sSJHMdVVVXt2rVr7ty5cOH246IjMFxeXt6ePXtUVT148OC0adNeeumltWvXYsoZMdgPHTo0f/78yZMn+6Yqhr6x6EuWZWRDUVV106ZNEyZMGD16dHFxsaqqAwcOhBx6nifL8pAhQzCSgXoikUgsFps1a9auXbsKCgoURdF1feXKlatWrTJN889//nNxcXFmZmZRUREG3hVFWbVq1bp167DA2rbt0tLSF154Acm2DcOYN2+erusXk2n/iGEYWVlZ4XA4EAjgE8SfcLn8nrAubjGJdBcDpuqJABHoUQJdKtL+TDMk8IknnliyZMmRI0cyMzO3b9++b9++qVOnIl7H0KFDLctqamq66qqrRFGcOXPm7t27TdPcunXr/fffX1paunHjxoaGhmg0iqo4jvvggw8qKiquvvrq+vp6xpjvgy2KomEYQ4YMCQQCdXV11113XXl5+dtvvz1hwoQLGUsHDRoky7JhGPAUGzBggG3boihyHIeYr+Xl5ReGtSsrK2fPno07s3r16ueee+706dOf/exny8rKXnnllYKCAoi04zhvvPHG888/D08xRVFKS0vXrFmDgXdd1z/96U8j2kn7qvyJX0mkU38nSKRTZ0UliQARuPwIdINI19bWjhgxIhaLPfPMM7feeuuoUaOGDRtWXl5+6NAhWNIQvGSLduLEiffcc8+sWbMGDhx44MCBxsZGjuNmz579tZbNsqxbbrklLy/v+uuvHzBgAE6MxWLwDrNtW1GUa665RtO0M2fOXBj3zsvLu/HGG4uKimzbXrp06Re+8IUFCxY8/fTTlmXNnDnzrrvuqqqq2rBhw5e//OXs7OyBAwdWVVVVVFRMmjRJEIR4PF5aWrp69eqamprPfOYz06dPv/HGG6dMmaLr+pAhQxhjb7755oIFC0RRVFV1xowZX/rSl77whS985zvficfjruvefvvtGPr+hAy3/08S6dRfJBLp1FlRSSJABC4/Al0q0v6yq7KyMlyoqqrq0KFD9fX18Xg8Go1WVlZiCfX+/fvB7v3335ckqa6uThCEysrK48ePY7y3oaFh165dgiAcPHgQJcvLywOBwM6dOxljiI4iSRKCsbuu+84778B7QNf1ioqKM2fOwFC2LOvw4cN79+6trKyUJKmpqenAgQOIarJ///7y8nLDMCRJamhoCAQCGGQ+d+7c2bNnsdr78OHDoVDo2LFjjLG3334bLRk7diycDHbt2lVZWVlWVvb+++8j0cvPf/5zsqS79K0gke5SvFQ5ESACPUygS0WaMYY5aT/0B+JlYj2VH9ETEbvi8TiWaWHsGp56iLktyzJ86aG7mqadO3fO8zyspDp69OjEiROLiopKSkqmT58+Z86c06dPw3+e53mY15gktm0bkUz8BV1YAwYImNXGPgbPpZYNdwgRTP0V1bque56HIKOPPfbYiRMnZFnGzDSispim+f3vf//dd991Xbd9u/niX8mSTv2tIJFOnRWVJAJE4PIj0KUijTXK/lo1vmVjjMXjcUmSkK9MEAQ/GraiKLIsnzt3DhyRottflR4Oh1GhL7GMMV3Xm5ubKysrq6ury8rKNm3atGvXLljw9fX1iJ6dSCRUVTUMA/YudBpRUNAYz/P8i0YiEXwuQOZ1XRcEged5x3FwOkJ2G4aB1dXNzc26rtfV1aHNkUgEdrmu6ydPnkSxi2W4/SMk0qm/SCTSqbOikkSACFx+BLpUpGHFxuNxwzCQTkpRFGg2hBBrtGA6JxIJ/ATxkyQpFAp5nmcYhh83FLG7EXoTWTFgvPI839zc7BviMGoZY1gYbdu2H2EUti9kXhAE7KiqioltP+qn53mo0zAMxGyHZiOqiZ/tCnm94DUmSZKiKJZlIcJoIpEA22g02r4kX/wriXTqLxKJdOqsqCQRIAKXH4EuFWlYukhu4TgOxpZFUdQ0TRRFJK0yDEMURd9shYpjYhhTwhDOQCCAMnDRQrZKwzAURUHwTsRqjUQiCMQtSRIGwyVJgmmLv37AEyyvQgZMXddt25ZbNtM0YXlDbiHeGPfGR4CqqpZloYWYb47H42gbOqgoSjgcxlC/aZpIxXGxErdzhEQ69ReJRDp1VlSSCBCBy4wAbFbGWEZGhmVZ+Kdt214bm2VZ+fn5iCPmeZ6qqpqm+WuCkcyxO/+apomBaKSMxNJnBFqBURuPx1VVxWSzpmmKoriuC9WXJAnuZrFYzDRNVVVhf8O4R+zP7uxL8rUSiURxcfGZM2fQLwyzM8bauC0dPozHFN832McXw2X2+LY0l0T6crxr1GYiQAQ6RmD8+PHQAP9vW+ffcccdPM97nmfbdiKRQPbGZIHpzn00EuHMTNPEgmlFUVRV9aecYQrLsgzZ1jQtHo+LolhXV7dixYpp06b53tcIcoJZZEQz7c6+JF/LcZzx48c3NTX5vfDjwbV1Xzp0vJ2gch2qpzcUJpHuDXeB2kAEiEBXEcDg8C233AIXa1ymLdOMMTZx4kR4aGNyF9PDyQLTnfuqqmLNFZqEkGSKomCmOR6PX1icbds2xr39MvC+XrhwYWlpaV5eHuJ+w/5GBi2MEGCUvju741/LNM0777yT53ksG/Pdxdu6Lx09juRd/iOltmz+Py+vHRLpy+t+UWuJABHoAAE/wyOkF2f6ztgXV2RZ1p133onRY9d1BUHw55V9genOHbSQ47hEIuG6LmKCogEYynYcB6u2YrEY37LBWxvpLysqKkpKSqLRKOanP2FDwyG8O7vjX4sxlpOTIwgCxgYw4X3x7bjEI/iUudwDjpJIX+JjQKcTASLQqwkoiqJpWl5enm9uCoLQlmXGGJs2bZogCMlZnGF9+gLTnTvwz7ryyisRAJwxtnv3bo7jBg8ezHHcsGHDdu/ePWzYMI7jrmrZkJ8K67PD4fCxY8fy8/NhVlqWhfVdmqZh0Reih3Znd/xrRaPRnJyc48ePwykdo9Pt+Aq0db/aOg5vQYi04ziYEcDfXv2wttY4EunWqNAxIkAE+gQB3yNp8uTJBQUFd9xxR0ZGRnFxcXYbW35+/rXXXssYwxSvqqoI+uGrSzfvILQIx3F+hmk4hWHoHoZ1OBx2HCcejyOgSlNTk2ma8PHeunVrXl4elmt7ngeHOARRQWrqbu6OfznG2De+8Y3vfOc7eXl5Y8eOveeee/Ly8saMGdPGbenw4XHjxk2aNOmuu+6aMGHCzJkzZ8+eDSCX40NNIn053jVqMxEgAh0jgLVDjDHHcaLRaFsWmKZpBQUFsixjATQGk7GU2ReY7tyBJI8YMQLLuhzH2blzJ/fxNnz48O3bt19zzTUcxw0ZMuSqq65av349PLAQQPTIkSP33XdfIpFAmBTGGFzc4UHWg8PdWIJ17NgxP0YKbk1b96Wjx/2Hw3GcCzPfc+fOhYu+f/wy2iGRvoxuFjWVCBCBDhNApA6kq0plejI3Nxd+VY7jQBp7cLgbYUOQFwuRSRCDE98QCIFi27YgCBjVRwAynucty5o7dy7UfNiwYR999BHCpCA5BxJxmqbZnR8cydeSZfmb3/wm0oLBawwD1B2+u22fgEEULLq744478BHQdvHe+wuJdO+9N9QyIkAEup9AVlaW1rJZlqWqKlYYG4Zh2zZctARBgABIkoQ1xxf/xYmGYfgro2zbxjpmRClB4JFYLGZZlh8WVNM0TCdDa2HvMsaCwaDrugj4heBfqAqmsGmauq4rLZumaYIgwDMORxC6RBAEdAqhxwRBwPBvLBbDMDhilyZ7lvlj5n6MFMQJd13XcRx4saESeKWpqgo+iqJIkoSc3BeTwRFN0zIzM0OhEPJ4/p/r4jr3GED4XdfNzMzsokt0rmEdOotEukO4qDARIAJ9nECrIg3BRiguiF80Gm1fpLHACdIIZVJVNRQKwV0LprAsyxh/xug0pNf/RNB1ned56C4GsREyDKPWiM5ht2wIEGYYBnzEhJZY3HCZxuAB/NURGgVhxQzDQFBu13Vt29Z1HVPXkFg4h+MDBUf8uy6K4vnz51GtHy0cc+fQeMQ4Q2BREmmfW6d3SKQ7jY5OJAJEoA8SaFWkdV1PJBKQavQZJm9bIoQQKLquY0gZup7sXRyPx7HcGTE14aoGa0+SJM/zkHvDsix4ezU1NWHkVlVVnucNw0DNfgMg7XBc13UdgUgVRYnH4/CahqDCWMd4OMaZBUEIBoORSARj+5B2zIVHIhFcNJFISJKEQXU4S2N9mq7rgUAA0cXx2QFXO/i1wWr3W5i8Q5Z06m8OiXTqrKgkESACfZ9AqyKN0WaMeCPglyiKyG2VrD3+PmxQTdN8kVZV1bZtnueDwSCGgrHuSFEUURQFQZAkCemn/NCeiLaNsWtY1RhPhtxiihcxQTGJjtFv13U9z8OgNErquu4XwFUg/EiWZZqmP1WvaZokSWgPxuqxcAvX9SNrIlo4hBzNw/g2eoQPlHaGGVCAhrtTfJdIpFMERcWIABHoFwRaFWk/OCiEEyPGEDBfmJN3/BloDHrjJ5wFS1TTNHhvIXg1fkIiS8aYoijw87IsKxqNQg4dx8FBpMewbRtDyvgUwIg3ElPyPK+qqj85jZAs8XgcZrFlWaIoQpg1TUNtuq7H43GcAmO6uroa9xtRvi3LCgaDkiThUwDRzeLx+NmzZzHvzhirr6+PRCL+Qq92+JAlnfq7RCKdOisqSQSIQN8n0KpIY7U0RA7xNRHtJFmYk/dhQCOnBcRYVdVYLIY80H5cET/jJMaNcRbyWmKYGuE4YLs3NjbCBDdNMx6PI7EVprEx+g1zWZIkCLCfFhoa72fikiSJ53lZlpubm9FCx3F8NzGkv4RHWE5OTm1trR8zHC5vGE6AwY3m+VmzduzYsXHjRqS1wFhCMpPkfRLp1F8kEunUWVFJIkAE+j6BVkUaaqTrOkzJhoaGhQsXwvEqWXv8fXh3ozx8suLx+MmTJ+fPn9/Y2AjnbUwJI5l0WVnZwoULm5qafLsWXmBQ5aamJqimbdu33XbblVdeGQgERFHEiDTmkjFSjXb6+a/gg80Yg4c2Y+z8+fOIYhYIBL797W+fPHmysbERRrkoiolEYvPmzbNmzZIkqba29qGHHkJW7HPnzn3ta1975513MIjt+7c3NDT86U9/4jjOtu14PP7RRx9NnToVLuuYnPaBfGKHRDr1F4lEOnVWVJIIEIG+T6BVkU4kEljpBKtUluWMjAw/mfQnFMj320ImaUT4CgaDu3fvnjx5MhywMa2LuV5VVQ8cOJCRkYH5XXhg+ePPyJWJlVQVFRV33nmnaZqNjY2SJMEzHJarZVnIVB2LxdavX79s2TIE9w6FQlhkFYlEMKiOpVyu68ZiMZjyjuP4KSjKy8sLCwsNw1i3bl1paakoisePH//ud797xx13HDt2DM5uiGeeSCR+97vfrV27duDAgZhuZ4zddNNNPM+7rot12xeTwRES6dRfJBLp1FlRSSJABPo+gaysLHhjwU41DAMpIGOxGFy6kMK5pKQkkUjIsmya5owZMxA2ZOXKlbquT5069Qc/+MHf/u3fjh49ev369QMGDLjuuusCgcDOnTu/9rWv3XHHHRzHLVq0KJFInD179tZbb+U4bu7cuWPGjHEcZ/DgwVdccQXHcdu2bdM0DQFVYAerqspx3IABAziOKysrwxW//OUvNzY28jy/ePFijuMGDhyIkGQDBw6cNm2a53l//OMfUbKwsNBxnF/+8pdPPvkkx3Fvvvlmfn7+zp07Dxw4gALXXnttOBzevHnzjBkzotHo008//d577+G7IRaLFRYW7t271zAMf6q7qakJCT0RtRTT4Y8++uiOHTv8pdUk0pf+wpBIXzpDqoEIEIG+Q6BVkY5EIjBYMS8ry3JBQYGfAlKSJIQaHTRokKIos2fP/vnPf15XV/foo48+8sgjtbW1y5cvf/bZZw8ePPjP//zPsVjszJkzI0eOPH/+/OOPP75hwwbG2MqVK++9995QKIS0XRUVFTk5ObIsIymI4ziI+3Hw4MH8/Hysk8Z4+E9/+tOXXnrp9ddf/973vicIAhZDV6LPAAAgAElEQVR9lZaW/vznPzcMo7q6+itf+UpjYyNjrKSkZP369aWlpQ8//HBTU5PjODNnzjx48GBtba1lWZ7nLVmypLS09NChQ4WFhRcyeeTm5p4/f/7cuXPNzc2e59177727d+82DIPneV3X0bDz58+bpslxnL8O+4UXXqioqMCSa0yct6rTZEmn/sKQSKfOikoSASLQ9wm0KtJYXBQOhyORCJb/ZmdnI2an67orVqwYOnQo7FFd1/Pz87ds2cIYW7NmzZIlSxhja9euXbVq1datWwsKCjDEnZGRceDAgRkzZuzbt09V1R07dsyaNYsx9uijj3IcN3z4cPwTq5N9h+odO3ZMmjRJVdXq6uo5c+ZwHHfNNdesWLHiF7/4xYYNG2RZRgCvF1988T//8z8Nw6isrJw5cybP87FY7NChQ7/4xS9eeumlNWvWYCQ8Pz9/z549jLF7770XjX/xxRe3bt06b9480zQnTJiwc+dOeHpblnUhZcW+fftkWX7llVcGDhzIcRxc5zzPGzJkCAb2o9Ho0qVLd+3ahdhk7UwHkEin/iKRSKfOikoSASLQ9wm0KtLIqAgDEbE7Zs6cCctVEIThw4eHw+GjR4/+4z/+Y2Nj49y5c/ft2ycIwqpVq/7jP/7jQq6qZ5555le/+tXhw4evv/56nuej0ejnP//5urq6Bx54YOPGjbqul5aW5uTklJeXX3fddYyxN998c/To0ZicjsfjlmXBGXv37t3FxcWiKL744ov/+q//eiGO99NPP/3ss8++9dZbJSUlmqYZhuE4zqJFi372s5/xPH/y5Mlbbrnl1KlTTU1N99133969e0tLSxcvXowQY5mZmVu2bPn3f//3Rx555IJ1/pOf/OQ3v/nNtm3bpk2bdiE0yo9+9KPTp0/HYjEM78+YMePgwYPRaBQrtRABzbKscDg8cOBAnucR3HTBggW1tbWe50Wj0VgshhArrf6lddIpvksk0imComJEgAj0CwKtijTcpKPRKIKOBQKB4cOHDx06dPDgwS+99NLTTz/Ncdztt99+9dVXXxjNnjdv3s6dO1VVXbFixcqVKw3D2LBhw9KlSw8cOHD//fd/6UtfumArv/DCC4yxmpqaW265heO4H//4xzB58/PzOY6bOnXqlClTsGBaVVUk1dB1/cMPP3zooYcSicT58+f/5m/+ZtCgQdOmTVu/fr1t2xfG2JEL64MPPggEAgMGDHjggQcYY88///ynP/3pK6+8cvHixadPn161atWvf/1rWZY1TXvwwQcPHTp04sSJ22+/neO4cePGvfHGG9u2bSsuLhYEYdmyZT/5yU8uBL7esWPHVVddBVP7W9/6FlKVIL7pyy+/7A8hrFixQlGUjIyMM2fOhEIhy7JM02xVnnGQRDrF14lEOkVQVIwIEIF+QaBVkUa8DsSmDoVCF6Z4a2trdV3HumeEHkPWDSypwqKm5uZmROeOx+OIla0oCmZz4aEty7I/MgzpMgzj2LFjjLFYLAapQzDOaDSKmGXhcFgURT/0dyAQSCQSmqZhoNu2bYRCQw04eGHBGNJRY24bmaTREpyL/Fq6rtfW1vrrtRoaGh599FHP8xAJ3DRNSZI0TWtsbJRl2fO8UCjEt2xYaea6blNT09ixY/0A41ipBb/xT/yl4e7U3yUS6dRZUUkiQAT6PoFWRRrBTJBsCjHCsPoZQbbhDa5pWjAYhAtVIpFAGG1JksLhMPQbAUOwoNl3CsPIM9Y6QyN9mXz++ecHDx7McdzVV18Nl2/LshCgVBRFpHjC7DKEPxQKYSccDhuGASFHyHHGGGKhYL21IAimafppvuCMjSyWmqZZlhUKhVRVzc3NxRw8nLoZY/hMwYI0+K9Fo1HETqmtrd2yZcuaNWsQhxzrpD+hzf4/SaRTf5FIpFNnRSWJABHo+wRaFWms/Y23bK7rhkIhhPBEbBMon5+uCkPBcBBD5BDHcWDUIrQn3MEQWgQrjBGnE8uLEc8kGAwipKhpmsFgEHk4gsGgn5kKcTqxcBnfEH4aSqx+1nUdy8Y0TYOTF3qBlWOGYUC/ka4D5jK+PJB+A42BuzhCmvA8j17gn0i/oWmaKIpICoIT4/F4IpFAsHFflT+xQyKd+otEIp06KypJBIhA3yeQmZkJAfbjhUHzPiEz9M9LIUAinfqLRCKdOisqSQSIQN8nQCJ9Keqb4rkk0qm/SCTSqbOikkSACPR9AiTSKQrtpRQjkU79RSKRTp0VlSQCRKDvE2hVpBXa0kqARDr1F4lEOnVWVJIIEIG+T4BEOq1y3HplJNKpv0gk0qmzopJEgAj0fQKtijTW/tLfdBEgkU79RSKRTp0VlSQCRKDvEyCRTpcSt1MPiXTqLxKJdOqsqCQRIAJ9nwCJdDvimq6fSKRTf5FIpFNnRSWJABHo+wSysrJkWUaUEgS2lCQpXeJE9fgExo0bFwwGER2FMYY8Y+l9vBCU7UL48czMzC66RHob3GptJNKtYqGDRIAI9FMCJNK+jnbpDol0ii8YiXSKoKgYESAC/YIAiXSXarNfOYl0iq8TiXSKoKgYESAC/YIAibSvo126QyKd4utEIp0iKCpGBIhAvyBAIt2l2uxXTiKd4utEIp0iKCpGBIhAvyBAIu3raJfukEin+DqRSKcIiooRASLQLwiQSHepNvuVk0in+DqRSKcIiooRASLQLwiQSPs62qU7JNIpvk4k0imComJEgAj0CwKZmZmSJImiqCgKz/OKooi0pZuAJEnjxo0LhUJNTU1YIe26btofL1onnXakVCERIAJEoIcJkEinW5FbqY9EOvWnnCzp1FlRSSJABPo+ARLpVkQ13YdIpFN/kUikU2dFJYkAEej7BEik063IrdRHIp36i0QinTorKkkEiEDfJ0Ai3YqopvsQiXTqLxKJdOqsqCQRIAJ9nwCJdLoVuZX6SKRTf5FIpFNnRSWJABHo+wRIpFsR1XQfIpFO/UUikU6dFZUkAkSg7xMgkU63IrdSH4l06i8SiXTqrKgkESACfZ/AN7/5TVEUeZ6PRqOiKMqynEgkWtGZHj0UDAYZY+FwWFGUUChkmmZDQ4MoioIgxOPxWCzG8zwaKLRsPdrYVi7ued43vvGNUCiEjuCpsm07vY8XrZNOL0+qjQgQASLQwwR4np8yZUo0GrVtW9O0SCQSCoUMw+B72SbLcjQaNQyjoaHBdV3TNBVFicfjoihKkoRIYfjU4HleEIRe1ny+rq6uoKAgGAzW19enXZv9Z4hE2kdBO0SACBCBPkJg8uTJ+fn5t956a1ZW1rRp0zIyMu65556cXrZlZmZmZ2ffeuuteXl5o0ePvvXWWzMzM8e2bFlZWTk5OVlZWePGjRszZszYsWPHjRvXy5qfM3369PHjx4dCIVmW8dw4joPQY2l8jEik0wiTqiICRIAI9AoCiqIwxhKJxOnTp5uamgKBgCRJTb1sQ0DNYDAYjUZra2sff/zx06dPN7dsoZYN7Q2FQuFwOBgM9rLmN4VCoY8++kgUxdraWl+n0377SaTTjpQqJAJEgAj0JAFEkFYUpampqbGxUVXVYDDY0NAA/etVfxsaGhKJhCAIy5cvv/nmmxcvXtzc3ByJRMLhcCAQOHfuXGNjY7hla2xs7FUtRzsjkUhTU1NzczPut2ma0NQ03n4S6TTCpKqIABEgAj1PAPOjybOkmqZ1Re6HS+yq53mO45imqapqVlZWYWHhPffcU1dX51drmqZlWYwxz/M0TfOP95Idv0kY4hYEwT+SxhaSSKcRJlVFBIgAEeh5Ap7nWZaFEe9kqXZ62cYYMwyDMbZ8+fKcnJyMjIxx48Y9//zzkiRdDBGK3qt6wBgzTVOSJPQCbSZL+uJ7xxijJVitYqGDRIAI9HcCuq4DgaqqvY2FaZqMsaqqqvz8/IyMjFGjRhUXF995550nT54UBAGttW0b3lhpF7+00ECrvJYNUp32dqJC13UzMzMxqJCWlndzJSTS3QycLkcEiAARuFQCkJ/HHnusoKBg0qRJGRkZWS3bfffdByPb/7DAoPelXu/yPJ9E+vK8b9RqIkAEiMDlT+Cdd94pKCjIyMi4+eabCwsL77rrLsxM79y5E52zWzaMdV/+3e1MD0ikO0ONziECRIAIEIFLJ/DYY4/deeedOTk5BQUFubm5U6dOzc7Onjhx4qxZs2pqaizL8jyvF7q8XXrHU6+BRDp1VlSSCBABIkAE0kZgy5YtK1asOHXqlGEY0Wh0ypQpsizrur5///4XX3zx1KlT/pXSHiHEr7n375BI9/57RC0kAkSACPRNAoqimKYJDR4zZozfSX8S2vcgg1b5BfrPDol0/7nX1FMiQASIQC8i4Hueo025ubmQZETvwl9VVfutPAMLiXQvemSpKUSACBCB/kPAN5c9zxMEYfz48cnBQPzV0o7jwH2s/5BJ7imJdDIN2icCRIAIEIFuJaDrOoa7x44dyxjTdd2yLCiTJEl+MJZPmN3d2sQevRiJdI/ip4sTASJABPo3gb4hQl10DwGHMeY4zrhx4/yxB4ST82Ob+PP6XdSMS6+WgplcOkOqgQgQASLQAwRIpNuC7o8xYLR/4sSJvmZjsAHh2No6vVcdJ5HuVbeDGkMEiAARSJUAiXRbpPwF4kA0ceJERVH8g57nYS7gslifRiLd1l2m40SACBCBXk2ARLr92+MPcWdkZMTjccYY3OsQMNw/1zey/SO9aodEulfdDmoMESACRCBVAiTSbZFykzbGWGZmJuQZPnSu614WNjR6RyLd1l2m40SACBCBXk2ARDqV26Prel5eHmMMQ9y+0/vlMuJNIp3KXaYyRIAIEIFeR4BEup1b0tTUhKAutm1PmDABS9QYY6dPn8ZZsKqTE1q3U1sP/kQi3YPw6dJEgAgQgc4TIJFui10kEvnDH/7gJwQbM2YMxrdrampeffVVBHvBWiwS6bYY0nEiQASIABG4VAIYsx09ejQEu6PV+ZmyPM/z5cr3gu5obb2nvOu6r7766t13352ZmTl//vxvfvObDz/88JgxY0aOHPnGG28kR2fze917Gv+JlpAl/Qkg9E8iQASIQG8nYNu2ruuGYcBAnDp1aiKRQIAOuC6n+Bf9xLAwnJ9N0+ztnU+tfbW1tcXFxQUFBZMmTcrKypo0aVJubu7MmTOPHj2K+WlVVVOrqYdLkUj38A2gyxMBIkAEOkoAxi4UWhCECRMmFBUV3XXXXdkd3EaOHDl9+vSioiLotG9Yd7Q9va08yKxZs2bcuHHZ2dk5OTkjR47Myspav349Rrl1XRdFEc3u3CBEt3WZRLrbUNOFiAARIALpIYAVwJIkQWB8R+UUDWi/GGMsHo8/9NBDCJ+p63rfsKTxERMKhXJycvLy8saPHz9mzJipU6cGg0H8lOzj3cuH90mk0/POUC1EgAgQgW4jkJznCjOsfuCOjraB5/lx48YlC1Xvn6ZNpY8Asnr16jFjxkyYMCEjI2PNmjX4FvEHuh3HSZ6fTqXa7i9DIt39zOmKRIAIEIE0EMAiIti+EB7fRE5xB43Izs5OdhxLQ8t6QRW2bRst29ixY3NycgoKCsLhcHK7HMcxTTP56yT5196zTyLde+4FtYQIEAEikCoBRVGSh6ZN0+y0UZibmwtfKs/zOm2Rp9rubimHWQA407344ou5ubm/+tWvGGPJvdN1HcV6uU6TSHfLI0MXIQJEgAikj4DrutAbz/NEUUxOv5iiDY1i0OaMjAy/acky5h+87Hb8EXtVVRVFKSoqisfjEGM/5Tacyxhjyd86vbCnJNK98KZQk4gAESAC3UEAQpWZmQkBS8XPefbs2fDGyszMzM3NHTlyJNY4ZdGWPgJTpkyZN28eoqSRSHfHm0DXIAJEgAj0QgIdFWnLsubNm9fY2Oj3RVXVpGQWtJseAs3NzXPnzsUkOom0/7DRDhEgAkSgfxHohEjffvvtYKSqaiqWd/8Cmr7eZmdn19fXK4pCIp0+qFQTESACROCyItBRkWaM+SKNpcaWZWmaZtKWVgKyLI8ZM0YUxVgsRiJ9Wb1S1FgiQASIQPoIdFSkHccZN26cZVk4kTHmui7Z0+m7If9bU1ZWVkNDQyAQIJH+Xyi0RwSIABHoVwQ6KtKMsVmzZsmybBgGTEes+3JoSysBxlh2dvbp06fPnj1LIt2vXknqLBEgAkTgfwl0VKRlWcaialThui7WL3Vo3RcV/j8JJBKJSZMmxePxaDRKIv2/zyvtEQEiQAT6FYGOijRjbOTIkVhd7a9F7lfEuq2zOTk5Z8+eJZHuNuB0ISJABHoXAV9jED8SjcNyYUiXH+FZ13Xbtv1oXIib7Wdo6GivPM/zo1HiQh2tIY3lOyHSmZmZfngyz/NAJj0Lj6iWjwk4jpOTkxMIBILBIFnSaXzgqSoiQAQuDwIQY9d1dV2HUCHXgh+6C93QNA2SnByUypdnPw1z6n1Orocxpqpq8idC6vWkqySJ9Mey2Lv+SyKdriec6iECROCyJOBHiPTjXSe7KDuOg7DP6JuvyoIgJB9BfouO9l8QhFgshrNc1+1ZY5pEuneJ88etIZHu6GtF5YkAEehrBOyWDb1KzqPM8zwO2rat6zpGxZMl3LIswzA6La7JVSHuYw+SJZH+WBZ7139JpHvwpaBLEwEi0CsIyLIMvdQ0DdPPvqNycvts2xZF0Z+rNgwjEolgpLoTw93+PLeqqrDLPc9D5ckX7bZ9EuneJc4ft4ZEutteAboQESACvZSAb9H6Gulne7QsC8Pd/k+I2pHck85li4IoJp9bX1+fXG0375NIfyyLveu/JNLd/CLQ5YgAEehdBPxpZjTLMIxoNOrHz8Kvx48ff/XVVzF/DCNbb9kYY8h84PuHp943qL5vgsfj8d/97ncwzVOvJI0lSaR7lzh/3BoS6TQ+5FQVESAClx8B+HyZpgl7+r333tuwYYN/kDGmadqyZcu2bt3KGCsoKGCMSZK0aNGi+++/PxAIoMMTJkzoRM9PnTq1YMGCe++9969//Stj7PXXX//jH//YiXrScgqJ9Mey2Lv+SyKdlsebKiECRKCrCGCmFhZtstWbvC/LMjRm6dKlNTU1yU5YMItR2HVdf2FVq7bv008//dhjj+Xl5SV3JhaL3XbbbTiyc+dOxtj+/ftHjRpVVlYGkfY8b//+/bZtJ49d+0Gt/UujhajHcRzDMIYMGfLmm2/u3LmT47hAIBCJRKZNm5Z86e7c76hIe56XnZ1tmqZlWa7rGobhui5c8OhveglkZ2fTOunufBfoWkSACHSAAAzcZIX793//940bNy5ZsiQcDn/44YfTp09/+umnLct6++23Bw0a9NWvfnXbtm1vt2yu60YikZ/97Gemab700kt/+ctfSkpKbNv+/ve///vf/37SpElr165FU2A6C4Jw6NChkpISrJmOxWJYl5WdnY0g1d/+9rcdx8nNzR0yZIhvPTuOM336dNQDnfZb63uHMcYcx0EMSMj22bNnH3nkEUS9/sEPfrBly5ZYLPapT32qA2jSWpREOr3KmsbaSKTT+qRTZUSACHQBAdu2TdOEuTZkyJBly5Zt27bt7NmzGRkZ5eXl//Vf//Xggw+eOXNm1KhRH374YWNj46qWjTG2c+fOMWPGMMZyc3O/+93vnjp16v+P3MRxTz755LZt22666abjx4+jvZgk3rNnzycs6ZqamgkTJuDXCycKgvDaa699/etfr66uZowZLdvgwYMxOc0YO3HiRElJSXZ29qRJk+bMmXPkyJF58+ZNnjy5uLj4W9/61vvvvw+Lc9euXc888wwuvWzZsg0bNiCVQhfAS6lKEuk0ymp6qyKRTukJpkJEgAj0CAHYnY7j2LYNq5rjOBisL7/88j/8wz/MmzcvPz9/0KBBjLGZM2ceOnRIEIQNGzY8//zzjLHKysp/+Zd/EUVx8uTJ1dXVqO3Tn/404lnOmjXr8OHD0Fp4cR8+fNgfczYMQxTFXbt2PfDAA2jAgAEDGGP79u0rLi5mjPkrtTju/4nYuGXLlqqqqurqalS+c+fOo0eP7t+/v6ysLBQKwVnso48+Wr58OZAuXbp048aNtm2j2h7hTCKdXmVNY20k0j3yRtBFiQARSImAbdv+8idILBRRVdVNmzaVlJQcOHCgqqrq8OHDruvm5eXBw2vdunVLlizRNG379u1ZWVmMsZKSkm3btkFWfU3NysryLWn4iFVWVt53333hcBiRqBljjY2N8BczTRMn7tmzZ86cOQhjgrlt/7tB1/Wqqqpvfetb06ZNKyoqKiwsrK6unjx5clFR0YUPgilTprz//vvodnNz8xVXXIEZ96ysrObm5ng8/vWvfz0lKF1QiEQ6jbKa3qpIpLvgeacqiQARSCsB2NCKovA8f/3118fjcfheXXvttffee++4ceN++9vfiqL429/+9qabbtq8eXNDQwPHcffdd192dvaMGTOQ/LiqqgqiOHz4cF3XRVF85JFH9uzZg48AVVUXLVqUl5fHcdycOXPq6+shwLFYDNqsadqVV17J83xNTU1eXh5UzRdpiLrjOJZllZWVVVZWVlVVHT16NB6PHz16tLa29vjx4/v27Tt79qy/lGvBggVf/OIXs7Ozf/jDHyK62fXXX59WbB2ojEQ6vcqaxtpIpDvwHFNRIkAEup+A4ziwgHHpDz74ADumaSYSicrKytra2n379iH415EjR+LxOGOsrq7u2LFjcMZmjB0/ftx37d6zZw88wE+ePInC0Onq6uoDBw588MEHJ0+edF1XkiRo8Pz58+vq6hhj27ZtY4zB6vUTQGEAHEurUY8fyhvfFtFoVFEUz/N8PzKs8mGMlZWV1dbWojvl5eWPP/549+PFFUmk0yir6a2KRLqnXgq6LhEgAv83gWR59sUPwbRxMpQvWcihu/gVwgytxWQw/sKtGkLLGPMDc/pT4L6ftm3b77zzzhtvvOG31Rd7/wgWXFmWBVVGtY7juK7r5+1AYdd1cRy5HXEQzfvxj3+Mrwq/2u7cIZFOr7KmsTYS6e58EehaRIAIXB4E/IXOjDFZlqPRqB8dLF0d8O1pLOAWBAHZMNNVf4fq6bRIIw6MpmnwwLfa2DzPw1yAKIpAqmma/x1jWZaP1087hu8Y/8vMLyDLsuu6fiIyPxCN53miKOKrDlfBB5z/vYWAbkgHjhXe+J7DhxS8HxzHkSTJv5Zpmqqq4ttLEATXdXF1sEU6Fr/B+NrTdR3lTdNE4/2Q722wae+wbdtZWVmBQCAUCv0/3okdurtUmAgQASLQhwnYtq1pGv5fn65uQrR8nzisy/L/ma6rpF5PV4u0KIoYpUjWV0VR/CENxhjP85C3UCjE8zzU1LIsVVWhr5Zl+enIXNf1h0yi0WgsFvOVNRaLYVW6aZqRSMTzPEmSMOsvCIJt2xBvX/5FUVQUxXEcX/gZY8Fg0M8fiuuibUj7bRiG/2GBBOTxeNz/xoJ443MBXwCqqkqS1J4at/EbiXTqzzCVJAJEoN8R6DrVxLg3pLE3YO1qkfbnFBhjiUQC2uy0bLquwxi1LMtPD+o4DqYVPM+D2hmGYds2lFhRlFgshi+bZEM2FAph7oDneV+DgReehr7MI+MZz/OCIJimiQ8Iz/N0Xed5Hh9k586dg6hDreFsCFC6rkN9YbL73wSWZSmKgtPxYSFJUigUQjRZxlgbWtzmYRLp3vB2UBuIABHojQQw3Ar7Ce1Lo6Yi+pjfbbidd903gX+htna6WqQty0KI1vPnz6MNqqr6ossYC4VC6H4ikYDUMcYURWlqasKSdCxVT74FvhY6jnP+/Hn8E9YwtFzTNM/zgsGgaZrwBMRIOz4OfNowrOPxuNyyITwc1Bf7iqKgQn84HQsN0BFBEPArz/Nbtmz561//Cl8Ex3FgQDPGli5dik+TNtW4jR9IpNt6Yuk4ESAC/ZoAjCdfO5O1Ib1c/Etgyja9ladeW1eLNBTRMIzZs2c3NzejYZCxRCLh++LBo57neUmSsKrtwQcfxPwxLGb4B8BzcMaMGckz0Ail7jgOJBOWt2EYb7311vz589977z1c1FdfTdOam5sNw0B7YA1jjQB8+LFKHmRM0/Q8b/v27W+99ZafrMwX7+zsbITEufvuuzVNk2X5wIEDubm5jz/+eCAQkGX5L3/5y8aNGzsx4k0infozTCWJABHoRwQw/okO+//7TmP/fdVPNqn9g2m8UIpVdbVIw00sFotdffXVUFZYrtA2SCPmoX3BVlXVdV0/8gwMa788Y4zjOFEUMayNs3z5tCzLnyHmOG7Tpk2BQEDXdVmWMZPth3FFY86cOfPss8+apomvBNSGZwCz4Nj/6KOPTpw4gRH7WCyGOLXRaJTjOEmSmpub58yZo6pqXV3dP/3TP7355puvvfbaV7/6VVVVT548iQA4bRjMbR4mkU7xAaZiRIAI9C8CyaPc/riov3PpLPyqfB/vS6/zUmroapGGd5VhGMOGDZNl+fXXX587d+6MGTNWrlxp2/Yf/vCHV1999ZFHHnnooYckSXrwwQcfeOCBvXv3QonXrl1bWFj4xhtvYMb6qaeeKikpWbRo0fDhwzGSPHHixGnTpm3evBmr1TVNg7l8YWb6qaee+uIXv1hQUHDo0KFp06bNnTu3pKSkpqbGdd3q6urx48eXlJRs3rz5pptuGjp0KELLCYLw1FNPFRUVPfLIIzzPnzp16ve///2TTz752muvbd68eceOHbW1tSUlJUVFRQsXLkTEuiuuuIIxdiHa3bPPPhuLxVavXv2HP/yBMRaJRG677baGhgZ8bSBVWpuC3NoPJNKX8lTTuUSACPRZAr6IYpkQ+gmnpLT02TeasaAWdSab72m5SuqVdLVI6y2bbdscx5mmGQwGy8vLKyoqbrjhhhMnTvzyl7/8/Oc//+c///nf/u3fOI7bvHnz+vXrkVuM47h169bt3bv35ptvLisr27p1a1FRUVlZ2Zo1awYOHBgKhZqamvKhFMkAABO/SURBVD788MMdO3ZwHIdeyLIM+1iW5ZqaGo7j9u7dq2najh07Dh8+vGLFivnz58fj8WuvvbaiomLbtm11dXWvvvrqqFGjKioqPM+7++67161bd+TIkccee+ynP/1pRUUFbPHy8vK1a9cuXrzYdd3KysqtW7cuX758wYIFkiTB3H/22WeRKGXZsmXIaiqKYmFh4cGDBx3HQUz41oS4vWMk0qk/w1SSCBABItBnCXROpA3D0HUdq6SwNglu2xf/1TQtGo2qqjpixAjbtg8fPvzcc89NnDhxwIABFRUVpaWlSBt6IaJqUVGRbdt79+4tLCyEJY055sWLF2/cuPGll15CScMwOI5TFOXQoUPz58+fPHkylNJ3OsOiL1mWYeYi2PuECRNGjx5dXFy8e/dupDvDhHdFRUVRUREcx5LrKSoq2rJly7333qsoiq7rK1euXLVqlWmaf/7zn4uLizMzM6dPn64oyuDBgyORyIYNG9atWxcMBteuXbtv3z6MnM+cObOmpkZV1RkzZliWdTGZ9o8YhpGTkxNs2WiddJ99/ahjRIAIEIH2CXS1SCN/CUT3wpzuE088sWTJkiNHjowbN+7IkSPLWrZEIlFeXv7AAw/E4/EjR45Mnz79zJkzn/vc53ie1zTtueeeW79+fWlp6caNGxsaGjATjAo/+OCDioqKq6++ur6+njHm+2CLomgYxpAhQwKBQF1d3XXXXVdeXv72229PmDChurp66tSp0WgUU9qnTp0aO3YsQsUNHToUUWC3bNny3e9+t6qqqqioCPRWr1793HPPnT59+rOf/WxZWdkrr7xSVFRkmuaQIUMkSXr77bdffPFFxtif/vSnhx9+GMPdHMdh/vuLX/xi+3rc6q8k0u0/t/QrESACRKBfEOgeka6trR0xYkQsFnvmmWduvfXWUaNGcRx36NChlStXLl26FFHQc3NzGWM7duxA4s6/+7u/u+GGG6ZMmXLNNdc0tmwcx82ePftrLZtlWbfcckteXt71118/YMAAKG4sFoN3mG3biqJcc801mqadOXPmwrh3Xl7ejTfeWFRUJElSYWHh7bffXlBQ8NZbb9XX1//93//9+PHjGWPPPffcF77whfHjxw8YMODCvHV5efmkSZMEQYjH46WlpatXr66pqfnMZz4zffr0G2+8ccaMGfF4/FOf+pTnee+8887DDz9s2/apU6c4jhszZsztt9++adMmz/N4nr/uuutc121Vids5SCLdL14/6iQRIAJEoH0CXS3S/rKrsrIyOOVVVVUdOnQoFArpul5fX9/U1NTQsp08edK27cbGxpMnT0aj0cOHDwuCsH///oaGBnShoaFh165dgiAcPHgQR8rLywOBAKaBkWRMkqRIJGJZluu677zzDjy9dV2vqKg4c+bM6dOnceKxY8cOHjx4wbWbMXbixImamhp4nJ07d+79999HBDRBEE6dOgUfhXPnzp09e5Yxdv78+cOHD4dCoVOnTjHG3nvvPfgTjB49GkurI5EI2iyKomVZR44c+cEPfkAi3f5DSL8SASJABIhA6wS6WqQZY5iTDoVCftIRVVWVls0P8IlRcai4n4wEEUgQQ1SWZcghdFfTtHPnznmeh0gpR48enThxYlFRUUlJyfTp0+fMmXP69GkEOeF5HldxXdcwjFAohCxqCBoKbcaiL8/z/PbwPI/BaqllAzvTNPEpAG9ztARfIQ8++CBmoDH9jIXgjLEFCxZs27YN0c3asZsv/oks6dafVzpKBIgAEehXBLpapLFG2Xdf51s2LI9G4E/DMBRFSSQSsVgMogsbFPFBEaIEEbMZY+FwGBUm+9vrut7c3FxZWVldXV1WVrZp06Zdu3ZBO+vr6xOJhOd5iURCVVWcFQwGGWOe52mapuu667qxWAxBVBhjsVhMFEWotW+IC4IA8xpBymRZhncYnMmbm5tFUaypqcGnxoVRffS3umXD43SxDLd/hES6X72G1FkiQASIQOsEulqkoXbxeNwwDKSTUhQFGoYgYpIkoQ22bcOutW2b5/lYLIbQIrBNkTwDIooh6EAggDJIV8XzfHNzM1QTJjgEFXFObNuGNvtxwqHEsLaBBtFL0AbETlEUBbHJoOgojKgmlmX5lr0/Iy6KIkYLwuEwRgXgQx4Oh9uX5It/JZFu/Xmlo0SACBCBfkWgq0WaMYal0oZh+PmmRFHECDAyTyC5BTQVwTVhaiNtaCKRgOAFAgHIpCiKKGyaJgxxBO9E0slIJILha0mSMBguSRJiiyYSCQgqz/NQeuQJ1Vo2PxlXMBhEAjRUiFMw7o2PAFVVNU1zXReBz2D0+98HMOJd18UO4qldLMPtHyGR7levIXWWCBABItAmAVVVMzIysAwJ1iESVCBw6Sf+WpaVn5+POGKe5/lyZfTQZpomxNUP+o2QJhBOy7Li8TimwDEW7U9pYxG2qqoQcqzgUlUVqbFg9yODVg/1jNZJt/nE0g9EgAgQgf5FYOzYsZ7niaIIm7X9zt9xxx2wDm3bhm2qaVpPKRmainBmpmliwbSiKKqqIvEGTHnfBw3D1KZpCoLw2muvDR8+nOO4RYsWoe/oBTJXyrLcU53CdSmYSfvPIf1KBIgAEej7BHRd9zxv1KhRyV1FHqpP2ND4J2Ns4sSJGI5GvmTGWCAQ6Ck9U1UVa67QJH8uGT5i8Xgcbly+uYy1y0hBxnHc0aNHE4nEtddee+jQIcg5BtJhUsPXrKe6RiKd/EzSPhEgAkSg/xIYM2YMOu95XrIv1cVELMu688474dLluq4gCMgV1lNKhhZyHJdIJDBJjDClhmFguZTjOBjijsViPM+j5eFwePPmzY8//jhmphcvXvz73/8eY/gYBhdFEcmhe6pfNCd98bNHR4gAESAC/Y4AXK7mzJnjm8VwJWvVjMZP06ZNEwQhOYuzr4vdL2lYzXzllVcyxiDGu3fv5jhu8ODBHMcNGzZs9+7dw4YN4zjuqpYN8TsZY7t370Yw8GAwuHz58tWrV+u6bpom5uPhrdb93Um+IlnS/e5tpA4TASJABC4mYFlWYWHhlClTRo4cmZmZOWHChLFjx2a3seXn51977bX+FK+qqoiYnawu3bnPGON5PjnDNCKNuK6r6zqSbWBBVDweD4VCiqLE43FJkvbu3btw4UJo/KJFi9566y24Z1uW5ThOz3YKAEmkL35W6QgRIAJEoH8RwNxtOByGlYzOY+1Tq8a0pmkFBQWyLGMBNAaTPc/rTmFOvhYkecSIEVij7DjOzp07uY+34cOHb9++/ZprruE4bsiQIVddddXatWvR5dra2uHDhzc2Np4/f/6WW26pq6szDANRySzLQpqv5At1/z6JdP96Fam3RIAIEIFWCSTLM0J4tlrMP5ibm4uVV7A4NU3rweFu13VVVUWWSUEQILSmaeIbAiFQbNsWBEFRFE3T/CCjlmW98MILgwYNGjp06KuvvoolW5qmSZIEZzqMfne/NvtXJJH2HznaIQJEgAgQgVQJZGVlIfoH8kmbpqmqKiKWdN1fWLe4rmEYiARiGAYChMmyjCgo8M1GUDOE+8b3hOd5WD+tqqosy8gSjVhmvtGMklD35uZmX6q7rlPt1KyqalZWVnNzczAYpHzSqT6aVI4IEAEiQAR6RKQlScLqZ/XjDZYuZseRQBq+YxByTdOwjErXdXxDYD0V/mmaJpZBI2SYrutwBYezN24xwpS2o6Nd+hOJNL1oRIAIEAEi0BkCPSLSsJVhQEOAfWdseGJjZBtGtizLqqpiEB4muCzLsJvhv434YggSbts2Vp1FIhGkzEKeD5jjXarE7VROIt2ZR5POIQJEgAgQgR4RaczU+qPc0Gnku0RsbV3XEU/bNE1kirRtW5IkxPdG0FAMaMuyjLxYyFaJ5BmoELFQ4OaNmex2dLRLfyKRpheNCBABIkAEOkOgp0Q6eTrZMAys/rJtW1EUWZZd14VmRyIRXz6RisOfdZYkCZUgF5bjOLquW5aFdJaSJGFCGpmqsXDLr6qbd0ikO/No0jlEgAgQASLQUyIN32xMLVstG6aWPc8TBAHj4Ri4liQJmo2oYX7qKsuydF13HMdfZIWc1shgjdChwWDw7Nmzbsvmz1h3s0Jj4pwcx+hdIwJEgAgQgQ4T6BGRxgw0PMkFQUCAT/wTuargjL1r1y6Me+u6jkAlyFPpeV4wGPQ8LxwOW5YlCIKu642NjXBQ9928Kysr8/Pzc3Nzz507xxiLx+PdL8+4IlnSHX4u6QQiQASIABFgjPWISENWDcNIJBLnzp07c+ZMY2NjIpFQFGX37t3Hjx/XNI3n+bvvvvvXv/51Y2Njc3PzyZMnGWNNTU2nT58WBOGjjz7Sdf3o0aPhcLiuri4SiRw4cCAej0ejUdd1sbR6w4YN//M//zNz5kzGWHNzM8bDe0SnSaTpXSMCRIAIEIHOEMjKykKGZsMwsJAJy467Wszi8TiWSH3pS1+64YYbHnrooXA4nJmZOXny5K985Stvv/3266+/znFcTk7Of//3f+/Zs6egoACOY0OHDmWMjR8/Pjs7u7i4OBQKffWrX73hhhvuvvvuwYMHNzU1Ic6J53mKovz1r3+dPXt2IpHgeR6xRbu6X63WTyLdmUeTziECRIAIEIEeEelwOAzJDAQCI0aMCAQC4XD4lVdeKS4u3rt3765duz73uc8xxvLz8/fv329Z1t69e6dMmeI4TiKR4DguEonMnTv33XffVVX1/PnzgwYNOnjwoCiKM2fO3Lp1K1ZkKYpiWdaBAweKi4vhH94NQVpaVWiak6a3jAgQASJABDpJoEdEGkFLIpEIYwxBQHVdX758+ahRoyZNmlRSUjJv3jye52fPnr1582ZN0/bu3VtcXAxfMI7jPM/LyMioqqrSdV2W5YEDBzLGLMuaOXPmX/7yF8uyNE0TRVGW5f379+fl5UmSZBgGxtjb0tEuPU6WdCefTjqNCBABItDPCbQq0n6cry7aSSQSyF2NSN2RSERV1d27d48dO7asrOzdd989f/68ZVnz589/+eWXz507FwgEOI579913N2zYwHEcz/MzZszYvn07fMQ4jrMsKxqNzpgx48CBA4heruv6wYMHX3755aysrK1bt/I830V9SaVaEul+/pZR94kAESACnSTQIyIdjUaxvKq+vv7RRx/158Jfe+214uLi+++//4c//GEikaiqqpoyZcq7774bjUa3b9+en5+/ZMmSF154wXXdNWvWVFRUYB1XQUGBqqqJRGLp0qVVVVWxWExRlObm5ueff37atGmjR4/+3ve+d/z4cWTWSkVT016GRLqTTyedRgSIABHo5wRaFemPI2p31X8ZY4hVApcuWZaxSooxVltbK0kSYywSiWialkgkGGOO4yAyiaqqzc3NiUSisbERcUAZY8jDIYoitB9xQDEzjdOrq6vhR9ZV/UmhXlon3c9fNOo+ESACRKAzBHpEpCORiCiKflAwJH7WNM2PFwZJlmVZ1/VgMOi6bigUikajfqYsBClzHKepqckwDJ7nVVV1XTeRSOi6jjSXiqJApEOhkGVZiAGegp52SRES6c48nXQOESACRKCfE+gRkUbckkQiYVmWJEnRaBSe24qiwOSNxWI4qCiK4zimaUJu4RQWj8fllg2O07quG4aBpdXIis0Yw4JpREpBSDJEFe0SBU6hUhLpfv6iUfeJABEgAp0hkJmZiXDZuq5LkgR/aYxF0990EaA56c48mnQOESACRIAIkEinS4nbqYdEml40IkAEiAAR6AwBEul2xDVdP5FId+bRpHOIABEgAkSARDpdStxOPSTS9KIRASJABIhAZwiQSLcjrun6iUS6M48mnUMEiAARIAIk0ulS4nbqIZGmF40IEAEiQAQ6Q4BEuh1xTddPJNKdeTTpHCJABIgAESCRTpcSt1MPiTS9aESACBABItAZAllZWbIsS5KkqqogCKqqSpKEUCH0N40EMjMzm5ubg8Eg15m7ROcQASJABIhAvyRAIp1GJW6nKhLpfvl6UaeJABEgApdGgES6HWVN408k0pf2nNLZRIAIEIF+SYBEOo1K3E5VJNL98vWiThMBIkAELo0AiXQ7yprGn0ikL+05pbOJABEgAv2SAIl0GpW4napIpPvl60WdJgJEgAhcGgES6XaUNY0/kUhf2nNKZxMBIkAE+iUBEuk0KnE7VZFI98vXizpNBIgAEbg0ApmZmZIkiaKoKArP84qiiLSlm4AkSZmZmcFgMBQK0TrpS3tg6WwiQASIQH8iQCKdbkVupT4S6f70SlFfiQARIALpI0Ai3YqopvsQiXT6HliqiQgQASLQnwiQSKdbkVupj0S6P71S1FciQASIQPoIkEi3IqrpPkQinb4HlmoiAkSACPQnAiTS6VbkVuojke5PrxT1lQgQASKQPgIk0q2IaroPkUin74GlmogAESAC/YkAiXS6FbmV+kik+9MrRX0lAkSACKSPwMiRI2VZjkaj/t9EIsHTllYChmHcdtttkUgkFovROun0PbxUExEgAkSgTxNQVbWgoCCRSJim6XleIBAIhUK6rku0pZVAJBKZMWNGMBgMBAIk0n36laLOEQEiQATSSmDixImTJ0+++eab8/LyCgoKMjMz77777kza0kpgTMsWDAZVVSWRTuvzS5URASJABPo0AUEQGGORSOR8yxYKhWRZjtCWVgKGYZw6dSoYDJ45c4ZEuk+/T9Q5IkAEiEC6CTiOU19fHwgEotFoc3Pz2bNnG2lLK4GGhoZ4PB6LxRKJxP8HGZmeuHKB6FkAAAAASUVORK5CYII=)"
      ],
      "metadata": {
        "id": "0pX_QG0JWafW"
      }
    },
    {
      "cell_type": "markdown",
      "source": [
        "# Section 1.13: Recursive functions\n"
      ],
      "metadata": {
        "id": "b7EPMX5eXJzJ"
      }
    },
    {
      "cell_type": "markdown",
      "source": [
        "A recursive function is a function that calls itself in its definition. For example the mathematical function, factorial,\n",
        "defined by `factorial(n) = n*(n-1)*(n-2)*...*3*2*1.` can be programmed as\n"
      ],
      "metadata": {
        "id": "AepwnGu3XS76"
      }
    },
    {
      "cell_type": "code",
      "source": [
        "def factorial(n):\n",
        " #n here should be an integer\n",
        "    if n == 0:\n",
        "       return 1\n",
        "    else:\n",
        "        return n*factorial(n-1)\n"
      ],
      "metadata": {
        "id": "ZTPP-79QXWBL"
      },
      "execution_count": null,
      "outputs": []
    },
    {
      "cell_type": "code",
      "source": [
        "factorial(0)"
      ],
      "metadata": {
        "colab": {
          "base_uri": "https://localhost:8080/"
        },
        "id": "i3aUE1vtXhzO",
        "outputId": "8819607a-fd18-4999-dbe6-cca1746dcde9"
      },
      "execution_count": null,
      "outputs": [
        {
          "output_type": "execute_result",
          "data": {
            "text/plain": [
              "1"
            ]
          },
          "metadata": {},
          "execution_count": 83
        }
      ]
    },
    {
      "cell_type": "code",
      "source": [
        "factorial(3)\n"
      ],
      "metadata": {
        "colab": {
          "base_uri": "https://localhost:8080/"
        },
        "id": "9t2u_XGlXkpO",
        "outputId": "f64ee3b0-ec99-44b3-d9be-27fd43a32207"
      },
      "execution_count": null,
      "outputs": [
        {
          "output_type": "execute_result",
          "data": {
            "text/plain": [
              "6"
            ]
          },
          "metadata": {},
          "execution_count": 84
        }
      ]
    },
    {
      "cell_type": "markdown",
      "source": [
        "as expected. Notice that this function is recursive because the second return factorial(n-1), where the function\n",
        "calls itself in its definition.\n",
        "Some recursive functions can be implemented using lambda, the factorial function using lambda would be\n",
        "something like this:\n",
        "`factorial = lambda n: 1 if n == 0 else n*factorial(n-1)`\n",
        "The function outputs the same as above.\n"
      ],
      "metadata": {
        "id": "u1Hlhlv9Xpd2"
      }
    },
    {
      "cell_type": "markdown",
      "source": [
        "# Section 1.14: Defining a function with arguments\n"
      ],
      "metadata": {
        "id": "9berRy5CXuCF"
      }
    },
    {
      "cell_type": "markdown",
      "source": [
        "Arguments are defined in parentheses after the function name:\n"
      ],
      "metadata": {
        "id": "tHI2Oh-BXz7S"
      }
    },
    {
      "cell_type": "code",
      "source": [
        "def divide(dividend, divisor): # The names of the function and its arguments\n",
        " # The arguments are available by name in the body of the function\n",
        " print(dividend / divisor)\n"
      ],
      "metadata": {
        "id": "sVSMgOppX2hA"
      },
      "execution_count": null,
      "outputs": []
    },
    {
      "cell_type": "markdown",
      "source": [
        "The function name and its list of arguments are called the signature of the function. Each named argument is\n",
        "effectively a local variable of the function.\n",
        "When calling the function, give values for the arguments by listing them in order"
      ],
      "metadata": {
        "id": "EDgj5Of5X6TS"
      }
    },
    {
      "cell_type": "code",
      "source": [
        "divide(10, 2)"
      ],
      "metadata": {
        "colab": {
          "base_uri": "https://localhost:8080/"
        },
        "id": "aFQHKjoJX7ja",
        "outputId": "d7d75483-01eb-40e5-9c09-9d0208061ce5"
      },
      "execution_count": null,
      "outputs": [
        {
          "output_type": "stream",
          "name": "stdout",
          "text": [
            "5.0\n"
          ]
        }
      ]
    },
    {
      "cell_type": "markdown",
      "source": [
        "or specify them in any order using the names from the function definition:\n"
      ],
      "metadata": {
        "id": "rB78BLxxX_SD"
      }
    },
    {
      "cell_type": "code",
      "source": [
        "divide(divisor=2, dividend=10)\n"
      ],
      "metadata": {
        "colab": {
          "base_uri": "https://localhost:8080/"
        },
        "id": "XNouG-IwYA33",
        "outputId": "f22e14a5-9d26-43ce-fd61-d875d2fbb246"
      },
      "execution_count": null,
      "outputs": [
        {
          "output_type": "stream",
          "name": "stdout",
          "text": [
            "5.0\n"
          ]
        }
      ]
    },
    {
      "cell_type": "markdown",
      "source": [
        "# Section 1.15: Iterable and dictionary unpacking"
      ],
      "metadata": {
        "id": "sNvIMdPxYHzs"
      }
    },
    {
      "cell_type": "markdown",
      "source": [
        "Functions allow you to specify these types of parameters: positional, named, variable positional, Keyword args\n",
        "(kwargs). Here is a clear and concise use of each type.\n"
      ],
      "metadata": {
        "id": "0k8J39vjYMx7"
      }
    },
    {
      "cell_type": "code",
      "source": [
        "def unpacking(a, b, *, c=45, d=60, **kwargs):\n",
        "   print(a, b, c, d, args, kwargs)"
      ],
      "metadata": {
        "id": "EPlcx-ZmYO8_"
      },
      "execution_count": null,
      "outputs": []
    },
    {
      "cell_type": "code",
      "source": [
        "unpacking(1,2)\n"
      ],
      "metadata": {
        "colab": {
          "base_uri": "https://localhost:8080/",
          "height": 211
        },
        "id": "lLqCp0lAYexP",
        "outputId": "1dfdd05f-73ad-4437-f314-8921eef09a4b"
      },
      "execution_count": null,
      "outputs": [
        {
          "output_type": "error",
          "ename": "NameError",
          "evalue": "name 'args' is not defined",
          "traceback": [
            "\u001b[0;31m---------------------------------------------------------------------------\u001b[0m",
            "\u001b[0;31mNameError\u001b[0m                                 Traceback (most recent call last)",
            "\u001b[0;32m<ipython-input-90-0d13ff75b41e>\u001b[0m in \u001b[0;36m<cell line: 1>\u001b[0;34m()\u001b[0m\n\u001b[0;32m----> 1\u001b[0;31m \u001b[0munpacking\u001b[0m\u001b[0;34m(\u001b[0m\u001b[0;36m1\u001b[0m\u001b[0;34m,\u001b[0m\u001b[0;36m2\u001b[0m\u001b[0;34m)\u001b[0m\u001b[0;34m\u001b[0m\u001b[0;34m\u001b[0m\u001b[0m\n\u001b[0m",
            "\u001b[0;32m<ipython-input-89-5b3454a8c4df>\u001b[0m in \u001b[0;36munpacking\u001b[0;34m(a, b, c, d, **kwargs)\u001b[0m\n\u001b[1;32m      1\u001b[0m \u001b[0;32mdef\u001b[0m \u001b[0munpacking\u001b[0m\u001b[0;34m(\u001b[0m\u001b[0ma\u001b[0m\u001b[0;34m,\u001b[0m \u001b[0mb\u001b[0m\u001b[0;34m,\u001b[0m \u001b[0;34m*\u001b[0m\u001b[0;34m,\u001b[0m \u001b[0mc\u001b[0m\u001b[0;34m=\u001b[0m\u001b[0;36m45\u001b[0m\u001b[0;34m,\u001b[0m \u001b[0md\u001b[0m\u001b[0;34m=\u001b[0m\u001b[0;36m60\u001b[0m\u001b[0;34m,\u001b[0m \u001b[0;34m**\u001b[0m\u001b[0mkwargs\u001b[0m\u001b[0;34m)\u001b[0m\u001b[0;34m:\u001b[0m\u001b[0;34m\u001b[0m\u001b[0;34m\u001b[0m\u001b[0m\n\u001b[0;32m----> 2\u001b[0;31m    \u001b[0mprint\u001b[0m\u001b[0;34m(\u001b[0m\u001b[0ma\u001b[0m\u001b[0;34m,\u001b[0m \u001b[0mb\u001b[0m\u001b[0;34m,\u001b[0m \u001b[0mc\u001b[0m\u001b[0;34m,\u001b[0m \u001b[0md\u001b[0m\u001b[0;34m,\u001b[0m \u001b[0margs\u001b[0m\u001b[0;34m,\u001b[0m \u001b[0mkwargs\u001b[0m\u001b[0;34m)\u001b[0m\u001b[0;34m\u001b[0m\u001b[0;34m\u001b[0m\u001b[0m\n\u001b[0m",
            "\u001b[0;31mNameError\u001b[0m: name 'args' is not defined"
          ]
        }
      ]
    },
    {
      "source": [
        "# Install the necessary modules\n",
        "!pip install argcomplete\n",
        "\n",
        "# Import the necessary modules\n",
        "from argcomplete import autocomplete\n",
        "\n",
        "# Define the 'unpacking' function\n",
        "def unpacking(a, b, *, c=45, d=60, **kwargs):\n",
        "    print(a, b, c, d, kwargs)\n",
        "\n",
        "# Enable autocompletion for the 'unpacking' function\n",
        "autocomplete(unpacking)\n",
        "\n",
        "# Call the 'unpacking' function with two arguments\n",
        "unpacking(1, 2)"
      ],
      "cell_type": "code",
      "metadata": {
        "colab": {
          "base_uri": "https://localhost:8080/"
        },
        "id": "l8IJrqNCYpVL",
        "outputId": "50694439-0a4a-40f9-cf5f-3d0d753e3961"
      },
      "execution_count": null,
      "outputs": [
        {
          "output_type": "stream",
          "name": "stdout",
          "text": [
            "Collecting argcomplete\n",
            "  Downloading argcomplete-3.3.0-py3-none-any.whl (42 kB)\n",
            "\u001b[?25l     \u001b[90m━━━━━━━━━━━━━━━━━━━━━━━━━━━━━━━━━━━━━━━━\u001b[0m \u001b[32m0.0/42.6 kB\u001b[0m \u001b[31m?\u001b[0m eta \u001b[36m-:--:--\u001b[0m\r\u001b[2K     \u001b[90m━━━━━━━━━━━━━━━━━━━━━━━━━━━━━━━━━━━━━━━━\u001b[0m \u001b[32m42.6/42.6 kB\u001b[0m \u001b[31m1.4 MB/s\u001b[0m eta \u001b[36m0:00:00\u001b[0m\n",
            "\u001b[?25hInstalling collected packages: argcomplete\n",
            "Successfully installed argcomplete-3.3.0\n",
            "1 2 45 60 {}\n"
          ]
        }
      ]
    },
    {
      "cell_type": "code",
      "source": [
        "unpacking(1, 2, 3, 4)"
      ],
      "metadata": {
        "colab": {
          "base_uri": "https://localhost:8080/",
          "height": 141
        },
        "id": "zsPY8owmYxd3",
        "outputId": "f41d8a5d-e00e-44e3-dae7-e0e409754556"
      },
      "execution_count": null,
      "outputs": [
        {
          "output_type": "error",
          "ename": "TypeError",
          "evalue": "unpacking() takes 2 positional arguments but 4 were given",
          "traceback": [
            "\u001b[0;31m---------------------------------------------------------------------------\u001b[0m",
            "\u001b[0;31mTypeError\u001b[0m                                 Traceback (most recent call last)",
            "\u001b[0;32m<ipython-input-93-abdd89745885>\u001b[0m in \u001b[0;36m<cell line: 1>\u001b[0;34m()\u001b[0m\n\u001b[0;32m----> 1\u001b[0;31m \u001b[0munpacking\u001b[0m\u001b[0;34m(\u001b[0m\u001b[0;36m1\u001b[0m\u001b[0;34m,\u001b[0m \u001b[0;36m2\u001b[0m\u001b[0;34m,\u001b[0m \u001b[0;36m3\u001b[0m\u001b[0;34m,\u001b[0m \u001b[0;36m4\u001b[0m\u001b[0;34m)\u001b[0m\u001b[0;34m\u001b[0m\u001b[0;34m\u001b[0m\u001b[0m\n\u001b[0m",
            "\u001b[0;31mTypeError\u001b[0m: unpacking() takes 2 positional arguments but 4 were given"
          ]
        }
      ]
    }
  ]
}